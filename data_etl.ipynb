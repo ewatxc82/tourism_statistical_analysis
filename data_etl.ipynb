{
 "cells": [
  {
   "cell_type": "code",
   "execution_count": 1,
   "metadata": {},
   "outputs": [],
   "source": [
    "import pandas as pd \n",
    "from sqlalchemy import create_engine\n",
    "from postgres_password import pass_word"
   ]
  },
  {
   "cell_type": "code",
   "execution_count": 2,
   "metadata": {},
   "outputs": [
    {
     "output_type": "execute_result",
     "data": {
      "text/plain": [
       "     CountryName       CapitalName  CapitalLatitude  CapitalLongitude  \\\n",
       "0  Aland Islands         Mariehamn        60.116667         19.900000   \n",
       "1        Albania            Tirana        41.316667         19.816667   \n",
       "2        Andorra  Andorra la Vella        42.500000          1.516667   \n",
       "3        Armenia           Yerevan        40.166667         44.500000   \n",
       "4        Austria            Vienna        48.200000         16.366667   \n",
       "\n",
       "  CountryCode ContinentName  \n",
       "0          AX        Europe  \n",
       "1          AL        Europe  \n",
       "2          AD        Europe  \n",
       "3          AM        Europe  \n",
       "4          AT        Europe  "
      ],
      "text/html": "<div>\n<style scoped>\n    .dataframe tbody tr th:only-of-type {\n        vertical-align: middle;\n    }\n\n    .dataframe tbody tr th {\n        vertical-align: top;\n    }\n\n    .dataframe thead th {\n        text-align: right;\n    }\n</style>\n<table border=\"1\" class=\"dataframe\">\n  <thead>\n    <tr style=\"text-align: right;\">\n      <th></th>\n      <th>CountryName</th>\n      <th>CapitalName</th>\n      <th>CapitalLatitude</th>\n      <th>CapitalLongitude</th>\n      <th>CountryCode</th>\n      <th>ContinentName</th>\n    </tr>\n  </thead>\n  <tbody>\n    <tr>\n      <th>0</th>\n      <td>Aland Islands</td>\n      <td>Mariehamn</td>\n      <td>60.116667</td>\n      <td>19.900000</td>\n      <td>AX</td>\n      <td>Europe</td>\n    </tr>\n    <tr>\n      <th>1</th>\n      <td>Albania</td>\n      <td>Tirana</td>\n      <td>41.316667</td>\n      <td>19.816667</td>\n      <td>AL</td>\n      <td>Europe</td>\n    </tr>\n    <tr>\n      <th>2</th>\n      <td>Andorra</td>\n      <td>Andorra la Vella</td>\n      <td>42.500000</td>\n      <td>1.516667</td>\n      <td>AD</td>\n      <td>Europe</td>\n    </tr>\n    <tr>\n      <th>3</th>\n      <td>Armenia</td>\n      <td>Yerevan</td>\n      <td>40.166667</td>\n      <td>44.500000</td>\n      <td>AM</td>\n      <td>Europe</td>\n    </tr>\n    <tr>\n      <th>4</th>\n      <td>Austria</td>\n      <td>Vienna</td>\n      <td>48.200000</td>\n      <td>16.366667</td>\n      <td>AT</td>\n      <td>Europe</td>\n    </tr>\n  </tbody>\n</table>\n</div>"
     },
     "metadata": {},
     "execution_count": 2
    }
   ],
   "source": [
    "location_csv=pd.read_csv(\"data/country-capitals.csv\")\n",
    "location_csv.head()"
   ]
  },
  {
   "cell_type": "code",
   "execution_count": 3,
   "metadata": {},
   "outputs": [
    {
     "output_type": "execute_result",
     "data": {
      "text/plain": [
       "  Country Name Country Code                             Indicator Name  \\\n",
       "0        Aruba          ABW  International tourism, number of arrivals   \n",
       "1  Afghanistan          AFG  International tourism, number of arrivals   \n",
       "2       Angola          AGO  International tourism, number of arrivals   \n",
       "3      Albania          ALB  International tourism, number of arrivals   \n",
       "4      Andorra          AND  International tourism, number of arrivals   \n",
       "\n",
       "  Indicator Code  1960  1961  1962  1963  1964  1965  ...       2011  \\\n",
       "0    ST.INT.ARVL   NaN   NaN   NaN   NaN   NaN   NaN  ...  1469000.0   \n",
       "1    ST.INT.ARVL   NaN   NaN   NaN   NaN   NaN   NaN  ...        NaN   \n",
       "2    ST.INT.ARVL   NaN   NaN   NaN   NaN   NaN   NaN  ...   481000.0   \n",
       "3    ST.INT.ARVL   NaN   NaN   NaN   NaN   NaN   NaN  ...  2932000.0   \n",
       "4    ST.INT.ARVL   NaN   NaN   NaN   NaN   NaN   NaN  ...  7983000.0   \n",
       "\n",
       "        2012       2013       2014       2015       2016       2017  \\\n",
       "0  1481000.0  1667000.0  1739000.0  1832000.0  1758000.0  1863000.0   \n",
       "1        NaN        NaN        NaN        NaN        NaN        NaN   \n",
       "2   528000.0   650000.0   595000.0   592000.0   397000.0   261000.0   \n",
       "3  3514000.0  3256000.0  3673000.0  4131000.0  4736000.0  5118000.0   \n",
       "4  7900000.0  7676000.0  7797000.0  7850000.0  8025000.0  8152000.0   \n",
       "\n",
       "        2018       2019  2020  \n",
       "0  1897000.0  1951000.0   NaN  \n",
       "1        NaN        NaN   NaN  \n",
       "2   218000.0   218000.0   NaN  \n",
       "3  5927000.0  6406000.0   NaN  \n",
       "4  8328000.0  8235000.0   NaN  \n",
       "\n",
       "[5 rows x 65 columns]"
      ],
      "text/html": "<div>\n<style scoped>\n    .dataframe tbody tr th:only-of-type {\n        vertical-align: middle;\n    }\n\n    .dataframe tbody tr th {\n        vertical-align: top;\n    }\n\n    .dataframe thead th {\n        text-align: right;\n    }\n</style>\n<table border=\"1\" class=\"dataframe\">\n  <thead>\n    <tr style=\"text-align: right;\">\n      <th></th>\n      <th>Country Name</th>\n      <th>Country Code</th>\n      <th>Indicator Name</th>\n      <th>Indicator Code</th>\n      <th>1960</th>\n      <th>1961</th>\n      <th>1962</th>\n      <th>1963</th>\n      <th>1964</th>\n      <th>1965</th>\n      <th>...</th>\n      <th>2011</th>\n      <th>2012</th>\n      <th>2013</th>\n      <th>2014</th>\n      <th>2015</th>\n      <th>2016</th>\n      <th>2017</th>\n      <th>2018</th>\n      <th>2019</th>\n      <th>2020</th>\n    </tr>\n  </thead>\n  <tbody>\n    <tr>\n      <th>0</th>\n      <td>Aruba</td>\n      <td>ABW</td>\n      <td>International tourism, number of arrivals</td>\n      <td>ST.INT.ARVL</td>\n      <td>NaN</td>\n      <td>NaN</td>\n      <td>NaN</td>\n      <td>NaN</td>\n      <td>NaN</td>\n      <td>NaN</td>\n      <td>...</td>\n      <td>1469000.0</td>\n      <td>1481000.0</td>\n      <td>1667000.0</td>\n      <td>1739000.0</td>\n      <td>1832000.0</td>\n      <td>1758000.0</td>\n      <td>1863000.0</td>\n      <td>1897000.0</td>\n      <td>1951000.0</td>\n      <td>NaN</td>\n    </tr>\n    <tr>\n      <th>1</th>\n      <td>Afghanistan</td>\n      <td>AFG</td>\n      <td>International tourism, number of arrivals</td>\n      <td>ST.INT.ARVL</td>\n      <td>NaN</td>\n      <td>NaN</td>\n      <td>NaN</td>\n      <td>NaN</td>\n      <td>NaN</td>\n      <td>NaN</td>\n      <td>...</td>\n      <td>NaN</td>\n      <td>NaN</td>\n      <td>NaN</td>\n      <td>NaN</td>\n      <td>NaN</td>\n      <td>NaN</td>\n      <td>NaN</td>\n      <td>NaN</td>\n      <td>NaN</td>\n      <td>NaN</td>\n    </tr>\n    <tr>\n      <th>2</th>\n      <td>Angola</td>\n      <td>AGO</td>\n      <td>International tourism, number of arrivals</td>\n      <td>ST.INT.ARVL</td>\n      <td>NaN</td>\n      <td>NaN</td>\n      <td>NaN</td>\n      <td>NaN</td>\n      <td>NaN</td>\n      <td>NaN</td>\n      <td>...</td>\n      <td>481000.0</td>\n      <td>528000.0</td>\n      <td>650000.0</td>\n      <td>595000.0</td>\n      <td>592000.0</td>\n      <td>397000.0</td>\n      <td>261000.0</td>\n      <td>218000.0</td>\n      <td>218000.0</td>\n      <td>NaN</td>\n    </tr>\n    <tr>\n      <th>3</th>\n      <td>Albania</td>\n      <td>ALB</td>\n      <td>International tourism, number of arrivals</td>\n      <td>ST.INT.ARVL</td>\n      <td>NaN</td>\n      <td>NaN</td>\n      <td>NaN</td>\n      <td>NaN</td>\n      <td>NaN</td>\n      <td>NaN</td>\n      <td>...</td>\n      <td>2932000.0</td>\n      <td>3514000.0</td>\n      <td>3256000.0</td>\n      <td>3673000.0</td>\n      <td>4131000.0</td>\n      <td>4736000.0</td>\n      <td>5118000.0</td>\n      <td>5927000.0</td>\n      <td>6406000.0</td>\n      <td>NaN</td>\n    </tr>\n    <tr>\n      <th>4</th>\n      <td>Andorra</td>\n      <td>AND</td>\n      <td>International tourism, number of arrivals</td>\n      <td>ST.INT.ARVL</td>\n      <td>NaN</td>\n      <td>NaN</td>\n      <td>NaN</td>\n      <td>NaN</td>\n      <td>NaN</td>\n      <td>NaN</td>\n      <td>...</td>\n      <td>7983000.0</td>\n      <td>7900000.0</td>\n      <td>7676000.0</td>\n      <td>7797000.0</td>\n      <td>7850000.0</td>\n      <td>8025000.0</td>\n      <td>8152000.0</td>\n      <td>8328000.0</td>\n      <td>8235000.0</td>\n      <td>NaN</td>\n    </tr>\n  </tbody>\n</table>\n<p>5 rows × 65 columns</p>\n</div>"
     },
     "metadata": {},
<<<<<<< HEAD
     "execution_count": 7
=======
     "execution_count": 3
>>>>>>> a660d287432527eb079eabf5cad4bef17cfa686f
    }
   ],
   "source": [
    "arrivals_csv=pd.read_csv(\"data/arrivals.csv\")\n",
    "arrivals_csv.head()"
   ]
  },
  {
   "cell_type": "code",
   "execution_count": 4,
   "metadata": {},
   "outputs": [
    {
     "output_type": "execute_result",
     "data": {
      "text/plain": [
       "          Country CountryCode CountryCode2   x\n",
       "0     Afghanistan          AF          AFG   4\n",
       "1         Albania          AL          ALB   8\n",
       "2         Algeria          DZ          DZA  12\n",
       "3  American Samoa          AS          ASM  16\n",
       "4         Andorra          AD          AND  20"
      ],
      "text/html": "<div>\n<style scoped>\n    .dataframe tbody tr th:only-of-type {\n        vertical-align: middle;\n    }\n\n    .dataframe tbody tr th {\n        vertical-align: top;\n    }\n\n    .dataframe thead th {\n        text-align: right;\n    }\n</style>\n<table border=\"1\" class=\"dataframe\">\n  <thead>\n    <tr style=\"text-align: right;\">\n      <th></th>\n      <th>Country</th>\n      <th>CountryCode</th>\n      <th>CountryCode2</th>\n      <th>x</th>\n    </tr>\n  </thead>\n  <tbody>\n    <tr>\n      <th>0</th>\n      <td>Afghanistan</td>\n      <td>AF</td>\n      <td>AFG</td>\n      <td>4</td>\n    </tr>\n    <tr>\n      <th>1</th>\n      <td>Albania</td>\n      <td>AL</td>\n      <td>ALB</td>\n      <td>8</td>\n    </tr>\n    <tr>\n      <th>2</th>\n      <td>Algeria</td>\n      <td>DZ</td>\n      <td>DZA</td>\n      <td>12</td>\n    </tr>\n    <tr>\n      <th>3</th>\n      <td>American Samoa</td>\n      <td>AS</td>\n      <td>ASM</td>\n      <td>16</td>\n    </tr>\n    <tr>\n      <th>4</th>\n      <td>Andorra</td>\n      <td>AD</td>\n      <td>AND</td>\n      <td>20</td>\n    </tr>\n  </tbody>\n</table>\n</div>"
     },
     "metadata": {},
     "execution_count": 4
    }
   ],
   "source": [
    "book_csv=pd.read_csv(\"data/Book1.csv\")\n",
    "book_csv.head()"
   ]
  },
  {
   "cell_type": "code",
   "execution_count": 5,
   "metadata": {},
   "outputs": [
    {
     "output_type": "execute_result",
     "data": {
      "text/plain": [
       "  Country Name Country Code                                 Indicator Name  \\\n",
       "0        Aruba          ABW  International tourism, receipts (current US$)   \n",
       "1  Afghanistan          AFG  International tourism, receipts (current US$)   \n",
       "2       Angola          AGO  International tourism, receipts (current US$)   \n",
       "3      Albania          ALB  International tourism, receipts (current US$)   \n",
       "4      Andorra          AND  International tourism, receipts (current US$)   \n",
       "\n",
       "   Indicator Code  1960  1961  1962  1963  1964  1965  ...          2011  \\\n",
       "0  ST.INT.RCPT.CD   NaN   NaN   NaN   NaN   NaN   NaN  ...  1.358000e+09   \n",
       "1  ST.INT.RCPT.CD   NaN   NaN   NaN   NaN   NaN   NaN  ...  1.650000e+08   \n",
       "2  ST.INT.RCPT.CD   NaN   NaN   NaN   NaN   NaN   NaN  ...  6.530000e+08   \n",
       "3  ST.INT.RCPT.CD   NaN   NaN   NaN   NaN   NaN   NaN  ...  1.833000e+09   \n",
       "4  ST.INT.RCPT.CD   NaN   NaN   NaN   NaN   NaN   NaN  ...           NaN   \n",
       "\n",
       "           2012          2013          2014          2015          2016  \\\n",
       "0  1.412000e+09  1.506000e+09  1.625000e+09  1.659000e+09  1.757000e+09   \n",
       "1  1.670000e+08  1.790000e+08  1.210000e+08  8.600000e+07  6.200000e+07   \n",
       "2  7.110000e+08  1.241000e+09  1.597000e+09  1.171000e+09  6.280000e+08   \n",
       "3  1.623000e+09  1.670000e+09  1.849000e+09  1.613000e+09  1.821000e+09   \n",
       "4           NaN           NaN           NaN           NaN           NaN   \n",
       "\n",
       "           2017          2018          2019  2020  \n",
       "0  1.855000e+09  2.029000e+09  2.091000e+09   NaN  \n",
       "1  1.600000e+07  5.000000e+07  8.500000e+07   NaN  \n",
       "2  8.840000e+08  5.570000e+08  3.950000e+08   NaN  \n",
       "3  2.050000e+09  2.306000e+09  2.458000e+09   NaN  \n",
       "4           NaN           NaN           NaN   NaN  \n",
       "\n",
       "[5 rows x 65 columns]"
      ],
      "text/html": "<div>\n<style scoped>\n    .dataframe tbody tr th:only-of-type {\n        vertical-align: middle;\n    }\n\n    .dataframe tbody tr th {\n        vertical-align: top;\n    }\n\n    .dataframe thead th {\n        text-align: right;\n    }\n</style>\n<table border=\"1\" class=\"dataframe\">\n  <thead>\n    <tr style=\"text-align: right;\">\n      <th></th>\n      <th>Country Name</th>\n      <th>Country Code</th>\n      <th>Indicator Name</th>\n      <th>Indicator Code</th>\n      <th>1960</th>\n      <th>1961</th>\n      <th>1962</th>\n      <th>1963</th>\n      <th>1964</th>\n      <th>1965</th>\n      <th>...</th>\n      <th>2011</th>\n      <th>2012</th>\n      <th>2013</th>\n      <th>2014</th>\n      <th>2015</th>\n      <th>2016</th>\n      <th>2017</th>\n      <th>2018</th>\n      <th>2019</th>\n      <th>2020</th>\n    </tr>\n  </thead>\n  <tbody>\n    <tr>\n      <th>0</th>\n      <td>Aruba</td>\n      <td>ABW</td>\n      <td>International tourism, receipts (current US$)</td>\n      <td>ST.INT.RCPT.CD</td>\n      <td>NaN</td>\n      <td>NaN</td>\n      <td>NaN</td>\n      <td>NaN</td>\n      <td>NaN</td>\n      <td>NaN</td>\n      <td>...</td>\n      <td>1.358000e+09</td>\n      <td>1.412000e+09</td>\n      <td>1.506000e+09</td>\n      <td>1.625000e+09</td>\n      <td>1.659000e+09</td>\n      <td>1.757000e+09</td>\n      <td>1.855000e+09</td>\n      <td>2.029000e+09</td>\n      <td>2.091000e+09</td>\n      <td>NaN</td>\n    </tr>\n    <tr>\n      <th>1</th>\n      <td>Afghanistan</td>\n      <td>AFG</td>\n      <td>International tourism, receipts (current US$)</td>\n      <td>ST.INT.RCPT.CD</td>\n      <td>NaN</td>\n      <td>NaN</td>\n      <td>NaN</td>\n      <td>NaN</td>\n      <td>NaN</td>\n      <td>NaN</td>\n      <td>...</td>\n      <td>1.650000e+08</td>\n      <td>1.670000e+08</td>\n      <td>1.790000e+08</td>\n      <td>1.210000e+08</td>\n      <td>8.600000e+07</td>\n      <td>6.200000e+07</td>\n      <td>1.600000e+07</td>\n      <td>5.000000e+07</td>\n      <td>8.500000e+07</td>\n      <td>NaN</td>\n    </tr>\n    <tr>\n      <th>2</th>\n      <td>Angola</td>\n      <td>AGO</td>\n      <td>International tourism, receipts (current US$)</td>\n      <td>ST.INT.RCPT.CD</td>\n      <td>NaN</td>\n      <td>NaN</td>\n      <td>NaN</td>\n      <td>NaN</td>\n      <td>NaN</td>\n      <td>NaN</td>\n      <td>...</td>\n      <td>6.530000e+08</td>\n      <td>7.110000e+08</td>\n      <td>1.241000e+09</td>\n      <td>1.597000e+09</td>\n      <td>1.171000e+09</td>\n      <td>6.280000e+08</td>\n      <td>8.840000e+08</td>\n      <td>5.570000e+08</td>\n      <td>3.950000e+08</td>\n      <td>NaN</td>\n    </tr>\n    <tr>\n      <th>3</th>\n      <td>Albania</td>\n      <td>ALB</td>\n      <td>International tourism, receipts (current US$)</td>\n      <td>ST.INT.RCPT.CD</td>\n      <td>NaN</td>\n      <td>NaN</td>\n      <td>NaN</td>\n      <td>NaN</td>\n      <td>NaN</td>\n      <td>NaN</td>\n      <td>...</td>\n      <td>1.833000e+09</td>\n      <td>1.623000e+09</td>\n      <td>1.670000e+09</td>\n      <td>1.849000e+09</td>\n      <td>1.613000e+09</td>\n      <td>1.821000e+09</td>\n      <td>2.050000e+09</td>\n      <td>2.306000e+09</td>\n      <td>2.458000e+09</td>\n      <td>NaN</td>\n    </tr>\n    <tr>\n      <th>4</th>\n      <td>Andorra</td>\n      <td>AND</td>\n      <td>International tourism, receipts (current US$)</td>\n      <td>ST.INT.RCPT.CD</td>\n      <td>NaN</td>\n      <td>NaN</td>\n      <td>NaN</td>\n      <td>NaN</td>\n      <td>NaN</td>\n      <td>NaN</td>\n      <td>...</td>\n      <td>NaN</td>\n      <td>NaN</td>\n      <td>NaN</td>\n      <td>NaN</td>\n      <td>NaN</td>\n      <td>NaN</td>\n      <td>NaN</td>\n      <td>NaN</td>\n      <td>NaN</td>\n      <td>NaN</td>\n    </tr>\n  </tbody>\n</table>\n<p>5 rows × 65 columns</p>\n</div>"
     },
     "metadata": {},
     "execution_count": 5
    }
   ],
   "source": [
    "revenues_csv=pd.read_csv(\"data/revenues.csv\")\n",
    "revenues_csv.head()"
   ]
  },
  {
   "cell_type": "markdown",
   "metadata": {},
   "source": [
    "### Cleaning data "
   ]
  },
  {
   "cell_type": "code",
   "execution_count": 6,
   "metadata": {},
   "outputs": [
    {
     "output_type": "execute_result",
     "data": {
      "text/plain": [
       "     CountryName  CapitalLatitude  CapitalLongitude CountryCode ContinentName\n",
       "0  Aland Islands        60.116667         19.900000          AX        Europe\n",
       "1        Albania        41.316667         19.816667          AL        Europe\n",
       "2        Andorra        42.500000          1.516667          AD        Europe\n",
       "3        Armenia        40.166667         44.500000          AM        Europe\n",
       "4        Austria        48.200000         16.366667          AT        Europe"
      ],
      "text/html": "<div>\n<style scoped>\n    .dataframe tbody tr th:only-of-type {\n        vertical-align: middle;\n    }\n\n    .dataframe tbody tr th {\n        vertical-align: top;\n    }\n\n    .dataframe thead th {\n        text-align: right;\n    }\n</style>\n<table border=\"1\" class=\"dataframe\">\n  <thead>\n    <tr style=\"text-align: right;\">\n      <th></th>\n      <th>CountryName</th>\n      <th>CapitalLatitude</th>\n      <th>CapitalLongitude</th>\n      <th>CountryCode</th>\n      <th>ContinentName</th>\n    </tr>\n  </thead>\n  <tbody>\n    <tr>\n      <th>0</th>\n      <td>Aland Islands</td>\n      <td>60.116667</td>\n      <td>19.900000</td>\n      <td>AX</td>\n      <td>Europe</td>\n    </tr>\n    <tr>\n      <th>1</th>\n      <td>Albania</td>\n      <td>41.316667</td>\n      <td>19.816667</td>\n      <td>AL</td>\n      <td>Europe</td>\n    </tr>\n    <tr>\n      <th>2</th>\n      <td>Andorra</td>\n      <td>42.500000</td>\n      <td>1.516667</td>\n      <td>AD</td>\n      <td>Europe</td>\n    </tr>\n    <tr>\n      <th>3</th>\n      <td>Armenia</td>\n      <td>40.166667</td>\n      <td>44.500000</td>\n      <td>AM</td>\n      <td>Europe</td>\n    </tr>\n    <tr>\n      <th>4</th>\n      <td>Austria</td>\n      <td>48.200000</td>\n      <td>16.366667</td>\n      <td>AT</td>\n      <td>Europe</td>\n    </tr>\n  </tbody>\n</table>\n</div>"
     },
     "metadata": {},
     "execution_count": 6
    }
   ],
   "source": [
    "clean_location=location_csv[[\"CountryName\",\"CapitalLatitude\",\"CapitalLongitude\",\"CountryCode\",\"ContinentName\"]].dropna()\n",
    "clean_location.head()"
   ]
  },
  {
   "cell_type": "code",
   "execution_count": 7,
   "metadata": {},
   "outputs": [
    {
     "output_type": "execute_result",
     "data": {
      "text/plain": [
       "         country   latitude  longitude country_code continent_name\n",
       "0  Aland Islands  60.116667  19.900000           AX         Europe\n",
       "1        Albania  41.316667  19.816667           AL         Europe\n",
       "2        Andorra  42.500000   1.516667           AD         Europe\n",
       "3        Armenia  40.166667  44.500000           AM         Europe\n",
       "4        Austria  48.200000  16.366667           AT         Europe"
      ],
      "text/html": "<div>\n<style scoped>\n    .dataframe tbody tr th:only-of-type {\n        vertical-align: middle;\n    }\n\n    .dataframe tbody tr th {\n        vertical-align: top;\n    }\n\n    .dataframe thead th {\n        text-align: right;\n    }\n</style>\n<table border=\"1\" class=\"dataframe\">\n  <thead>\n    <tr style=\"text-align: right;\">\n      <th></th>\n      <th>country</th>\n      <th>latitude</th>\n      <th>longitude</th>\n      <th>country_code</th>\n      <th>continent_name</th>\n    </tr>\n  </thead>\n  <tbody>\n    <tr>\n      <th>0</th>\n      <td>Aland Islands</td>\n      <td>60.116667</td>\n      <td>19.900000</td>\n      <td>AX</td>\n      <td>Europe</td>\n    </tr>\n    <tr>\n      <th>1</th>\n      <td>Albania</td>\n      <td>41.316667</td>\n      <td>19.816667</td>\n      <td>AL</td>\n      <td>Europe</td>\n    </tr>\n    <tr>\n      <th>2</th>\n      <td>Andorra</td>\n      <td>42.500000</td>\n      <td>1.516667</td>\n      <td>AD</td>\n      <td>Europe</td>\n    </tr>\n    <tr>\n      <th>3</th>\n      <td>Armenia</td>\n      <td>40.166667</td>\n      <td>44.500000</td>\n      <td>AM</td>\n      <td>Europe</td>\n    </tr>\n    <tr>\n      <th>4</th>\n      <td>Austria</td>\n      <td>48.200000</td>\n      <td>16.366667</td>\n      <td>AT</td>\n      <td>Europe</td>\n    </tr>\n  </tbody>\n</table>\n</div>"
     },
     "metadata": {},
     "execution_count": 7
    }
   ],
   "source": [
    "clean_location_df=clean_location.rename(columns={\"CountryName\":\"country\",\"CapitalLatitude\":\"latitude\",\"CapitalLongitude\":\"longitude\",\"CountryCode\": \"country_code\", \"ContinentName\": \"continent_name\"})\n",
    "clean_location_df.head()"
   ]
  },
  {
   "cell_type": "code",
   "execution_count": 8,
   "metadata": {},
   "outputs": [
    {
     "output_type": "execute_result",
     "data": {
      "text/plain": [
       "  Country Code         1995         1996         1997         1998  \\\n",
       "0          ABW    912000.00    957000.00    947000.00    906000.00   \n",
       "2          AGO      9000.00     21000.00     45000.00     52000.00   \n",
       "3          ALB    304000.00    287000.00    119000.00    184000.00   \n",
       "5          ARB  30238040.81  30557179.06  31691821.51  33564164.75   \n",
       "7          ARG   2289000.00   2614000.00   2764000.00   3012000.00   \n",
       "\n",
       "          1999         2000         2001         2002         2003  ...  \\\n",
       "0    972000.00   1211000.00   1178000.00   1225000.00   1184000.00  ...   \n",
       "2     45000.00     51000.00     67000.00     91000.00    107000.00  ...   \n",
       "3    371000.00    317000.00    354000.00    470000.00    557000.00  ...   \n",
       "5  37847470.51  41402657.74  42608150.07  48672412.96  51600193.07  ...   \n",
       "7   2898000.00   2909000.00   2620000.00   2820000.00   2995000.00  ...   \n",
       "\n",
       "          2010         2011         2012         2013         2014  \\\n",
       "0    1394000.0   1469000.00   1481000.00   1667000.00    1739000.0   \n",
       "2     425000.0    481000.00    528000.00    650000.00     595000.0   \n",
       "3    2417000.0   2932000.00   3514000.00   3256000.00    3673000.0   \n",
       "5  100534799.2  84657021.52  94573456.57  94519121.56  100719164.9   \n",
       "7    6800000.0   6703000.00   6497000.00   6510000.00    7165000.0   \n",
       "\n",
       "          2015         2016         2017         2018         2019  \n",
       "0   1832000.00   1758000.00    1863000.0    1897000.0    1951000.0  \n",
       "2    592000.00    397000.00     261000.0     218000.0     218000.0  \n",
       "3   4131000.00   4736000.00    5118000.0    5927000.0    6406000.0  \n",
       "5  96757390.61  94989926.05  101336098.2  109134074.9  116080347.5  \n",
       "7   6816000.00   6668000.00    6711000.0    6942000.0    7399000.0  \n",
       "\n",
       "[5 rows x 26 columns]"
      ],
      "text/html": "<div>\n<style scoped>\n    .dataframe tbody tr th:only-of-type {\n        vertical-align: middle;\n    }\n\n    .dataframe tbody tr th {\n        vertical-align: top;\n    }\n\n    .dataframe thead th {\n        text-align: right;\n    }\n</style>\n<table border=\"1\" class=\"dataframe\">\n  <thead>\n    <tr style=\"text-align: right;\">\n      <th></th>\n      <th>Country Code</th>\n      <th>1995</th>\n      <th>1996</th>\n      <th>1997</th>\n      <th>1998</th>\n      <th>1999</th>\n      <th>2000</th>\n      <th>2001</th>\n      <th>2002</th>\n      <th>2003</th>\n      <th>...</th>\n      <th>2010</th>\n      <th>2011</th>\n      <th>2012</th>\n      <th>2013</th>\n      <th>2014</th>\n      <th>2015</th>\n      <th>2016</th>\n      <th>2017</th>\n      <th>2018</th>\n      <th>2019</th>\n    </tr>\n  </thead>\n  <tbody>\n    <tr>\n      <th>0</th>\n      <td>ABW</td>\n      <td>912000.00</td>\n      <td>957000.00</td>\n      <td>947000.00</td>\n      <td>906000.00</td>\n      <td>972000.00</td>\n      <td>1211000.00</td>\n      <td>1178000.00</td>\n      <td>1225000.00</td>\n      <td>1184000.00</td>\n      <td>...</td>\n      <td>1394000.0</td>\n      <td>1469000.00</td>\n      <td>1481000.00</td>\n      <td>1667000.00</td>\n      <td>1739000.0</td>\n      <td>1832000.00</td>\n      <td>1758000.00</td>\n      <td>1863000.0</td>\n      <td>1897000.0</td>\n      <td>1951000.0</td>\n    </tr>\n    <tr>\n      <th>2</th>\n      <td>AGO</td>\n      <td>9000.00</td>\n      <td>21000.00</td>\n      <td>45000.00</td>\n      <td>52000.00</td>\n      <td>45000.00</td>\n      <td>51000.00</td>\n      <td>67000.00</td>\n      <td>91000.00</td>\n      <td>107000.00</td>\n      <td>...</td>\n      <td>425000.0</td>\n      <td>481000.00</td>\n      <td>528000.00</td>\n      <td>650000.00</td>\n      <td>595000.0</td>\n      <td>592000.00</td>\n      <td>397000.00</td>\n      <td>261000.0</td>\n      <td>218000.0</td>\n      <td>218000.0</td>\n    </tr>\n    <tr>\n      <th>3</th>\n      <td>ALB</td>\n      <td>304000.00</td>\n      <td>287000.00</td>\n      <td>119000.00</td>\n      <td>184000.00</td>\n      <td>371000.00</td>\n      <td>317000.00</td>\n      <td>354000.00</td>\n      <td>470000.00</td>\n      <td>557000.00</td>\n      <td>...</td>\n      <td>2417000.0</td>\n      <td>2932000.00</td>\n      <td>3514000.00</td>\n      <td>3256000.00</td>\n      <td>3673000.0</td>\n      <td>4131000.00</td>\n      <td>4736000.00</td>\n      <td>5118000.0</td>\n      <td>5927000.0</td>\n      <td>6406000.0</td>\n    </tr>\n    <tr>\n      <th>5</th>\n      <td>ARB</td>\n      <td>30238040.81</td>\n      <td>30557179.06</td>\n      <td>31691821.51</td>\n      <td>33564164.75</td>\n      <td>37847470.51</td>\n      <td>41402657.74</td>\n      <td>42608150.07</td>\n      <td>48672412.96</td>\n      <td>51600193.07</td>\n      <td>...</td>\n      <td>100534799.2</td>\n      <td>84657021.52</td>\n      <td>94573456.57</td>\n      <td>94519121.56</td>\n      <td>100719164.9</td>\n      <td>96757390.61</td>\n      <td>94989926.05</td>\n      <td>101336098.2</td>\n      <td>109134074.9</td>\n      <td>116080347.5</td>\n    </tr>\n    <tr>\n      <th>7</th>\n      <td>ARG</td>\n      <td>2289000.00</td>\n      <td>2614000.00</td>\n      <td>2764000.00</td>\n      <td>3012000.00</td>\n      <td>2898000.00</td>\n      <td>2909000.00</td>\n      <td>2620000.00</td>\n      <td>2820000.00</td>\n      <td>2995000.00</td>\n      <td>...</td>\n      <td>6800000.0</td>\n      <td>6703000.00</td>\n      <td>6497000.00</td>\n      <td>6510000.00</td>\n      <td>7165000.0</td>\n      <td>6816000.00</td>\n      <td>6668000.00</td>\n      <td>6711000.0</td>\n      <td>6942000.0</td>\n      <td>7399000.0</td>\n    </tr>\n  </tbody>\n</table>\n<p>5 rows × 26 columns</p>\n</div>"
     },
     "metadata": {},
     "execution_count": 8
    }
   ],
   "source": [
    "clean_arrivals=arrivals_csv[[\"Country Code\",\"1995\",\"1996\",\"1997\",\"1998\",\"1999\",\"2000\",\"2001\",\"2002\",\"2003\",\"2004\",\"2005\",\"2006\",\"2007\",\"2008\",\"2009\",\"2010\",\"2011\",\"2012\",\"2013\",\"2014\",\"2015\",\"2016\",\"2017\",\"2018\",\"2019\"]].dropna()\n",
    "clean_arrivals.head()"
   ]
  },
  {
   "cell_type": "code",
   "execution_count": 9,
   "metadata": {},
   "outputs": [
    {
     "output_type": "execute_result",
     "data": {
      "text/plain": [
       "  country_code  total_arrivals_1995  total_arrivals_1996  total_arrivals_1997  \\\n",
       "0          ABW            912000.00            957000.00            947000.00   \n",
       "2          AGO              9000.00             21000.00             45000.00   \n",
       "3          ALB            304000.00            287000.00            119000.00   \n",
       "5          ARB          30238040.81          30557179.06          31691821.51   \n",
       "7          ARG           2289000.00           2614000.00           2764000.00   \n",
       "\n",
       "   total_arrivals_1998  total_arrivals_1999  total_arrivals_2000  \\\n",
       "0            906000.00            972000.00           1211000.00   \n",
       "2             52000.00             45000.00             51000.00   \n",
       "3            184000.00            371000.00            317000.00   \n",
       "5          33564164.75          37847470.51          41402657.74   \n",
       "7           3012000.00           2898000.00           2909000.00   \n",
       "\n",
       "   total_arrivals_2001  total_arrivals_2002  total_arrivals_2003  ...  \\\n",
       "0           1178000.00           1225000.00           1184000.00  ...   \n",
       "2             67000.00             91000.00            107000.00  ...   \n",
       "3            354000.00            470000.00            557000.00  ...   \n",
       "5          42608150.07          48672412.96          51600193.07  ...   \n",
       "7           2620000.00           2820000.00           2995000.00  ...   \n",
       "\n",
       "   total_arrivals_2010  total_arrivals_2011  total_arrivals_2012  \\\n",
       "0            1394000.0           1469000.00           1481000.00   \n",
       "2             425000.0            481000.00            528000.00   \n",
       "3            2417000.0           2932000.00           3514000.00   \n",
       "5          100534799.2          84657021.52          94573456.57   \n",
       "7            6800000.0           6703000.00           6497000.00   \n",
       "\n",
       "   total_arrivals_2013  total_arrivals_2014  total_arrivals_2015  \\\n",
       "0           1667000.00            1739000.0           1832000.00   \n",
       "2            650000.00             595000.0            592000.00   \n",
       "3           3256000.00            3673000.0           4131000.00   \n",
       "5          94519121.56          100719164.9          96757390.61   \n",
       "7           6510000.00            7165000.0           6816000.00   \n",
       "\n",
       "   total_arrivals_2016  total_arrivals_2017  total_arrivals_2018  \\\n",
       "0           1758000.00            1863000.0            1897000.0   \n",
       "2            397000.00             261000.0             218000.0   \n",
       "3           4736000.00            5118000.0            5927000.0   \n",
       "5          94989926.05          101336098.2          109134074.9   \n",
       "7           6668000.00            6711000.0            6942000.0   \n",
       "\n",
       "   total_arrivals_2019  \n",
       "0            1951000.0  \n",
       "2             218000.0  \n",
       "3            6406000.0  \n",
       "5          116080347.5  \n",
       "7            7399000.0  \n",
       "\n",
       "[5 rows x 26 columns]"
      ],
      "text/html": "<div>\n<style scoped>\n    .dataframe tbody tr th:only-of-type {\n        vertical-align: middle;\n    }\n\n    .dataframe tbody tr th {\n        vertical-align: top;\n    }\n\n    .dataframe thead th {\n        text-align: right;\n    }\n</style>\n<table border=\"1\" class=\"dataframe\">\n  <thead>\n    <tr style=\"text-align: right;\">\n      <th></th>\n      <th>country_code</th>\n      <th>total_arrivals_1995</th>\n      <th>total_arrivals_1996</th>\n      <th>total_arrivals_1997</th>\n      <th>total_arrivals_1998</th>\n      <th>total_arrivals_1999</th>\n      <th>total_arrivals_2000</th>\n      <th>total_arrivals_2001</th>\n      <th>total_arrivals_2002</th>\n      <th>total_arrivals_2003</th>\n      <th>...</th>\n      <th>total_arrivals_2010</th>\n      <th>total_arrivals_2011</th>\n      <th>total_arrivals_2012</th>\n      <th>total_arrivals_2013</th>\n      <th>total_arrivals_2014</th>\n      <th>total_arrivals_2015</th>\n      <th>total_arrivals_2016</th>\n      <th>total_arrivals_2017</th>\n      <th>total_arrivals_2018</th>\n      <th>total_arrivals_2019</th>\n    </tr>\n  </thead>\n  <tbody>\n    <tr>\n      <th>0</th>\n      <td>ABW</td>\n      <td>912000.00</td>\n      <td>957000.00</td>\n      <td>947000.00</td>\n      <td>906000.00</td>\n      <td>972000.00</td>\n      <td>1211000.00</td>\n      <td>1178000.00</td>\n      <td>1225000.00</td>\n      <td>1184000.00</td>\n      <td>...</td>\n      <td>1394000.0</td>\n      <td>1469000.00</td>\n      <td>1481000.00</td>\n      <td>1667000.00</td>\n      <td>1739000.0</td>\n      <td>1832000.00</td>\n      <td>1758000.00</td>\n      <td>1863000.0</td>\n      <td>1897000.0</td>\n      <td>1951000.0</td>\n    </tr>\n    <tr>\n      <th>2</th>\n      <td>AGO</td>\n      <td>9000.00</td>\n      <td>21000.00</td>\n      <td>45000.00</td>\n      <td>52000.00</td>\n      <td>45000.00</td>\n      <td>51000.00</td>\n      <td>67000.00</td>\n      <td>91000.00</td>\n      <td>107000.00</td>\n      <td>...</td>\n      <td>425000.0</td>\n      <td>481000.00</td>\n      <td>528000.00</td>\n      <td>650000.00</td>\n      <td>595000.0</td>\n      <td>592000.00</td>\n      <td>397000.00</td>\n      <td>261000.0</td>\n      <td>218000.0</td>\n      <td>218000.0</td>\n    </tr>\n    <tr>\n      <th>3</th>\n      <td>ALB</td>\n      <td>304000.00</td>\n      <td>287000.00</td>\n      <td>119000.00</td>\n      <td>184000.00</td>\n      <td>371000.00</td>\n      <td>317000.00</td>\n      <td>354000.00</td>\n      <td>470000.00</td>\n      <td>557000.00</td>\n      <td>...</td>\n      <td>2417000.0</td>\n      <td>2932000.00</td>\n      <td>3514000.00</td>\n      <td>3256000.00</td>\n      <td>3673000.0</td>\n      <td>4131000.00</td>\n      <td>4736000.00</td>\n      <td>5118000.0</td>\n      <td>5927000.0</td>\n      <td>6406000.0</td>\n    </tr>\n    <tr>\n      <th>5</th>\n      <td>ARB</td>\n      <td>30238040.81</td>\n      <td>30557179.06</td>\n      <td>31691821.51</td>\n      <td>33564164.75</td>\n      <td>37847470.51</td>\n      <td>41402657.74</td>\n      <td>42608150.07</td>\n      <td>48672412.96</td>\n      <td>51600193.07</td>\n      <td>...</td>\n      <td>100534799.2</td>\n      <td>84657021.52</td>\n      <td>94573456.57</td>\n      <td>94519121.56</td>\n      <td>100719164.9</td>\n      <td>96757390.61</td>\n      <td>94989926.05</td>\n      <td>101336098.2</td>\n      <td>109134074.9</td>\n      <td>116080347.5</td>\n    </tr>\n    <tr>\n      <th>7</th>\n      <td>ARG</td>\n      <td>2289000.00</td>\n      <td>2614000.00</td>\n      <td>2764000.00</td>\n      <td>3012000.00</td>\n      <td>2898000.00</td>\n      <td>2909000.00</td>\n      <td>2620000.00</td>\n      <td>2820000.00</td>\n      <td>2995000.00</td>\n      <td>...</td>\n      <td>6800000.0</td>\n      <td>6703000.00</td>\n      <td>6497000.00</td>\n      <td>6510000.00</td>\n      <td>7165000.0</td>\n      <td>6816000.00</td>\n      <td>6668000.00</td>\n      <td>6711000.0</td>\n      <td>6942000.0</td>\n      <td>7399000.0</td>\n    </tr>\n  </tbody>\n</table>\n<p>5 rows × 26 columns</p>\n</div>"
     },
     "metadata": {},
     "execution_count": 9
    }
   ],
   "source": [
    "clean_arrivals_df=clean_arrivals.rename(columns={\"Country Code\":\"country_code\",\"1995\":\"total_arrivals_1995\",\"1996\":\"total_arrivals_1996\",\"1997\":\"total_arrivals_1997\",\"1998\":\"total_arrivals_1998\",\"1999\":\"total_arrivals_1999\",\"2000\":\"total_arrivals_2000\",\"2001\":\"total_arrivals_2001\",\"2002\":\"total_arrivals_2002\",\"2003\":\"total_arrivals_2003\",\"2004\":\"total_arrivals_2004\",\"2005\":\"total_arrivals_2005\",\"2006\":\"total_arrivals_2006\",\"2007\":\"total_arrivals_2007\",\"2008\":\"total_arrivals_2008\",\"2009\":\"total_arrivals_2009\",\"2010\":\"total_arrivals_2010\",\"2011\":\"total_arrivals_2011\",\"2012\":\"total_arrivals_2012\",\"2013\":\"total_arrivals_2013\",\"2014\":\"total_arrivals_2014\",\"2015\":\"total_arrivals_2015\",\"2016\":\"total_arrivals_2016\",\"2017\":\"total_arrivals_2017\",\"2018\":\"total_arrivals_2018\",\"2019\":\"total_arrivals_2019\"})\n",
    "clean_arrivals_df.to_csv(\"output/clean_arrivals.csv\",index=False)\n",
    "clean_arrivals_df.head()"
   ]
  },
  {
   "cell_type": "code",
   "execution_count": 10,
   "metadata": {},
   "outputs": [
    {
     "output_type": "execute_result",
     "data": {
      "text/plain": [
       "  Country Code          1995          1996          1997          1998  \\\n",
       "0          ABW  5.540000e+08  6.660000e+08  7.260000e+08  7.860000e+08   \n",
       "2          AGO  2.700000e+07  3.800000e+07  2.400000e+07  3.900000e+07   \n",
       "3          ALB  7.000000e+07  9.400000e+07  3.400000e+07  6.000000e+07   \n",
       "6          ARE  6.320000e+08  7.430000e+08  8.140000e+08  8.590000e+08   \n",
       "7          ARG  2.550000e+09  2.975000e+09  3.153000e+09  3.353000e+09   \n",
       "\n",
       "           1999          2000          2001          2002          2003  ...  \\\n",
       "0  7.820000e+08  8.500000e+08  8.250000e+08  8.350000e+08  8.581000e+08  ...   \n",
       "2  3.100000e+07  3.400000e+07  3.500000e+07  5.100000e+07  6.300000e+07  ...   \n",
       "3  2.180000e+08  3.980000e+08  4.510000e+08  4.920000e+08  5.370000e+08  ...   \n",
       "6  8.930000e+08  1.063000e+09  1.200000e+09  1.332000e+09  1.438000e+09  ...   \n",
       "7  3.175000e+09  3.195000e+09  2.756000e+09  1.716000e+09  2.306000e+09  ...   \n",
       "\n",
       "           2010          2011          2012          2013          2014  \\\n",
       "0  1.254000e+09  1.358000e+09  1.412000e+09  1.506000e+09  1.625000e+09   \n",
       "2  7.260000e+08  6.530000e+08  7.110000e+08  1.241000e+09  1.597000e+09   \n",
       "3  1.778000e+09  1.833000e+09  1.623000e+09  1.670000e+09  1.849000e+09   \n",
       "6  8.577000e+09  9.204000e+09  1.092400e+10  1.238900e+10  1.522100e+10   \n",
       "7  5.605000e+09  6.058000e+09  5.665000e+09  5.199000e+09  5.645000e+09   \n",
       "\n",
       "           2015          2016          2017          2018          2019  \n",
       "0  1.659000e+09  1.757000e+09  1.855000e+09  2.029000e+09  2.091000e+09  \n",
       "2  1.171000e+09  6.280000e+08  8.840000e+08  5.570000e+08  3.950000e+08  \n",
       "3  1.613000e+09  1.821000e+09  2.050000e+09  2.306000e+09  2.458000e+09  \n",
       "6  1.748100e+10  1.949600e+10  2.104900e+10  2.137200e+10  3.841330e+10  \n",
       "7  5.441000e+09  5.466000e+09  5.830000e+09  5.999000e+09  5.654000e+09  \n",
       "\n",
       "[5 rows x 26 columns]"
      ],
      "text/html": "<div>\n<style scoped>\n    .dataframe tbody tr th:only-of-type {\n        vertical-align: middle;\n    }\n\n    .dataframe tbody tr th {\n        vertical-align: top;\n    }\n\n    .dataframe thead th {\n        text-align: right;\n    }\n</style>\n<table border=\"1\" class=\"dataframe\">\n  <thead>\n    <tr style=\"text-align: right;\">\n      <th></th>\n      <th>Country Code</th>\n      <th>1995</th>\n      <th>1996</th>\n      <th>1997</th>\n      <th>1998</th>\n      <th>1999</th>\n      <th>2000</th>\n      <th>2001</th>\n      <th>2002</th>\n      <th>2003</th>\n      <th>...</th>\n      <th>2010</th>\n      <th>2011</th>\n      <th>2012</th>\n      <th>2013</th>\n      <th>2014</th>\n      <th>2015</th>\n      <th>2016</th>\n      <th>2017</th>\n      <th>2018</th>\n      <th>2019</th>\n    </tr>\n  </thead>\n  <tbody>\n    <tr>\n      <th>0</th>\n      <td>ABW</td>\n      <td>5.540000e+08</td>\n      <td>6.660000e+08</td>\n      <td>7.260000e+08</td>\n      <td>7.860000e+08</td>\n      <td>7.820000e+08</td>\n      <td>8.500000e+08</td>\n      <td>8.250000e+08</td>\n      <td>8.350000e+08</td>\n      <td>8.581000e+08</td>\n      <td>...</td>\n      <td>1.254000e+09</td>\n      <td>1.358000e+09</td>\n      <td>1.412000e+09</td>\n      <td>1.506000e+09</td>\n      <td>1.625000e+09</td>\n      <td>1.659000e+09</td>\n      <td>1.757000e+09</td>\n      <td>1.855000e+09</td>\n      <td>2.029000e+09</td>\n      <td>2.091000e+09</td>\n    </tr>\n    <tr>\n      <th>2</th>\n      <td>AGO</td>\n      <td>2.700000e+07</td>\n      <td>3.800000e+07</td>\n      <td>2.400000e+07</td>\n      <td>3.900000e+07</td>\n      <td>3.100000e+07</td>\n      <td>3.400000e+07</td>\n      <td>3.500000e+07</td>\n      <td>5.100000e+07</td>\n      <td>6.300000e+07</td>\n      <td>...</td>\n      <td>7.260000e+08</td>\n      <td>6.530000e+08</td>\n      <td>7.110000e+08</td>\n      <td>1.241000e+09</td>\n      <td>1.597000e+09</td>\n      <td>1.171000e+09</td>\n      <td>6.280000e+08</td>\n      <td>8.840000e+08</td>\n      <td>5.570000e+08</td>\n      <td>3.950000e+08</td>\n    </tr>\n    <tr>\n      <th>3</th>\n      <td>ALB</td>\n      <td>7.000000e+07</td>\n      <td>9.400000e+07</td>\n      <td>3.400000e+07</td>\n      <td>6.000000e+07</td>\n      <td>2.180000e+08</td>\n      <td>3.980000e+08</td>\n      <td>4.510000e+08</td>\n      <td>4.920000e+08</td>\n      <td>5.370000e+08</td>\n      <td>...</td>\n      <td>1.778000e+09</td>\n      <td>1.833000e+09</td>\n      <td>1.623000e+09</td>\n      <td>1.670000e+09</td>\n      <td>1.849000e+09</td>\n      <td>1.613000e+09</td>\n      <td>1.821000e+09</td>\n      <td>2.050000e+09</td>\n      <td>2.306000e+09</td>\n      <td>2.458000e+09</td>\n    </tr>\n    <tr>\n      <th>6</th>\n      <td>ARE</td>\n      <td>6.320000e+08</td>\n      <td>7.430000e+08</td>\n      <td>8.140000e+08</td>\n      <td>8.590000e+08</td>\n      <td>8.930000e+08</td>\n      <td>1.063000e+09</td>\n      <td>1.200000e+09</td>\n      <td>1.332000e+09</td>\n      <td>1.438000e+09</td>\n      <td>...</td>\n      <td>8.577000e+09</td>\n      <td>9.204000e+09</td>\n      <td>1.092400e+10</td>\n      <td>1.238900e+10</td>\n      <td>1.522100e+10</td>\n      <td>1.748100e+10</td>\n      <td>1.949600e+10</td>\n      <td>2.104900e+10</td>\n      <td>2.137200e+10</td>\n      <td>3.841330e+10</td>\n    </tr>\n    <tr>\n      <th>7</th>\n      <td>ARG</td>\n      <td>2.550000e+09</td>\n      <td>2.975000e+09</td>\n      <td>3.153000e+09</td>\n      <td>3.353000e+09</td>\n      <td>3.175000e+09</td>\n      <td>3.195000e+09</td>\n      <td>2.756000e+09</td>\n      <td>1.716000e+09</td>\n      <td>2.306000e+09</td>\n      <td>...</td>\n      <td>5.605000e+09</td>\n      <td>6.058000e+09</td>\n      <td>5.665000e+09</td>\n      <td>5.199000e+09</td>\n      <td>5.645000e+09</td>\n      <td>5.441000e+09</td>\n      <td>5.466000e+09</td>\n      <td>5.830000e+09</td>\n      <td>5.999000e+09</td>\n      <td>5.654000e+09</td>\n    </tr>\n  </tbody>\n</table>\n<p>5 rows × 26 columns</p>\n</div>"
     },
     "metadata": {},
     "execution_count": 10
    }
   ],
   "source": [
    "clean_revenues=revenues_csv[[\"Country Code\",\"1995\",\"1996\",\"1997\",\"1998\",\"1999\",\"2000\",\"2001\",\"2002\",\"2003\",\"2004\",\"2005\",\"2006\",\"2007\",\"2008\",\"2009\",\"2010\",\"2011\",\"2012\",\"2013\",\"2014\",\"2015\",\"2016\",\"2017\",\"2018\",\"2019\"]].dropna()\n",
    "clean_revenues.head()"
   ]
  },
  {
   "cell_type": "code",
   "execution_count": 21,
   "metadata": {},
   "outputs": [
    {
     "output_type": "execute_result",
     "data": {
      "text/plain": [
       "  country_code  total_revenues_1995  total_revenues_1996  total_revenues_1997  \\\n",
       "0          ABW         5.540000e+08         6.660000e+08         7.260000e+08   \n",
       "2          AGO         2.700000e+07         3.800000e+07         2.400000e+07   \n",
       "3          ALB         7.000000e+07         9.400000e+07         3.400000e+07   \n",
       "6          ARE         6.320000e+08         7.430000e+08         8.140000e+08   \n",
       "7          ARG         2.550000e+09         2.975000e+09         3.153000e+09   \n",
       "\n",
       "   total_revenues_1998  total_revenues_1999  total_revenues_2000  \\\n",
       "0         7.860000e+08         7.820000e+08         8.500000e+08   \n",
       "2         3.900000e+07         3.100000e+07         3.400000e+07   \n",
       "3         6.000000e+07         2.180000e+08         3.980000e+08   \n",
       "6         8.590000e+08         8.930000e+08         1.063000e+09   \n",
       "7         3.353000e+09         3.175000e+09         3.195000e+09   \n",
       "\n",
       "   total_revenues_2001  total_revenues_2002  total_revenues_2003  ...  \\\n",
       "0         8.250000e+08         8.350000e+08         8.581000e+08  ...   \n",
       "2         3.500000e+07         5.100000e+07         6.300000e+07  ...   \n",
       "3         4.510000e+08         4.920000e+08         5.370000e+08  ...   \n",
       "6         1.200000e+09         1.332000e+09         1.438000e+09  ...   \n",
       "7         2.756000e+09         1.716000e+09         2.306000e+09  ...   \n",
       "\n",
       "   total_revenues_2010  total_revenues_2011  total_revenues_2012  \\\n",
       "0         1.254000e+09         1.358000e+09         1.412000e+09   \n",
       "2         7.260000e+08         6.530000e+08         7.110000e+08   \n",
       "3         1.778000e+09         1.833000e+09         1.623000e+09   \n",
       "6         8.577000e+09         9.204000e+09         1.092400e+10   \n",
       "7         5.605000e+09         6.058000e+09         5.665000e+09   \n",
       "\n",
       "   total_revenues_2013  total_revenues_2014  total_revenues_2015  \\\n",
       "0         1.506000e+09         1.625000e+09         1.659000e+09   \n",
       "2         1.241000e+09         1.597000e+09         1.171000e+09   \n",
       "3         1.670000e+09         1.849000e+09         1.613000e+09   \n",
       "6         1.238900e+10         1.522100e+10         1.748100e+10   \n",
       "7         5.199000e+09         5.645000e+09         5.441000e+09   \n",
       "\n",
       "   total_revenues_2016  total_revenues_2017  total_revenues_2018  \\\n",
       "0         1.757000e+09         1.855000e+09         2.029000e+09   \n",
       "2         6.280000e+08         8.840000e+08         5.570000e+08   \n",
       "3         1.821000e+09         2.050000e+09         2.306000e+09   \n",
       "6         1.949600e+10         2.104900e+10         2.137200e+10   \n",
       "7         5.466000e+09         5.830000e+09         5.999000e+09   \n",
       "\n",
       "   total_revenues_2019  \n",
       "0         2.091000e+09  \n",
       "2         3.950000e+08  \n",
       "3         2.458000e+09  \n",
       "6         3.841330e+10  \n",
       "7         5.654000e+09  \n",
       "\n",
       "[5 rows x 26 columns]"
      ],
      "text/html": "<div>\n<style scoped>\n    .dataframe tbody tr th:only-of-type {\n        vertical-align: middle;\n    }\n\n    .dataframe tbody tr th {\n        vertical-align: top;\n    }\n\n    .dataframe thead th {\n        text-align: right;\n    }\n</style>\n<table border=\"1\" class=\"dataframe\">\n  <thead>\n    <tr style=\"text-align: right;\">\n      <th></th>\n      <th>country_code</th>\n      <th>total_revenues_1995</th>\n      <th>total_revenues_1996</th>\n      <th>total_revenues_1997</th>\n      <th>total_revenues_1998</th>\n      <th>total_revenues_1999</th>\n      <th>total_revenues_2000</th>\n      <th>total_revenues_2001</th>\n      <th>total_revenues_2002</th>\n      <th>total_revenues_2003</th>\n      <th>...</th>\n      <th>total_revenues_2010</th>\n      <th>total_revenues_2011</th>\n      <th>total_revenues_2012</th>\n      <th>total_revenues_2013</th>\n      <th>total_revenues_2014</th>\n      <th>total_revenues_2015</th>\n      <th>total_revenues_2016</th>\n      <th>total_revenues_2017</th>\n      <th>total_revenues_2018</th>\n      <th>total_revenues_2019</th>\n    </tr>\n  </thead>\n  <tbody>\n    <tr>\n      <th>0</th>\n      <td>ABW</td>\n      <td>5.540000e+08</td>\n      <td>6.660000e+08</td>\n      <td>7.260000e+08</td>\n      <td>7.860000e+08</td>\n      <td>7.820000e+08</td>\n      <td>8.500000e+08</td>\n      <td>8.250000e+08</td>\n      <td>8.350000e+08</td>\n      <td>8.581000e+08</td>\n      <td>...</td>\n      <td>1.254000e+09</td>\n      <td>1.358000e+09</td>\n      <td>1.412000e+09</td>\n      <td>1.506000e+09</td>\n      <td>1.625000e+09</td>\n      <td>1.659000e+09</td>\n      <td>1.757000e+09</td>\n      <td>1.855000e+09</td>\n      <td>2.029000e+09</td>\n      <td>2.091000e+09</td>\n    </tr>\n    <tr>\n      <th>2</th>\n      <td>AGO</td>\n      <td>2.700000e+07</td>\n      <td>3.800000e+07</td>\n      <td>2.400000e+07</td>\n      <td>3.900000e+07</td>\n      <td>3.100000e+07</td>\n      <td>3.400000e+07</td>\n      <td>3.500000e+07</td>\n      <td>5.100000e+07</td>\n      <td>6.300000e+07</td>\n      <td>...</td>\n      <td>7.260000e+08</td>\n      <td>6.530000e+08</td>\n      <td>7.110000e+08</td>\n      <td>1.241000e+09</td>\n      <td>1.597000e+09</td>\n      <td>1.171000e+09</td>\n      <td>6.280000e+08</td>\n      <td>8.840000e+08</td>\n      <td>5.570000e+08</td>\n      <td>3.950000e+08</td>\n    </tr>\n    <tr>\n      <th>3</th>\n      <td>ALB</td>\n      <td>7.000000e+07</td>\n      <td>9.400000e+07</td>\n      <td>3.400000e+07</td>\n      <td>6.000000e+07</td>\n      <td>2.180000e+08</td>\n      <td>3.980000e+08</td>\n      <td>4.510000e+08</td>\n      <td>4.920000e+08</td>\n      <td>5.370000e+08</td>\n      <td>...</td>\n      <td>1.778000e+09</td>\n      <td>1.833000e+09</td>\n      <td>1.623000e+09</td>\n      <td>1.670000e+09</td>\n      <td>1.849000e+09</td>\n      <td>1.613000e+09</td>\n      <td>1.821000e+09</td>\n      <td>2.050000e+09</td>\n      <td>2.306000e+09</td>\n      <td>2.458000e+09</td>\n    </tr>\n    <tr>\n      <th>6</th>\n      <td>ARE</td>\n      <td>6.320000e+08</td>\n      <td>7.430000e+08</td>\n      <td>8.140000e+08</td>\n      <td>8.590000e+08</td>\n      <td>8.930000e+08</td>\n      <td>1.063000e+09</td>\n      <td>1.200000e+09</td>\n      <td>1.332000e+09</td>\n      <td>1.438000e+09</td>\n      <td>...</td>\n      <td>8.577000e+09</td>\n      <td>9.204000e+09</td>\n      <td>1.092400e+10</td>\n      <td>1.238900e+10</td>\n      <td>1.522100e+10</td>\n      <td>1.748100e+10</td>\n      <td>1.949600e+10</td>\n      <td>2.104900e+10</td>\n      <td>2.137200e+10</td>\n      <td>3.841330e+10</td>\n    </tr>\n    <tr>\n      <th>7</th>\n      <td>ARG</td>\n      <td>2.550000e+09</td>\n      <td>2.975000e+09</td>\n      <td>3.153000e+09</td>\n      <td>3.353000e+09</td>\n      <td>3.175000e+09</td>\n      <td>3.195000e+09</td>\n      <td>2.756000e+09</td>\n      <td>1.716000e+09</td>\n      <td>2.306000e+09</td>\n      <td>...</td>\n      <td>5.605000e+09</td>\n      <td>6.058000e+09</td>\n      <td>5.665000e+09</td>\n      <td>5.199000e+09</td>\n      <td>5.645000e+09</td>\n      <td>5.441000e+09</td>\n      <td>5.466000e+09</td>\n      <td>5.830000e+09</td>\n      <td>5.999000e+09</td>\n      <td>5.654000e+09</td>\n    </tr>\n  </tbody>\n</table>\n<p>5 rows × 26 columns</p>\n</div>"
     },
     "metadata": {},
     "execution_count": 21
    }
   ],
   "source": [
    "clean_revenues_df=clean_revenues.rename(columns={\"Country Code\":\"country_code\",\"1995\":\"total_revenues_1995\",\"1996\":\"total_revenues_1996\",\"1997\":\"total_revenues_1997\",\"1998\":\"total_revenues_1998\",\"1999\":\"total_revenues_1999\",\"2000\":\"total_revenues_2000\",\"2001\":\"total_revenues_2001\",\"2002\":\"total_revenues_2002\",\"2003\":\"total_revenues_2003\",\"2004\":\"total_revenues_2004\",\"2005\":\"total_revenues_2005\",\"2006\":\"total_revenues_2006\",\"2007\":\"total_revenues_2007\",\"2008\":\"total_revenues_2008\",\"2009\":\"total_revenues_2009\",\"2010\":\"total_revenues_2010\",\"2011\":\"total_revenues_2011\",\"2012\":\"total_revenues_2012\",\"2013\":\"total_revenues_2013\",\"2014\":\"total_revenues_2014\",\"2015\":\"total_revenues_2015\",\"2016\":\"total_revenues_2016\",\"2017\":\"total_revenues_2017\",\"2018\":\"total_revenues_2018\",\"2019\":\"total_revenues_2019\"})\n",
    "clean_revenues_df.to_csv(\"output/clean_revenues.csv\",index=False)\n",
    "\n",
    "clean_revenues_df.head()"
   ]
  },
  {
   "cell_type": "code",
   "execution_count": 22,
   "metadata": {},
   "outputs": [
    {
     "output_type": "execute_result",
     "data": {
      "text/plain": [
       "  country_code country_code2\n",
       "0           AF           AFG\n",
       "1           AL           ALB\n",
       "2           DZ           DZA\n",
       "3           AS           ASM\n",
       "4           AD           AND"
      ],
      "text/html": "<div>\n<style scoped>\n    .dataframe tbody tr th:only-of-type {\n        vertical-align: middle;\n    }\n\n    .dataframe tbody tr th {\n        vertical-align: top;\n    }\n\n    .dataframe thead th {\n        text-align: right;\n    }\n</style>\n<table border=\"1\" class=\"dataframe\">\n  <thead>\n    <tr style=\"text-align: right;\">\n      <th></th>\n      <th>country_code</th>\n      <th>country_code2</th>\n    </tr>\n  </thead>\n  <tbody>\n    <tr>\n      <th>0</th>\n      <td>AF</td>\n      <td>AFG</td>\n    </tr>\n    <tr>\n      <th>1</th>\n      <td>AL</td>\n      <td>ALB</td>\n    </tr>\n    <tr>\n      <th>2</th>\n      <td>DZ</td>\n      <td>DZA</td>\n    </tr>\n    <tr>\n      <th>3</th>\n      <td>AS</td>\n      <td>ASM</td>\n    </tr>\n    <tr>\n      <th>4</th>\n      <td>AD</td>\n      <td>AND</td>\n    </tr>\n  </tbody>\n</table>\n</div>"
     },
     "metadata": {},
     "execution_count": 22
    }
   ],
   "source": [
    "clean_book_df=book_csv[[\"CountryCode\",\"CountryCode2\"]]\n",
    "clean_book_df=clean_book_df.rename(columns= {\"CountryCode\" : \"country_code\",\"CountryCode2\" :\"country_code2\"})\n",
    "clean_book_df.to_csv(\"output/clean_book.csv\",index=False)\n",
    "clean_book_df.head()"
   ]
  },
  {
   "cell_type": "code",
   "execution_count": 13,
   "metadata": {},
   "outputs": [
    {
     "output_type": "execute_result",
     "data": {
      "text/plain": [
       "         country   latitude  longitude continent_name country_code\n",
       "0  Aland Islands  60.116667  19.900000         Europe          ALA\n",
       "1        Albania  41.316667  19.816667         Europe          ALB\n",
       "2        Andorra  42.500000   1.516667         Europe          AND\n",
       "3        Armenia  40.166667  44.500000         Europe          ARM\n",
       "4        Austria  48.200000  16.366667         Europe          AUT"
      ],
      "text/html": "<div>\n<style scoped>\n    .dataframe tbody tr th:only-of-type {\n        vertical-align: middle;\n    }\n\n    .dataframe tbody tr th {\n        vertical-align: top;\n    }\n\n    .dataframe thead th {\n        text-align: right;\n    }\n</style>\n<table border=\"1\" class=\"dataframe\">\n  <thead>\n    <tr style=\"text-align: right;\">\n      <th></th>\n      <th>country</th>\n      <th>latitude</th>\n      <th>longitude</th>\n      <th>continent_name</th>\n      <th>country_code</th>\n    </tr>\n  </thead>\n  <tbody>\n    <tr>\n      <th>0</th>\n      <td>Aland Islands</td>\n      <td>60.116667</td>\n      <td>19.900000</td>\n      <td>Europe</td>\n      <td>ALA</td>\n    </tr>\n    <tr>\n      <th>1</th>\n      <td>Albania</td>\n      <td>41.316667</td>\n      <td>19.816667</td>\n      <td>Europe</td>\n      <td>ALB</td>\n    </tr>\n    <tr>\n      <th>2</th>\n      <td>Andorra</td>\n      <td>42.500000</td>\n      <td>1.516667</td>\n      <td>Europe</td>\n      <td>AND</td>\n    </tr>\n    <tr>\n      <th>3</th>\n      <td>Armenia</td>\n      <td>40.166667</td>\n      <td>44.500000</td>\n      <td>Europe</td>\n      <td>ARM</td>\n    </tr>\n    <tr>\n      <th>4</th>\n      <td>Austria</td>\n      <td>48.200000</td>\n      <td>16.366667</td>\n      <td>Europe</td>\n      <td>AUT</td>\n    </tr>\n  </tbody>\n</table>\n</div>"
     },
     "metadata": {},
     "execution_count": 13
    }
   ],
   "source": [
    "merge_loc_book_df= pd.merge(clean_location_df,clean_book_df,on=\"country_code\",how=\"inner\")\n",
    "loc_book_df=merge_loc_book_df.drop([\"country_code\"],axis=1).rename(columns={\"country_code2\":\"country_code\"})\n",
    "loc_book_df=loc_book_df.loc[loc_book_df[\"continent_name\"]==\"Europe\"]\n",
    "loc_book_df.head()"
   ]
  },
  {
   "cell_type": "code",
   "execution_count": 14,
   "metadata": {},
   "outputs": [],
   "source": [
    "location=loc_book_df.to_csv(\"output/location.csv\",index=False)\n",
    "location\n"
   ]
  },
  {
   "cell_type": "code",
   "execution_count": 15,
   "metadata": {},
   "outputs": [
    {
     "output_type": "execute_result",
     "data": {
      "text/plain": [
       "      country   latitude  longitude continent_name country_code  \\\n",
       "0     Albania  41.316667  19.816667         Europe          ALB   \n",
       "1     Armenia  40.166667  44.500000         Europe          ARM   \n",
       "2     Austria  48.200000  16.366667         Europe          AUT   \n",
       "3  Azerbaijan  40.383333  49.866667         Europe          AZE   \n",
       "4     Belgium  50.833333   4.333333         Europe          BEL   \n",
       "\n",
       "   total_arrivals_1995  total_arrivals_1996  total_arrivals_1997  \\\n",
       "0             304000.0             287000.0             119000.0   \n",
       "1              12000.0              13000.0              23000.0   \n",
       "2           17173000.0           17090000.0           16647000.0   \n",
       "3              93000.0             210000.0             306000.0   \n",
       "4            5560000.0            5829000.0            6037000.0   \n",
       "\n",
       "   total_arrivals_1998  total_arrivals_1999  ...  total_arrivals_2010  \\\n",
       "0             184000.0             371000.0  ...            2417000.0   \n",
       "1              32000.0              41000.0  ...             684000.0   \n",
       "2           17352000.0           17467000.0  ...           22004000.0   \n",
       "3             483000.0             602000.0  ...            1963000.0   \n",
       "4            6179000.0            6369000.0  ...            7186000.0   \n",
       "\n",
       "   total_arrivals_2011  total_arrivals_2012  total_arrivals_2013  \\\n",
       "0            2932000.0            3514000.0            3256000.0   \n",
       "1             758000.0             963000.0            1084000.0   \n",
       "2           23012000.0           24151000.0           24813000.0   \n",
       "3            2239000.0            2484000.0            2509000.0   \n",
       "4            7494000.0            7560000.0            7684000.0   \n",
       "\n",
       "   total_arrivals_2014  total_arrivals_2015  total_arrivals_2016  \\\n",
       "0            3673000.0            4131000.0            4736000.0   \n",
       "1            1204000.0            1192000.0            1260000.0   \n",
       "2           25291000.0           26728000.0           28121000.0   \n",
       "3            2298000.0            2006000.0            2249000.0   \n",
       "4            7887000.0            8355000.0            7481000.0   \n",
       "\n",
       "   total_arrivals_2017  total_arrivals_2018  total_arrivals_2019  \n",
       "0            5118000.0            5927000.0            6406000.0  \n",
       "1            1495000.0            1652000.0            1894000.0  \n",
       "2           29460000.0           30816000.0           31884000.0  \n",
       "3            2697000.0            2850000.0            3170000.0  \n",
       "4            8385000.0            9119000.0            9343000.0  \n",
       "\n",
       "[5 rows x 30 columns]"
      ],
      "text/html": "<div>\n<style scoped>\n    .dataframe tbody tr th:only-of-type {\n        vertical-align: middle;\n    }\n\n    .dataframe tbody tr th {\n        vertical-align: top;\n    }\n\n    .dataframe thead th {\n        text-align: right;\n    }\n</style>\n<table border=\"1\" class=\"dataframe\">\n  <thead>\n    <tr style=\"text-align: right;\">\n      <th></th>\n      <th>country</th>\n      <th>latitude</th>\n      <th>longitude</th>\n      <th>continent_name</th>\n      <th>country_code</th>\n      <th>total_arrivals_1995</th>\n      <th>total_arrivals_1996</th>\n      <th>total_arrivals_1997</th>\n      <th>total_arrivals_1998</th>\n      <th>total_arrivals_1999</th>\n      <th>...</th>\n      <th>total_arrivals_2010</th>\n      <th>total_arrivals_2011</th>\n      <th>total_arrivals_2012</th>\n      <th>total_arrivals_2013</th>\n      <th>total_arrivals_2014</th>\n      <th>total_arrivals_2015</th>\n      <th>total_arrivals_2016</th>\n      <th>total_arrivals_2017</th>\n      <th>total_arrivals_2018</th>\n      <th>total_arrivals_2019</th>\n    </tr>\n  </thead>\n  <tbody>\n    <tr>\n      <th>0</th>\n      <td>Albania</td>\n      <td>41.316667</td>\n      <td>19.816667</td>\n      <td>Europe</td>\n      <td>ALB</td>\n      <td>304000.0</td>\n      <td>287000.0</td>\n      <td>119000.0</td>\n      <td>184000.0</td>\n      <td>371000.0</td>\n      <td>...</td>\n      <td>2417000.0</td>\n      <td>2932000.0</td>\n      <td>3514000.0</td>\n      <td>3256000.0</td>\n      <td>3673000.0</td>\n      <td>4131000.0</td>\n      <td>4736000.0</td>\n      <td>5118000.0</td>\n      <td>5927000.0</td>\n      <td>6406000.0</td>\n    </tr>\n    <tr>\n      <th>1</th>\n      <td>Armenia</td>\n      <td>40.166667</td>\n      <td>44.500000</td>\n      <td>Europe</td>\n      <td>ARM</td>\n      <td>12000.0</td>\n      <td>13000.0</td>\n      <td>23000.0</td>\n      <td>32000.0</td>\n      <td>41000.0</td>\n      <td>...</td>\n      <td>684000.0</td>\n      <td>758000.0</td>\n      <td>963000.0</td>\n      <td>1084000.0</td>\n      <td>1204000.0</td>\n      <td>1192000.0</td>\n      <td>1260000.0</td>\n      <td>1495000.0</td>\n      <td>1652000.0</td>\n      <td>1894000.0</td>\n    </tr>\n    <tr>\n      <th>2</th>\n      <td>Austria</td>\n      <td>48.200000</td>\n      <td>16.366667</td>\n      <td>Europe</td>\n      <td>AUT</td>\n      <td>17173000.0</td>\n      <td>17090000.0</td>\n      <td>16647000.0</td>\n      <td>17352000.0</td>\n      <td>17467000.0</td>\n      <td>...</td>\n      <td>22004000.0</td>\n      <td>23012000.0</td>\n      <td>24151000.0</td>\n      <td>24813000.0</td>\n      <td>25291000.0</td>\n      <td>26728000.0</td>\n      <td>28121000.0</td>\n      <td>29460000.0</td>\n      <td>30816000.0</td>\n      <td>31884000.0</td>\n    </tr>\n    <tr>\n      <th>3</th>\n      <td>Azerbaijan</td>\n      <td>40.383333</td>\n      <td>49.866667</td>\n      <td>Europe</td>\n      <td>AZE</td>\n      <td>93000.0</td>\n      <td>210000.0</td>\n      <td>306000.0</td>\n      <td>483000.0</td>\n      <td>602000.0</td>\n      <td>...</td>\n      <td>1963000.0</td>\n      <td>2239000.0</td>\n      <td>2484000.0</td>\n      <td>2509000.0</td>\n      <td>2298000.0</td>\n      <td>2006000.0</td>\n      <td>2249000.0</td>\n      <td>2697000.0</td>\n      <td>2850000.0</td>\n      <td>3170000.0</td>\n    </tr>\n    <tr>\n      <th>4</th>\n      <td>Belgium</td>\n      <td>50.833333</td>\n      <td>4.333333</td>\n      <td>Europe</td>\n      <td>BEL</td>\n      <td>5560000.0</td>\n      <td>5829000.0</td>\n      <td>6037000.0</td>\n      <td>6179000.0</td>\n      <td>6369000.0</td>\n      <td>...</td>\n      <td>7186000.0</td>\n      <td>7494000.0</td>\n      <td>7560000.0</td>\n      <td>7684000.0</td>\n      <td>7887000.0</td>\n      <td>8355000.0</td>\n      <td>7481000.0</td>\n      <td>8385000.0</td>\n      <td>9119000.0</td>\n      <td>9343000.0</td>\n    </tr>\n  </tbody>\n</table>\n<p>5 rows × 30 columns</p>\n</div>"
     },
     "metadata": {},
     "execution_count": 15
    }
   ],
   "source": [
    "arrivals_loc_merge=pd.merge(loc_book_df,clean_arrivals_df,on=\"country_code\",how=\"inner\")\n",
    "arrivals_loc_merge.head()"
   ]
  },
  {
   "cell_type": "code",
   "execution_count": 16,
   "metadata": {},
   "outputs": [],
   "source": [
    "arrivals=arrivals_loc_merge.to_csv(\"output/arrivals.csv\",index=False)\n",
    "arrivals"
   ]
  },
  {
   "cell_type": "code",
   "execution_count": 17,
   "metadata": {},
   "outputs": [
    {
     "output_type": "execute_result",
     "data": {
      "text/plain": [
       "      country   latitude  longitude continent_name country_code  \\\n",
       "0     Albania  41.316667  19.816667         Europe          ALB   \n",
       "1     Armenia  40.166667  44.500000         Europe          ARM   \n",
       "2  Azerbaijan  40.383333  49.866667         Europe          AZE   \n",
       "3     Belarus  53.900000  27.566667         Europe          BLR   \n",
       "4    Bulgaria  42.683333  23.316667         Europe          BGR   \n",
       "\n",
       "   total_revenues_1995  total_revenues_1996  total_revenues_1997  \\\n",
       "0           70000000.0           94000000.0           34000000.0   \n",
       "1           14000000.0           18000000.0           33000000.0   \n",
       "2           87000000.0           57000000.0          176000000.0   \n",
       "3           28000000.0           61000000.0           40000000.0   \n",
       "4          662000000.0          541000000.0          517000000.0   \n",
       "\n",
       "   total_revenues_1998  total_revenues_1999  ...  total_revenues_2010  \\\n",
       "0         6.000000e+07         2.180000e+08  ...         1.778000e+09   \n",
       "1         4.100000e+07         4.700000e+07  ...         6.940000e+08   \n",
       "2         1.430000e+08         9.300000e+07  ...         7.920000e+08   \n",
       "3         5.400000e+07         9.200000e+07  ...         6.650000e+08   \n",
       "4         1.150000e+09         1.184000e+09  ...         3.807000e+09   \n",
       "\n",
       "   total_revenues_2011  total_revenues_2012  total_revenues_2013  \\\n",
       "0         1.833000e+09         1.623000e+09         1.670000e+09   \n",
       "1         7.620000e+08         8.530000e+08         9.050000e+08   \n",
       "2         1.500000e+09         2.634000e+09         2.618000e+09   \n",
       "3         7.470000e+08         9.860000e+08         1.156000e+09   \n",
       "4         4.297000e+09         3.975000e+09         4.410000e+09   \n",
       "\n",
       "   total_revenues_2014  total_revenues_2015  total_revenues_2016  \\\n",
       "0         1.849000e+09         1.613000e+09         1.821000e+09   \n",
       "1         9.940000e+08         9.560000e+08         1.037000e+09   \n",
       "2         2.713000e+09         2.535000e+09         2.855000e+09   \n",
       "3         1.230000e+09         1.013000e+09         1.019000e+09   \n",
       "4         4.518000e+09         3.583000e+09         4.164000e+09   \n",
       "\n",
       "   total_revenues_2017  total_revenues_2018  total_revenues_2019  \n",
       "0         2.050000e+09         2.306000e+09         2.458000e+09  \n",
       "1         1.224000e+09         1.358000e+09         1.553000e+09  \n",
       "2         3.214000e+09         2.830000e+09         2.004100e+09  \n",
       "3         1.124500e+09         1.221000e+09         1.290000e+09  \n",
       "4         4.678000e+09         5.055000e+09         4.825000e+09  \n",
       "\n",
       "[5 rows x 30 columns]"
      ],
      "text/html": "<div>\n<style scoped>\n    .dataframe tbody tr th:only-of-type {\n        vertical-align: middle;\n    }\n\n    .dataframe tbody tr th {\n        vertical-align: top;\n    }\n\n    .dataframe thead th {\n        text-align: right;\n    }\n</style>\n<table border=\"1\" class=\"dataframe\">\n  <thead>\n    <tr style=\"text-align: right;\">\n      <th></th>\n      <th>country</th>\n      <th>latitude</th>\n      <th>longitude</th>\n      <th>continent_name</th>\n      <th>country_code</th>\n      <th>total_revenues_1995</th>\n      <th>total_revenues_1996</th>\n      <th>total_revenues_1997</th>\n      <th>total_revenues_1998</th>\n      <th>total_revenues_1999</th>\n      <th>...</th>\n      <th>total_revenues_2010</th>\n      <th>total_revenues_2011</th>\n      <th>total_revenues_2012</th>\n      <th>total_revenues_2013</th>\n      <th>total_revenues_2014</th>\n      <th>total_revenues_2015</th>\n      <th>total_revenues_2016</th>\n      <th>total_revenues_2017</th>\n      <th>total_revenues_2018</th>\n      <th>total_revenues_2019</th>\n    </tr>\n  </thead>\n  <tbody>\n    <tr>\n      <th>0</th>\n      <td>Albania</td>\n      <td>41.316667</td>\n      <td>19.816667</td>\n      <td>Europe</td>\n      <td>ALB</td>\n      <td>70000000.0</td>\n      <td>94000000.0</td>\n      <td>34000000.0</td>\n      <td>6.000000e+07</td>\n      <td>2.180000e+08</td>\n      <td>...</td>\n      <td>1.778000e+09</td>\n      <td>1.833000e+09</td>\n      <td>1.623000e+09</td>\n      <td>1.670000e+09</td>\n      <td>1.849000e+09</td>\n      <td>1.613000e+09</td>\n      <td>1.821000e+09</td>\n      <td>2.050000e+09</td>\n      <td>2.306000e+09</td>\n      <td>2.458000e+09</td>\n    </tr>\n    <tr>\n      <th>1</th>\n      <td>Armenia</td>\n      <td>40.166667</td>\n      <td>44.500000</td>\n      <td>Europe</td>\n      <td>ARM</td>\n      <td>14000000.0</td>\n      <td>18000000.0</td>\n      <td>33000000.0</td>\n      <td>4.100000e+07</td>\n      <td>4.700000e+07</td>\n      <td>...</td>\n      <td>6.940000e+08</td>\n      <td>7.620000e+08</td>\n      <td>8.530000e+08</td>\n      <td>9.050000e+08</td>\n      <td>9.940000e+08</td>\n      <td>9.560000e+08</td>\n      <td>1.037000e+09</td>\n      <td>1.224000e+09</td>\n      <td>1.358000e+09</td>\n      <td>1.553000e+09</td>\n    </tr>\n    <tr>\n      <th>2</th>\n      <td>Azerbaijan</td>\n      <td>40.383333</td>\n      <td>49.866667</td>\n      <td>Europe</td>\n      <td>AZE</td>\n      <td>87000000.0</td>\n      <td>57000000.0</td>\n      <td>176000000.0</td>\n      <td>1.430000e+08</td>\n      <td>9.300000e+07</td>\n      <td>...</td>\n      <td>7.920000e+08</td>\n      <td>1.500000e+09</td>\n      <td>2.634000e+09</td>\n      <td>2.618000e+09</td>\n      <td>2.713000e+09</td>\n      <td>2.535000e+09</td>\n      <td>2.855000e+09</td>\n      <td>3.214000e+09</td>\n      <td>2.830000e+09</td>\n      <td>2.004100e+09</td>\n    </tr>\n    <tr>\n      <th>3</th>\n      <td>Belarus</td>\n      <td>53.900000</td>\n      <td>27.566667</td>\n      <td>Europe</td>\n      <td>BLR</td>\n      <td>28000000.0</td>\n      <td>61000000.0</td>\n      <td>40000000.0</td>\n      <td>5.400000e+07</td>\n      <td>9.200000e+07</td>\n      <td>...</td>\n      <td>6.650000e+08</td>\n      <td>7.470000e+08</td>\n      <td>9.860000e+08</td>\n      <td>1.156000e+09</td>\n      <td>1.230000e+09</td>\n      <td>1.013000e+09</td>\n      <td>1.019000e+09</td>\n      <td>1.124500e+09</td>\n      <td>1.221000e+09</td>\n      <td>1.290000e+09</td>\n    </tr>\n    <tr>\n      <th>4</th>\n      <td>Bulgaria</td>\n      <td>42.683333</td>\n      <td>23.316667</td>\n      <td>Europe</td>\n      <td>BGR</td>\n      <td>662000000.0</td>\n      <td>541000000.0</td>\n      <td>517000000.0</td>\n      <td>1.150000e+09</td>\n      <td>1.184000e+09</td>\n      <td>...</td>\n      <td>3.807000e+09</td>\n      <td>4.297000e+09</td>\n      <td>3.975000e+09</td>\n      <td>4.410000e+09</td>\n      <td>4.518000e+09</td>\n      <td>3.583000e+09</td>\n      <td>4.164000e+09</td>\n      <td>4.678000e+09</td>\n      <td>5.055000e+09</td>\n      <td>4.825000e+09</td>\n    </tr>\n  </tbody>\n</table>\n<p>5 rows × 30 columns</p>\n</div>"
     },
     "metadata": {},
     "execution_count": 17
    }
   ],
   "source": [
    "revenues_loc_merge=pd.merge(loc_book_df,clean_revenues_df,on=\"country_code\",how=\"inner\")\n",
    "revenues_loc_merge.head()"
   ]
  },
  {
   "cell_type": "code",
   "execution_count": 18,
   "metadata": {},
   "outputs": [],
   "source": [
    "revenues=revenues_loc_merge.to_csv(\"output/revenues.csv\",index=False)\n",
    "revenues"
   ]
  },
  {
   "cell_type": "markdown",
   "metadata": {},
   "source": [
    "### Connect to local database"
   ]
  },
  {
   "cell_type": "code",
   "execution_count": 19,
   "metadata": {},
   "outputs": [],
   "source": [
    "rds_connection_string = f\"postgres:{pass_word}@localhost:5432/tourist_db\"\n",
    "engine = create_engine(f'postgresql://{rds_connection_string}')"
   ]
  },
  {
   "cell_type": "markdown",
   "metadata": {},
   "source": [
    "### Check for tables"
   ]
  },
  {
   "cell_type": "code",
   "execution_count": 20,
   "metadata": {},
   "outputs": [
    {
     "output_type": "error",
     "ename": "OperationalError",
     "evalue": "(psycopg2.OperationalError) FATAL:  password authentication failed for user \"postgres\"\n\n(Background on this error at: http://sqlalche.me/e/e3q8)",
     "traceback": [
      "\u001b[1;31m---------------------------------------------------------------------------\u001b[0m",
      "\u001b[1;31mOperationalError\u001b[0m                          Traceback (most recent call last)",
      "\u001b[1;32m~\\anaconda3\\lib\\site-packages\\sqlalchemy\\engine\\base.py\u001b[0m in \u001b[0;36m_wrap_pool_connect\u001b[1;34m(self, fn, connection)\u001b[0m\n\u001b[0;32m   2275\u001b[0m         \u001b[1;32mtry\u001b[0m\u001b[1;33m:\u001b[0m\u001b[1;33m\u001b[0m\u001b[1;33m\u001b[0m\u001b[0m\n\u001b[1;32m-> 2276\u001b[1;33m             \u001b[1;32mreturn\u001b[0m \u001b[0mfn\u001b[0m\u001b[1;33m(\u001b[0m\u001b[1;33m)\u001b[0m\u001b[1;33m\u001b[0m\u001b[1;33m\u001b[0m\u001b[0m\n\u001b[0m\u001b[0;32m   2277\u001b[0m         \u001b[1;32mexcept\u001b[0m \u001b[0mdialect\u001b[0m\u001b[1;33m.\u001b[0m\u001b[0mdbapi\u001b[0m\u001b[1;33m.\u001b[0m\u001b[0mError\u001b[0m \u001b[1;32mas\u001b[0m \u001b[0me\u001b[0m\u001b[1;33m:\u001b[0m\u001b[1;33m\u001b[0m\u001b[1;33m\u001b[0m\u001b[0m\n",
      "\u001b[1;32m~\\anaconda3\\lib\\site-packages\\sqlalchemy\\pool\\base.py\u001b[0m in \u001b[0;36mconnect\u001b[1;34m(self)\u001b[0m\n\u001b[0;32m    362\u001b[0m         \u001b[1;32mif\u001b[0m \u001b[1;32mnot\u001b[0m \u001b[0mself\u001b[0m\u001b[1;33m.\u001b[0m\u001b[0m_use_threadlocal\u001b[0m\u001b[1;33m:\u001b[0m\u001b[1;33m\u001b[0m\u001b[1;33m\u001b[0m\u001b[0m\n\u001b[1;32m--> 363\u001b[1;33m             \u001b[1;32mreturn\u001b[0m \u001b[0m_ConnectionFairy\u001b[0m\u001b[1;33m.\u001b[0m\u001b[0m_checkout\u001b[0m\u001b[1;33m(\u001b[0m\u001b[0mself\u001b[0m\u001b[1;33m)\u001b[0m\u001b[1;33m\u001b[0m\u001b[1;33m\u001b[0m\u001b[0m\n\u001b[0m\u001b[0;32m    364\u001b[0m \u001b[1;33m\u001b[0m\u001b[0m\n",
      "\u001b[1;32m~\\anaconda3\\lib\\site-packages\\sqlalchemy\\pool\\base.py\u001b[0m in \u001b[0;36m_checkout\u001b[1;34m(cls, pool, threadconns, fairy)\u001b[0m\n\u001b[0;32m    772\u001b[0m         \u001b[1;32mif\u001b[0m \u001b[1;32mnot\u001b[0m \u001b[0mfairy\u001b[0m\u001b[1;33m:\u001b[0m\u001b[1;33m\u001b[0m\u001b[1;33m\u001b[0m\u001b[0m\n\u001b[1;32m--> 773\u001b[1;33m             \u001b[0mfairy\u001b[0m \u001b[1;33m=\u001b[0m \u001b[0m_ConnectionRecord\u001b[0m\u001b[1;33m.\u001b[0m\u001b[0mcheckout\u001b[0m\u001b[1;33m(\u001b[0m\u001b[0mpool\u001b[0m\u001b[1;33m)\u001b[0m\u001b[1;33m\u001b[0m\u001b[1;33m\u001b[0m\u001b[0m\n\u001b[0m\u001b[0;32m    774\u001b[0m \u001b[1;33m\u001b[0m\u001b[0m\n",
      "\u001b[1;32m~\\anaconda3\\lib\\site-packages\\sqlalchemy\\pool\\base.py\u001b[0m in \u001b[0;36mcheckout\u001b[1;34m(cls, pool)\u001b[0m\n\u001b[0;32m    491\u001b[0m     \u001b[1;32mdef\u001b[0m \u001b[0mcheckout\u001b[0m\u001b[1;33m(\u001b[0m\u001b[0mcls\u001b[0m\u001b[1;33m,\u001b[0m \u001b[0mpool\u001b[0m\u001b[1;33m)\u001b[0m\u001b[1;33m:\u001b[0m\u001b[1;33m\u001b[0m\u001b[1;33m\u001b[0m\u001b[0m\n\u001b[1;32m--> 492\u001b[1;33m         \u001b[0mrec\u001b[0m \u001b[1;33m=\u001b[0m \u001b[0mpool\u001b[0m\u001b[1;33m.\u001b[0m\u001b[0m_do_get\u001b[0m\u001b[1;33m(\u001b[0m\u001b[1;33m)\u001b[0m\u001b[1;33m\u001b[0m\u001b[1;33m\u001b[0m\u001b[0m\n\u001b[0m\u001b[0;32m    493\u001b[0m         \u001b[1;32mtry\u001b[0m\u001b[1;33m:\u001b[0m\u001b[1;33m\u001b[0m\u001b[1;33m\u001b[0m\u001b[0m\n",
      "\u001b[1;32m~\\anaconda3\\lib\\site-packages\\sqlalchemy\\pool\\impl.py\u001b[0m in \u001b[0;36m_do_get\u001b[1;34m(self)\u001b[0m\n\u001b[0;32m    138\u001b[0m                 \u001b[1;32mwith\u001b[0m \u001b[0mutil\u001b[0m\u001b[1;33m.\u001b[0m\u001b[0msafe_reraise\u001b[0m\u001b[1;33m(\u001b[0m\u001b[1;33m)\u001b[0m\u001b[1;33m:\u001b[0m\u001b[1;33m\u001b[0m\u001b[1;33m\u001b[0m\u001b[0m\n\u001b[1;32m--> 139\u001b[1;33m                     \u001b[0mself\u001b[0m\u001b[1;33m.\u001b[0m\u001b[0m_dec_overflow\u001b[0m\u001b[1;33m(\u001b[0m\u001b[1;33m)\u001b[0m\u001b[1;33m\u001b[0m\u001b[1;33m\u001b[0m\u001b[0m\n\u001b[0m\u001b[0;32m    140\u001b[0m         \u001b[1;32melse\u001b[0m\u001b[1;33m:\u001b[0m\u001b[1;33m\u001b[0m\u001b[1;33m\u001b[0m\u001b[0m\n",
      "\u001b[1;32m~\\anaconda3\\lib\\site-packages\\sqlalchemy\\util\\langhelpers.py\u001b[0m in \u001b[0;36m__exit__\u001b[1;34m(self, type_, value, traceback)\u001b[0m\n\u001b[0;32m     67\u001b[0m             \u001b[1;32mif\u001b[0m \u001b[1;32mnot\u001b[0m \u001b[0mself\u001b[0m\u001b[1;33m.\u001b[0m\u001b[0mwarn_only\u001b[0m\u001b[1;33m:\u001b[0m\u001b[1;33m\u001b[0m\u001b[1;33m\u001b[0m\u001b[0m\n\u001b[1;32m---> 68\u001b[1;33m                 \u001b[0mcompat\u001b[0m\u001b[1;33m.\u001b[0m\u001b[0mreraise\u001b[0m\u001b[1;33m(\u001b[0m\u001b[0mexc_type\u001b[0m\u001b[1;33m,\u001b[0m \u001b[0mexc_value\u001b[0m\u001b[1;33m,\u001b[0m \u001b[0mexc_tb\u001b[0m\u001b[1;33m)\u001b[0m\u001b[1;33m\u001b[0m\u001b[1;33m\u001b[0m\u001b[0m\n\u001b[0m\u001b[0;32m     69\u001b[0m         \u001b[1;32melse\u001b[0m\u001b[1;33m:\u001b[0m\u001b[1;33m\u001b[0m\u001b[1;33m\u001b[0m\u001b[0m\n",
      "\u001b[1;32m~\\anaconda3\\lib\\site-packages\\sqlalchemy\\util\\compat.py\u001b[0m in \u001b[0;36mreraise\u001b[1;34m(tp, value, tb, cause)\u001b[0m\n\u001b[0;32m    152\u001b[0m             \u001b[1;32mraise\u001b[0m \u001b[0mvalue\u001b[0m\u001b[1;33m.\u001b[0m\u001b[0mwith_traceback\u001b[0m\u001b[1;33m(\u001b[0m\u001b[0mtb\u001b[0m\u001b[1;33m)\u001b[0m\u001b[1;33m\u001b[0m\u001b[1;33m\u001b[0m\u001b[0m\n\u001b[1;32m--> 153\u001b[1;33m         \u001b[1;32mraise\u001b[0m \u001b[0mvalue\u001b[0m\u001b[1;33m\u001b[0m\u001b[1;33m\u001b[0m\u001b[0m\n\u001b[0m\u001b[0;32m    154\u001b[0m \u001b[1;33m\u001b[0m\u001b[0m\n",
      "\u001b[1;32m~\\anaconda3\\lib\\site-packages\\sqlalchemy\\pool\\impl.py\u001b[0m in \u001b[0;36m_do_get\u001b[1;34m(self)\u001b[0m\n\u001b[0;32m    135\u001b[0m             \u001b[1;32mtry\u001b[0m\u001b[1;33m:\u001b[0m\u001b[1;33m\u001b[0m\u001b[1;33m\u001b[0m\u001b[0m\n\u001b[1;32m--> 136\u001b[1;33m                 \u001b[1;32mreturn\u001b[0m \u001b[0mself\u001b[0m\u001b[1;33m.\u001b[0m\u001b[0m_create_connection\u001b[0m\u001b[1;33m(\u001b[0m\u001b[1;33m)\u001b[0m\u001b[1;33m\u001b[0m\u001b[1;33m\u001b[0m\u001b[0m\n\u001b[0m\u001b[0;32m    137\u001b[0m             \u001b[1;32mexcept\u001b[0m\u001b[1;33m:\u001b[0m\u001b[1;33m\u001b[0m\u001b[1;33m\u001b[0m\u001b[0m\n",
      "\u001b[1;32m~\\anaconda3\\lib\\site-packages\\sqlalchemy\\pool\\base.py\u001b[0m in \u001b[0;36m_create_connection\u001b[1;34m(self)\u001b[0m\n\u001b[0;32m    307\u001b[0m \u001b[1;33m\u001b[0m\u001b[0m\n\u001b[1;32m--> 308\u001b[1;33m         \u001b[1;32mreturn\u001b[0m \u001b[0m_ConnectionRecord\u001b[0m\u001b[1;33m(\u001b[0m\u001b[0mself\u001b[0m\u001b[1;33m)\u001b[0m\u001b[1;33m\u001b[0m\u001b[1;33m\u001b[0m\u001b[0m\n\u001b[0m\u001b[0;32m    309\u001b[0m \u001b[1;33m\u001b[0m\u001b[0m\n",
      "\u001b[1;32m~\\anaconda3\\lib\\site-packages\\sqlalchemy\\pool\\base.py\u001b[0m in \u001b[0;36m__init__\u001b[1;34m(self, pool, connect)\u001b[0m\n\u001b[0;32m    436\u001b[0m         \u001b[1;32mif\u001b[0m \u001b[0mconnect\u001b[0m\u001b[1;33m:\u001b[0m\u001b[1;33m\u001b[0m\u001b[1;33m\u001b[0m\u001b[0m\n\u001b[1;32m--> 437\u001b[1;33m             \u001b[0mself\u001b[0m\u001b[1;33m.\u001b[0m\u001b[0m__connect\u001b[0m\u001b[1;33m(\u001b[0m\u001b[0mfirst_connect_check\u001b[0m\u001b[1;33m=\u001b[0m\u001b[1;32mTrue\u001b[0m\u001b[1;33m)\u001b[0m\u001b[1;33m\u001b[0m\u001b[1;33m\u001b[0m\u001b[0m\n\u001b[0m\u001b[0;32m    438\u001b[0m         \u001b[0mself\u001b[0m\u001b[1;33m.\u001b[0m\u001b[0mfinalize_callback\u001b[0m \u001b[1;33m=\u001b[0m \u001b[0mdeque\u001b[0m\u001b[1;33m(\u001b[0m\u001b[1;33m)\u001b[0m\u001b[1;33m\u001b[0m\u001b[1;33m\u001b[0m\u001b[0m\n",
      "\u001b[1;32m~\\anaconda3\\lib\\site-packages\\sqlalchemy\\pool\\base.py\u001b[0m in \u001b[0;36m__connect\u001b[1;34m(self, first_connect_check)\u001b[0m\n\u001b[0;32m    651\u001b[0m             \u001b[0mself\u001b[0m\u001b[1;33m.\u001b[0m\u001b[0mstarttime\u001b[0m \u001b[1;33m=\u001b[0m \u001b[0mtime\u001b[0m\u001b[1;33m.\u001b[0m\u001b[0mtime\u001b[0m\u001b[1;33m(\u001b[0m\u001b[1;33m)\u001b[0m\u001b[1;33m\u001b[0m\u001b[1;33m\u001b[0m\u001b[0m\n\u001b[1;32m--> 652\u001b[1;33m             \u001b[0mconnection\u001b[0m \u001b[1;33m=\u001b[0m \u001b[0mpool\u001b[0m\u001b[1;33m.\u001b[0m\u001b[0m_invoke_creator\u001b[0m\u001b[1;33m(\u001b[0m\u001b[0mself\u001b[0m\u001b[1;33m)\u001b[0m\u001b[1;33m\u001b[0m\u001b[1;33m\u001b[0m\u001b[0m\n\u001b[0m\u001b[0;32m    653\u001b[0m             \u001b[0mpool\u001b[0m\u001b[1;33m.\u001b[0m\u001b[0mlogger\u001b[0m\u001b[1;33m.\u001b[0m\u001b[0mdebug\u001b[0m\u001b[1;33m(\u001b[0m\u001b[1;34m\"Created new connection %r\"\u001b[0m\u001b[1;33m,\u001b[0m \u001b[0mconnection\u001b[0m\u001b[1;33m)\u001b[0m\u001b[1;33m\u001b[0m\u001b[1;33m\u001b[0m\u001b[0m\n",
      "\u001b[1;32m~\\anaconda3\\lib\\site-packages\\sqlalchemy\\engine\\strategies.py\u001b[0m in \u001b[0;36mconnect\u001b[1;34m(connection_record)\u001b[0m\n\u001b[0;32m    113\u001b[0m                             \u001b[1;32mreturn\u001b[0m \u001b[0mconnection\u001b[0m\u001b[1;33m\u001b[0m\u001b[1;33m\u001b[0m\u001b[0m\n\u001b[1;32m--> 114\u001b[1;33m                 \u001b[1;32mreturn\u001b[0m \u001b[0mdialect\u001b[0m\u001b[1;33m.\u001b[0m\u001b[0mconnect\u001b[0m\u001b[1;33m(\u001b[0m\u001b[1;33m*\u001b[0m\u001b[0mcargs\u001b[0m\u001b[1;33m,\u001b[0m \u001b[1;33m**\u001b[0m\u001b[0mcparams\u001b[0m\u001b[1;33m)\u001b[0m\u001b[1;33m\u001b[0m\u001b[1;33m\u001b[0m\u001b[0m\n\u001b[0m\u001b[0;32m    115\u001b[0m \u001b[1;33m\u001b[0m\u001b[0m\n",
      "\u001b[1;32m~\\anaconda3\\lib\\site-packages\\sqlalchemy\\engine\\default.py\u001b[0m in \u001b[0;36mconnect\u001b[1;34m(self, *cargs, **cparams)\u001b[0m\n\u001b[0;32m    488\u001b[0m     \u001b[1;32mdef\u001b[0m \u001b[0mconnect\u001b[0m\u001b[1;33m(\u001b[0m\u001b[0mself\u001b[0m\u001b[1;33m,\u001b[0m \u001b[1;33m*\u001b[0m\u001b[0mcargs\u001b[0m\u001b[1;33m,\u001b[0m \u001b[1;33m**\u001b[0m\u001b[0mcparams\u001b[0m\u001b[1;33m)\u001b[0m\u001b[1;33m:\u001b[0m\u001b[1;33m\u001b[0m\u001b[1;33m\u001b[0m\u001b[0m\n\u001b[1;32m--> 489\u001b[1;33m         \u001b[1;32mreturn\u001b[0m \u001b[0mself\u001b[0m\u001b[1;33m.\u001b[0m\u001b[0mdbapi\u001b[0m\u001b[1;33m.\u001b[0m\u001b[0mconnect\u001b[0m\u001b[1;33m(\u001b[0m\u001b[1;33m*\u001b[0m\u001b[0mcargs\u001b[0m\u001b[1;33m,\u001b[0m \u001b[1;33m**\u001b[0m\u001b[0mcparams\u001b[0m\u001b[1;33m)\u001b[0m\u001b[1;33m\u001b[0m\u001b[1;33m\u001b[0m\u001b[0m\n\u001b[0m\u001b[0;32m    490\u001b[0m \u001b[1;33m\u001b[0m\u001b[0m\n",
      "\u001b[1;32m~\\anaconda3\\lib\\site-packages\\psycopg2\\__init__.py\u001b[0m in \u001b[0;36mconnect\u001b[1;34m(dsn, connection_factory, cursor_factory, **kwargs)\u001b[0m\n\u001b[0;32m    126\u001b[0m     \u001b[0mdsn\u001b[0m \u001b[1;33m=\u001b[0m \u001b[0m_ext\u001b[0m\u001b[1;33m.\u001b[0m\u001b[0mmake_dsn\u001b[0m\u001b[1;33m(\u001b[0m\u001b[0mdsn\u001b[0m\u001b[1;33m,\u001b[0m \u001b[1;33m**\u001b[0m\u001b[0mkwargs\u001b[0m\u001b[1;33m)\u001b[0m\u001b[1;33m\u001b[0m\u001b[1;33m\u001b[0m\u001b[0m\n\u001b[1;32m--> 127\u001b[1;33m     \u001b[0mconn\u001b[0m \u001b[1;33m=\u001b[0m \u001b[0m_connect\u001b[0m\u001b[1;33m(\u001b[0m\u001b[0mdsn\u001b[0m\u001b[1;33m,\u001b[0m \u001b[0mconnection_factory\u001b[0m\u001b[1;33m=\u001b[0m\u001b[0mconnection_factory\u001b[0m\u001b[1;33m,\u001b[0m \u001b[1;33m**\u001b[0m\u001b[0mkwasync\u001b[0m\u001b[1;33m)\u001b[0m\u001b[1;33m\u001b[0m\u001b[1;33m\u001b[0m\u001b[0m\n\u001b[0m\u001b[0;32m    128\u001b[0m     \u001b[1;32mif\u001b[0m \u001b[0mcursor_factory\u001b[0m \u001b[1;32mis\u001b[0m \u001b[1;32mnot\u001b[0m \u001b[1;32mNone\u001b[0m\u001b[1;33m:\u001b[0m\u001b[1;33m\u001b[0m\u001b[1;33m\u001b[0m\u001b[0m\n",
      "\u001b[1;31mOperationalError\u001b[0m: FATAL:  password authentication failed for user \"postgres\"\n",
      "\nThe above exception was the direct cause of the following exception:\n",
      "\u001b[1;31mOperationalError\u001b[0m                          Traceback (most recent call last)",
      "\u001b[1;32m<ipython-input-20-d72bc75a6b62>\u001b[0m in \u001b[0;36m<module>\u001b[1;34m\u001b[0m\n\u001b[1;32m----> 1\u001b[1;33m \u001b[0mengine\u001b[0m\u001b[1;33m.\u001b[0m\u001b[0mtable_names\u001b[0m\u001b[1;33m(\u001b[0m\u001b[1;33m)\u001b[0m\u001b[1;33m\u001b[0m\u001b[1;33m\u001b[0m\u001b[0m\n\u001b[0m",
      "\u001b[1;32m~\\anaconda3\\lib\\site-packages\\sqlalchemy\\engine\\base.py\u001b[0m in \u001b[0;36mtable_names\u001b[1;34m(self, schema, connection)\u001b[0m\n\u001b[0;32m   2254\u001b[0m         \"\"\"\n\u001b[0;32m   2255\u001b[0m \u001b[1;33m\u001b[0m\u001b[0m\n\u001b[1;32m-> 2256\u001b[1;33m         \u001b[1;32mwith\u001b[0m \u001b[0mself\u001b[0m\u001b[1;33m.\u001b[0m\u001b[0m_optional_conn_ctx_manager\u001b[0m\u001b[1;33m(\u001b[0m\u001b[0mconnection\u001b[0m\u001b[1;33m)\u001b[0m \u001b[1;32mas\u001b[0m \u001b[0mconn\u001b[0m\u001b[1;33m:\u001b[0m\u001b[1;33m\u001b[0m\u001b[1;33m\u001b[0m\u001b[0m\n\u001b[0m\u001b[0;32m   2257\u001b[0m             \u001b[1;32mreturn\u001b[0m \u001b[0mself\u001b[0m\u001b[1;33m.\u001b[0m\u001b[0mdialect\u001b[0m\u001b[1;33m.\u001b[0m\u001b[0mget_table_names\u001b[0m\u001b[1;33m(\u001b[0m\u001b[0mconn\u001b[0m\u001b[1;33m,\u001b[0m \u001b[0mschema\u001b[0m\u001b[1;33m)\u001b[0m\u001b[1;33m\u001b[0m\u001b[1;33m\u001b[0m\u001b[0m\n\u001b[0;32m   2258\u001b[0m \u001b[1;33m\u001b[0m\u001b[0m\n",
      "\u001b[1;32m~\\anaconda3\\lib\\contextlib.py\u001b[0m in \u001b[0;36m__enter__\u001b[1;34m(self)\u001b[0m\n\u001b[0;32m    110\u001b[0m         \u001b[1;32mdel\u001b[0m \u001b[0mself\u001b[0m\u001b[1;33m.\u001b[0m\u001b[0margs\u001b[0m\u001b[1;33m,\u001b[0m \u001b[0mself\u001b[0m\u001b[1;33m.\u001b[0m\u001b[0mkwds\u001b[0m\u001b[1;33m,\u001b[0m \u001b[0mself\u001b[0m\u001b[1;33m.\u001b[0m\u001b[0mfunc\u001b[0m\u001b[1;33m\u001b[0m\u001b[1;33m\u001b[0m\u001b[0m\n\u001b[0;32m    111\u001b[0m         \u001b[1;32mtry\u001b[0m\u001b[1;33m:\u001b[0m\u001b[1;33m\u001b[0m\u001b[1;33m\u001b[0m\u001b[0m\n\u001b[1;32m--> 112\u001b[1;33m             \u001b[1;32mreturn\u001b[0m \u001b[0mnext\u001b[0m\u001b[1;33m(\u001b[0m\u001b[0mself\u001b[0m\u001b[1;33m.\u001b[0m\u001b[0mgen\u001b[0m\u001b[1;33m)\u001b[0m\u001b[1;33m\u001b[0m\u001b[1;33m\u001b[0m\u001b[0m\n\u001b[0m\u001b[0;32m    113\u001b[0m         \u001b[1;32mexcept\u001b[0m \u001b[0mStopIteration\u001b[0m\u001b[1;33m:\u001b[0m\u001b[1;33m\u001b[0m\u001b[1;33m\u001b[0m\u001b[0m\n\u001b[0;32m    114\u001b[0m             \u001b[1;32mraise\u001b[0m \u001b[0mRuntimeError\u001b[0m\u001b[1;33m(\u001b[0m\u001b[1;34m\"generator didn't yield\"\u001b[0m\u001b[1;33m)\u001b[0m \u001b[1;32mfrom\u001b[0m \u001b[1;32mNone\u001b[0m\u001b[1;33m\u001b[0m\u001b[1;33m\u001b[0m\u001b[0m\n",
      "\u001b[1;32m~\\anaconda3\\lib\\site-packages\\sqlalchemy\\engine\\base.py\u001b[0m in \u001b[0;36m_optional_conn_ctx_manager\u001b[1;34m(self, connection)\u001b[0m\n\u001b[0;32m   2038\u001b[0m     \u001b[1;32mdef\u001b[0m \u001b[0m_optional_conn_ctx_manager\u001b[0m\u001b[1;33m(\u001b[0m\u001b[0mself\u001b[0m\u001b[1;33m,\u001b[0m \u001b[0mconnection\u001b[0m\u001b[1;33m=\u001b[0m\u001b[1;32mNone\u001b[0m\u001b[1;33m)\u001b[0m\u001b[1;33m:\u001b[0m\u001b[1;33m\u001b[0m\u001b[1;33m\u001b[0m\u001b[0m\n\u001b[0;32m   2039\u001b[0m         \u001b[1;32mif\u001b[0m \u001b[0mconnection\u001b[0m \u001b[1;32mis\u001b[0m \u001b[1;32mNone\u001b[0m\u001b[1;33m:\u001b[0m\u001b[1;33m\u001b[0m\u001b[1;33m\u001b[0m\u001b[0m\n\u001b[1;32m-> 2040\u001b[1;33m             \u001b[1;32mwith\u001b[0m \u001b[0mself\u001b[0m\u001b[1;33m.\u001b[0m\u001b[0m_contextual_connect\u001b[0m\u001b[1;33m(\u001b[0m\u001b[1;33m)\u001b[0m \u001b[1;32mas\u001b[0m \u001b[0mconn\u001b[0m\u001b[1;33m:\u001b[0m\u001b[1;33m\u001b[0m\u001b[1;33m\u001b[0m\u001b[0m\n\u001b[0m\u001b[0;32m   2041\u001b[0m                 \u001b[1;32myield\u001b[0m \u001b[0mconn\u001b[0m\u001b[1;33m\u001b[0m\u001b[1;33m\u001b[0m\u001b[0m\n\u001b[0;32m   2042\u001b[0m         \u001b[1;32melse\u001b[0m\u001b[1;33m:\u001b[0m\u001b[1;33m\u001b[0m\u001b[1;33m\u001b[0m\u001b[0m\n",
      "\u001b[1;32m~\\anaconda3\\lib\\site-packages\\sqlalchemy\\engine\\base.py\u001b[0m in \u001b[0;36m_contextual_connect\u001b[1;34m(self, close_with_result, **kwargs)\u001b[0m\n\u001b[0;32m   2240\u001b[0m         return self._connection_cls(\n\u001b[0;32m   2241\u001b[0m             \u001b[0mself\u001b[0m\u001b[1;33m,\u001b[0m\u001b[1;33m\u001b[0m\u001b[1;33m\u001b[0m\u001b[0m\n\u001b[1;32m-> 2242\u001b[1;33m             \u001b[0mself\u001b[0m\u001b[1;33m.\u001b[0m\u001b[0m_wrap_pool_connect\u001b[0m\u001b[1;33m(\u001b[0m\u001b[0mself\u001b[0m\u001b[1;33m.\u001b[0m\u001b[0mpool\u001b[0m\u001b[1;33m.\u001b[0m\u001b[0mconnect\u001b[0m\u001b[1;33m,\u001b[0m \u001b[1;32mNone\u001b[0m\u001b[1;33m)\u001b[0m\u001b[1;33m,\u001b[0m\u001b[1;33m\u001b[0m\u001b[1;33m\u001b[0m\u001b[0m\n\u001b[0m\u001b[0;32m   2243\u001b[0m             \u001b[0mclose_with_result\u001b[0m\u001b[1;33m=\u001b[0m\u001b[0mclose_with_result\u001b[0m\u001b[1;33m,\u001b[0m\u001b[1;33m\u001b[0m\u001b[1;33m\u001b[0m\u001b[0m\n\u001b[0;32m   2244\u001b[0m             \u001b[1;33m**\u001b[0m\u001b[0mkwargs\u001b[0m\u001b[1;33m\u001b[0m\u001b[1;33m\u001b[0m\u001b[0m\n",
      "\u001b[1;32m~\\anaconda3\\lib\\site-packages\\sqlalchemy\\engine\\base.py\u001b[0m in \u001b[0;36m_wrap_pool_connect\u001b[1;34m(self, fn, connection)\u001b[0m\n\u001b[0;32m   2278\u001b[0m             \u001b[1;32mif\u001b[0m \u001b[0mconnection\u001b[0m \u001b[1;32mis\u001b[0m \u001b[1;32mNone\u001b[0m\u001b[1;33m:\u001b[0m\u001b[1;33m\u001b[0m\u001b[1;33m\u001b[0m\u001b[0m\n\u001b[0;32m   2279\u001b[0m                 Connection._handle_dbapi_exception_noconnection(\n\u001b[1;32m-> 2280\u001b[1;33m                     \u001b[0me\u001b[0m\u001b[1;33m,\u001b[0m \u001b[0mdialect\u001b[0m\u001b[1;33m,\u001b[0m \u001b[0mself\u001b[0m\u001b[1;33m\u001b[0m\u001b[1;33m\u001b[0m\u001b[0m\n\u001b[0m\u001b[0;32m   2281\u001b[0m                 )\n\u001b[0;32m   2282\u001b[0m             \u001b[1;32melse\u001b[0m\u001b[1;33m:\u001b[0m\u001b[1;33m\u001b[0m\u001b[1;33m\u001b[0m\u001b[0m\n",
      "\u001b[1;32m~\\anaconda3\\lib\\site-packages\\sqlalchemy\\engine\\base.py\u001b[0m in \u001b[0;36m_handle_dbapi_exception_noconnection\u001b[1;34m(cls, e, dialect, engine)\u001b[0m\n\u001b[0;32m   1545\u001b[0m             \u001b[0mutil\u001b[0m\u001b[1;33m.\u001b[0m\u001b[0mraise_from_cause\u001b[0m\u001b[1;33m(\u001b[0m\u001b[0mnewraise\u001b[0m\u001b[1;33m,\u001b[0m \u001b[0mexc_info\u001b[0m\u001b[1;33m)\u001b[0m\u001b[1;33m\u001b[0m\u001b[1;33m\u001b[0m\u001b[0m\n\u001b[0;32m   1546\u001b[0m         \u001b[1;32melif\u001b[0m \u001b[0mshould_wrap\u001b[0m\u001b[1;33m:\u001b[0m\u001b[1;33m\u001b[0m\u001b[1;33m\u001b[0m\u001b[0m\n\u001b[1;32m-> 1547\u001b[1;33m             \u001b[0mutil\u001b[0m\u001b[1;33m.\u001b[0m\u001b[0mraise_from_cause\u001b[0m\u001b[1;33m(\u001b[0m\u001b[0msqlalchemy_exception\u001b[0m\u001b[1;33m,\u001b[0m \u001b[0mexc_info\u001b[0m\u001b[1;33m)\u001b[0m\u001b[1;33m\u001b[0m\u001b[1;33m\u001b[0m\u001b[0m\n\u001b[0m\u001b[0;32m   1548\u001b[0m         \u001b[1;32melse\u001b[0m\u001b[1;33m:\u001b[0m\u001b[1;33m\u001b[0m\u001b[1;33m\u001b[0m\u001b[0m\n\u001b[0;32m   1549\u001b[0m             \u001b[0mutil\u001b[0m\u001b[1;33m.\u001b[0m\u001b[0mreraise\u001b[0m\u001b[1;33m(\u001b[0m\u001b[1;33m*\u001b[0m\u001b[0mexc_info\u001b[0m\u001b[1;33m)\u001b[0m\u001b[1;33m\u001b[0m\u001b[1;33m\u001b[0m\u001b[0m\n",
      "\u001b[1;32m~\\anaconda3\\lib\\site-packages\\sqlalchemy\\util\\compat.py\u001b[0m in \u001b[0;36mraise_from_cause\u001b[1;34m(exception, exc_info)\u001b[0m\n\u001b[0;32m    396\u001b[0m     \u001b[0mexc_type\u001b[0m\u001b[1;33m,\u001b[0m \u001b[0mexc_value\u001b[0m\u001b[1;33m,\u001b[0m \u001b[0mexc_tb\u001b[0m \u001b[1;33m=\u001b[0m \u001b[0mexc_info\u001b[0m\u001b[1;33m\u001b[0m\u001b[1;33m\u001b[0m\u001b[0m\n\u001b[0;32m    397\u001b[0m     \u001b[0mcause\u001b[0m \u001b[1;33m=\u001b[0m \u001b[0mexc_value\u001b[0m \u001b[1;32mif\u001b[0m \u001b[0mexc_value\u001b[0m \u001b[1;32mis\u001b[0m \u001b[1;32mnot\u001b[0m \u001b[0mexception\u001b[0m \u001b[1;32melse\u001b[0m \u001b[1;32mNone\u001b[0m\u001b[1;33m\u001b[0m\u001b[1;33m\u001b[0m\u001b[0m\n\u001b[1;32m--> 398\u001b[1;33m     \u001b[0mreraise\u001b[0m\u001b[1;33m(\u001b[0m\u001b[0mtype\u001b[0m\u001b[1;33m(\u001b[0m\u001b[0mexception\u001b[0m\u001b[1;33m)\u001b[0m\u001b[1;33m,\u001b[0m \u001b[0mexception\u001b[0m\u001b[1;33m,\u001b[0m \u001b[0mtb\u001b[0m\u001b[1;33m=\u001b[0m\u001b[0mexc_tb\u001b[0m\u001b[1;33m,\u001b[0m \u001b[0mcause\u001b[0m\u001b[1;33m=\u001b[0m\u001b[0mcause\u001b[0m\u001b[1;33m)\u001b[0m\u001b[1;33m\u001b[0m\u001b[1;33m\u001b[0m\u001b[0m\n\u001b[0m\u001b[0;32m    399\u001b[0m \u001b[1;33m\u001b[0m\u001b[0m\n\u001b[0;32m    400\u001b[0m \u001b[1;33m\u001b[0m\u001b[0m\n",
      "\u001b[1;32m~\\anaconda3\\lib\\site-packages\\sqlalchemy\\util\\compat.py\u001b[0m in \u001b[0;36mreraise\u001b[1;34m(tp, value, tb, cause)\u001b[0m\n\u001b[0;32m    150\u001b[0m             \u001b[0mvalue\u001b[0m\u001b[1;33m.\u001b[0m\u001b[0m__cause__\u001b[0m \u001b[1;33m=\u001b[0m \u001b[0mcause\u001b[0m\u001b[1;33m\u001b[0m\u001b[1;33m\u001b[0m\u001b[0m\n\u001b[0;32m    151\u001b[0m         \u001b[1;32mif\u001b[0m \u001b[0mvalue\u001b[0m\u001b[1;33m.\u001b[0m\u001b[0m__traceback__\u001b[0m \u001b[1;32mis\u001b[0m \u001b[1;32mnot\u001b[0m \u001b[0mtb\u001b[0m\u001b[1;33m:\u001b[0m\u001b[1;33m\u001b[0m\u001b[1;33m\u001b[0m\u001b[0m\n\u001b[1;32m--> 152\u001b[1;33m             \u001b[1;32mraise\u001b[0m \u001b[0mvalue\u001b[0m\u001b[1;33m.\u001b[0m\u001b[0mwith_traceback\u001b[0m\u001b[1;33m(\u001b[0m\u001b[0mtb\u001b[0m\u001b[1;33m)\u001b[0m\u001b[1;33m\u001b[0m\u001b[1;33m\u001b[0m\u001b[0m\n\u001b[0m\u001b[0;32m    153\u001b[0m         \u001b[1;32mraise\u001b[0m \u001b[0mvalue\u001b[0m\u001b[1;33m\u001b[0m\u001b[1;33m\u001b[0m\u001b[0m\n\u001b[0;32m    154\u001b[0m \u001b[1;33m\u001b[0m\u001b[0m\n",
      "\u001b[1;32m~\\anaconda3\\lib\\site-packages\\sqlalchemy\\engine\\base.py\u001b[0m in \u001b[0;36m_wrap_pool_connect\u001b[1;34m(self, fn, connection)\u001b[0m\n\u001b[0;32m   2274\u001b[0m         \u001b[0mdialect\u001b[0m \u001b[1;33m=\u001b[0m \u001b[0mself\u001b[0m\u001b[1;33m.\u001b[0m\u001b[0mdialect\u001b[0m\u001b[1;33m\u001b[0m\u001b[1;33m\u001b[0m\u001b[0m\n\u001b[0;32m   2275\u001b[0m         \u001b[1;32mtry\u001b[0m\u001b[1;33m:\u001b[0m\u001b[1;33m\u001b[0m\u001b[1;33m\u001b[0m\u001b[0m\n\u001b[1;32m-> 2276\u001b[1;33m             \u001b[1;32mreturn\u001b[0m \u001b[0mfn\u001b[0m\u001b[1;33m(\u001b[0m\u001b[1;33m)\u001b[0m\u001b[1;33m\u001b[0m\u001b[1;33m\u001b[0m\u001b[0m\n\u001b[0m\u001b[0;32m   2277\u001b[0m         \u001b[1;32mexcept\u001b[0m \u001b[0mdialect\u001b[0m\u001b[1;33m.\u001b[0m\u001b[0mdbapi\u001b[0m\u001b[1;33m.\u001b[0m\u001b[0mError\u001b[0m \u001b[1;32mas\u001b[0m \u001b[0me\u001b[0m\u001b[1;33m:\u001b[0m\u001b[1;33m\u001b[0m\u001b[1;33m\u001b[0m\u001b[0m\n\u001b[0;32m   2278\u001b[0m             \u001b[1;32mif\u001b[0m \u001b[0mconnection\u001b[0m \u001b[1;32mis\u001b[0m \u001b[1;32mNone\u001b[0m\u001b[1;33m:\u001b[0m\u001b[1;33m\u001b[0m\u001b[1;33m\u001b[0m\u001b[0m\n",
      "\u001b[1;32m~\\anaconda3\\lib\\site-packages\\sqlalchemy\\pool\\base.py\u001b[0m in \u001b[0;36mconnect\u001b[1;34m(self)\u001b[0m\n\u001b[0;32m    361\u001b[0m         \"\"\"\n\u001b[0;32m    362\u001b[0m         \u001b[1;32mif\u001b[0m \u001b[1;32mnot\u001b[0m \u001b[0mself\u001b[0m\u001b[1;33m.\u001b[0m\u001b[0m_use_threadlocal\u001b[0m\u001b[1;33m:\u001b[0m\u001b[1;33m\u001b[0m\u001b[1;33m\u001b[0m\u001b[0m\n\u001b[1;32m--> 363\u001b[1;33m             \u001b[1;32mreturn\u001b[0m \u001b[0m_ConnectionFairy\u001b[0m\u001b[1;33m.\u001b[0m\u001b[0m_checkout\u001b[0m\u001b[1;33m(\u001b[0m\u001b[0mself\u001b[0m\u001b[1;33m)\u001b[0m\u001b[1;33m\u001b[0m\u001b[1;33m\u001b[0m\u001b[0m\n\u001b[0m\u001b[0;32m    364\u001b[0m \u001b[1;33m\u001b[0m\u001b[0m\n\u001b[0;32m    365\u001b[0m         \u001b[1;32mtry\u001b[0m\u001b[1;33m:\u001b[0m\u001b[1;33m\u001b[0m\u001b[1;33m\u001b[0m\u001b[0m\n",
      "\u001b[1;32m~\\anaconda3\\lib\\site-packages\\sqlalchemy\\pool\\base.py\u001b[0m in \u001b[0;36m_checkout\u001b[1;34m(cls, pool, threadconns, fairy)\u001b[0m\n\u001b[0;32m    771\u001b[0m     \u001b[1;32mdef\u001b[0m \u001b[0m_checkout\u001b[0m\u001b[1;33m(\u001b[0m\u001b[0mcls\u001b[0m\u001b[1;33m,\u001b[0m \u001b[0mpool\u001b[0m\u001b[1;33m,\u001b[0m \u001b[0mthreadconns\u001b[0m\u001b[1;33m=\u001b[0m\u001b[1;32mNone\u001b[0m\u001b[1;33m,\u001b[0m \u001b[0mfairy\u001b[0m\u001b[1;33m=\u001b[0m\u001b[1;32mNone\u001b[0m\u001b[1;33m)\u001b[0m\u001b[1;33m:\u001b[0m\u001b[1;33m\u001b[0m\u001b[1;33m\u001b[0m\u001b[0m\n\u001b[0;32m    772\u001b[0m         \u001b[1;32mif\u001b[0m \u001b[1;32mnot\u001b[0m \u001b[0mfairy\u001b[0m\u001b[1;33m:\u001b[0m\u001b[1;33m\u001b[0m\u001b[1;33m\u001b[0m\u001b[0m\n\u001b[1;32m--> 773\u001b[1;33m             \u001b[0mfairy\u001b[0m \u001b[1;33m=\u001b[0m \u001b[0m_ConnectionRecord\u001b[0m\u001b[1;33m.\u001b[0m\u001b[0mcheckout\u001b[0m\u001b[1;33m(\u001b[0m\u001b[0mpool\u001b[0m\u001b[1;33m)\u001b[0m\u001b[1;33m\u001b[0m\u001b[1;33m\u001b[0m\u001b[0m\n\u001b[0m\u001b[0;32m    774\u001b[0m \u001b[1;33m\u001b[0m\u001b[0m\n\u001b[0;32m    775\u001b[0m             \u001b[0mfairy\u001b[0m\u001b[1;33m.\u001b[0m\u001b[0m_pool\u001b[0m \u001b[1;33m=\u001b[0m \u001b[0mpool\u001b[0m\u001b[1;33m\u001b[0m\u001b[1;33m\u001b[0m\u001b[0m\n",
      "\u001b[1;32m~\\anaconda3\\lib\\site-packages\\sqlalchemy\\pool\\base.py\u001b[0m in \u001b[0;36mcheckout\u001b[1;34m(cls, pool)\u001b[0m\n\u001b[0;32m    490\u001b[0m     \u001b[1;33m@\u001b[0m\u001b[0mclassmethod\u001b[0m\u001b[1;33m\u001b[0m\u001b[1;33m\u001b[0m\u001b[0m\n\u001b[0;32m    491\u001b[0m     \u001b[1;32mdef\u001b[0m \u001b[0mcheckout\u001b[0m\u001b[1;33m(\u001b[0m\u001b[0mcls\u001b[0m\u001b[1;33m,\u001b[0m \u001b[0mpool\u001b[0m\u001b[1;33m)\u001b[0m\u001b[1;33m:\u001b[0m\u001b[1;33m\u001b[0m\u001b[1;33m\u001b[0m\u001b[0m\n\u001b[1;32m--> 492\u001b[1;33m         \u001b[0mrec\u001b[0m \u001b[1;33m=\u001b[0m \u001b[0mpool\u001b[0m\u001b[1;33m.\u001b[0m\u001b[0m_do_get\u001b[0m\u001b[1;33m(\u001b[0m\u001b[1;33m)\u001b[0m\u001b[1;33m\u001b[0m\u001b[1;33m\u001b[0m\u001b[0m\n\u001b[0m\u001b[0;32m    493\u001b[0m         \u001b[1;32mtry\u001b[0m\u001b[1;33m:\u001b[0m\u001b[1;33m\u001b[0m\u001b[1;33m\u001b[0m\u001b[0m\n\u001b[0;32m    494\u001b[0m             \u001b[0mdbapi_connection\u001b[0m \u001b[1;33m=\u001b[0m \u001b[0mrec\u001b[0m\u001b[1;33m.\u001b[0m\u001b[0mget_connection\u001b[0m\u001b[1;33m(\u001b[0m\u001b[1;33m)\u001b[0m\u001b[1;33m\u001b[0m\u001b[1;33m\u001b[0m\u001b[0m\n",
      "\u001b[1;32m~\\anaconda3\\lib\\site-packages\\sqlalchemy\\pool\\impl.py\u001b[0m in \u001b[0;36m_do_get\u001b[1;34m(self)\u001b[0m\n\u001b[0;32m    137\u001b[0m             \u001b[1;32mexcept\u001b[0m\u001b[1;33m:\u001b[0m\u001b[1;33m\u001b[0m\u001b[1;33m\u001b[0m\u001b[0m\n\u001b[0;32m    138\u001b[0m                 \u001b[1;32mwith\u001b[0m \u001b[0mutil\u001b[0m\u001b[1;33m.\u001b[0m\u001b[0msafe_reraise\u001b[0m\u001b[1;33m(\u001b[0m\u001b[1;33m)\u001b[0m\u001b[1;33m:\u001b[0m\u001b[1;33m\u001b[0m\u001b[1;33m\u001b[0m\u001b[0m\n\u001b[1;32m--> 139\u001b[1;33m                     \u001b[0mself\u001b[0m\u001b[1;33m.\u001b[0m\u001b[0m_dec_overflow\u001b[0m\u001b[1;33m(\u001b[0m\u001b[1;33m)\u001b[0m\u001b[1;33m\u001b[0m\u001b[1;33m\u001b[0m\u001b[0m\n\u001b[0m\u001b[0;32m    140\u001b[0m         \u001b[1;32melse\u001b[0m\u001b[1;33m:\u001b[0m\u001b[1;33m\u001b[0m\u001b[1;33m\u001b[0m\u001b[0m\n\u001b[0;32m    141\u001b[0m             \u001b[1;32mreturn\u001b[0m \u001b[0mself\u001b[0m\u001b[1;33m.\u001b[0m\u001b[0m_do_get\u001b[0m\u001b[1;33m(\u001b[0m\u001b[1;33m)\u001b[0m\u001b[1;33m\u001b[0m\u001b[1;33m\u001b[0m\u001b[0m\n",
      "\u001b[1;32m~\\anaconda3\\lib\\site-packages\\sqlalchemy\\util\\langhelpers.py\u001b[0m in \u001b[0;36m__exit__\u001b[1;34m(self, type_, value, traceback)\u001b[0m\n\u001b[0;32m     66\u001b[0m             \u001b[0mself\u001b[0m\u001b[1;33m.\u001b[0m\u001b[0m_exc_info\u001b[0m \u001b[1;33m=\u001b[0m \u001b[1;32mNone\u001b[0m  \u001b[1;31m# remove potential circular references\u001b[0m\u001b[1;33m\u001b[0m\u001b[1;33m\u001b[0m\u001b[0m\n\u001b[0;32m     67\u001b[0m             \u001b[1;32mif\u001b[0m \u001b[1;32mnot\u001b[0m \u001b[0mself\u001b[0m\u001b[1;33m.\u001b[0m\u001b[0mwarn_only\u001b[0m\u001b[1;33m:\u001b[0m\u001b[1;33m\u001b[0m\u001b[1;33m\u001b[0m\u001b[0m\n\u001b[1;32m---> 68\u001b[1;33m                 \u001b[0mcompat\u001b[0m\u001b[1;33m.\u001b[0m\u001b[0mreraise\u001b[0m\u001b[1;33m(\u001b[0m\u001b[0mexc_type\u001b[0m\u001b[1;33m,\u001b[0m \u001b[0mexc_value\u001b[0m\u001b[1;33m,\u001b[0m \u001b[0mexc_tb\u001b[0m\u001b[1;33m)\u001b[0m\u001b[1;33m\u001b[0m\u001b[1;33m\u001b[0m\u001b[0m\n\u001b[0m\u001b[0;32m     69\u001b[0m         \u001b[1;32melse\u001b[0m\u001b[1;33m:\u001b[0m\u001b[1;33m\u001b[0m\u001b[1;33m\u001b[0m\u001b[0m\n\u001b[0;32m     70\u001b[0m             \u001b[1;32mif\u001b[0m \u001b[1;32mnot\u001b[0m \u001b[0mcompat\u001b[0m\u001b[1;33m.\u001b[0m\u001b[0mpy3k\u001b[0m \u001b[1;32mand\u001b[0m \u001b[0mself\u001b[0m\u001b[1;33m.\u001b[0m\u001b[0m_exc_info\u001b[0m \u001b[1;32mand\u001b[0m \u001b[0mself\u001b[0m\u001b[1;33m.\u001b[0m\u001b[0m_exc_info\u001b[0m\u001b[1;33m[\u001b[0m\u001b[1;36m1\u001b[0m\u001b[1;33m]\u001b[0m\u001b[1;33m:\u001b[0m\u001b[1;33m\u001b[0m\u001b[1;33m\u001b[0m\u001b[0m\n",
      "\u001b[1;32m~\\anaconda3\\lib\\site-packages\\sqlalchemy\\util\\compat.py\u001b[0m in \u001b[0;36mreraise\u001b[1;34m(tp, value, tb, cause)\u001b[0m\n\u001b[0;32m    151\u001b[0m         \u001b[1;32mif\u001b[0m \u001b[0mvalue\u001b[0m\u001b[1;33m.\u001b[0m\u001b[0m__traceback__\u001b[0m \u001b[1;32mis\u001b[0m \u001b[1;32mnot\u001b[0m \u001b[0mtb\u001b[0m\u001b[1;33m:\u001b[0m\u001b[1;33m\u001b[0m\u001b[1;33m\u001b[0m\u001b[0m\n\u001b[0;32m    152\u001b[0m             \u001b[1;32mraise\u001b[0m \u001b[0mvalue\u001b[0m\u001b[1;33m.\u001b[0m\u001b[0mwith_traceback\u001b[0m\u001b[1;33m(\u001b[0m\u001b[0mtb\u001b[0m\u001b[1;33m)\u001b[0m\u001b[1;33m\u001b[0m\u001b[1;33m\u001b[0m\u001b[0m\n\u001b[1;32m--> 153\u001b[1;33m         \u001b[1;32mraise\u001b[0m \u001b[0mvalue\u001b[0m\u001b[1;33m\u001b[0m\u001b[1;33m\u001b[0m\u001b[0m\n\u001b[0m\u001b[0;32m    154\u001b[0m \u001b[1;33m\u001b[0m\u001b[0m\n\u001b[0;32m    155\u001b[0m     \u001b[1;32mdef\u001b[0m \u001b[0mu\u001b[0m\u001b[1;33m(\u001b[0m\u001b[0ms\u001b[0m\u001b[1;33m)\u001b[0m\u001b[1;33m:\u001b[0m\u001b[1;33m\u001b[0m\u001b[1;33m\u001b[0m\u001b[0m\n",
      "\u001b[1;32m~\\anaconda3\\lib\\site-packages\\sqlalchemy\\pool\\impl.py\u001b[0m in \u001b[0;36m_do_get\u001b[1;34m(self)\u001b[0m\n\u001b[0;32m    134\u001b[0m         \u001b[1;32mif\u001b[0m \u001b[0mself\u001b[0m\u001b[1;33m.\u001b[0m\u001b[0m_inc_overflow\u001b[0m\u001b[1;33m(\u001b[0m\u001b[1;33m)\u001b[0m\u001b[1;33m:\u001b[0m\u001b[1;33m\u001b[0m\u001b[1;33m\u001b[0m\u001b[0m\n\u001b[0;32m    135\u001b[0m             \u001b[1;32mtry\u001b[0m\u001b[1;33m:\u001b[0m\u001b[1;33m\u001b[0m\u001b[1;33m\u001b[0m\u001b[0m\n\u001b[1;32m--> 136\u001b[1;33m                 \u001b[1;32mreturn\u001b[0m \u001b[0mself\u001b[0m\u001b[1;33m.\u001b[0m\u001b[0m_create_connection\u001b[0m\u001b[1;33m(\u001b[0m\u001b[1;33m)\u001b[0m\u001b[1;33m\u001b[0m\u001b[1;33m\u001b[0m\u001b[0m\n\u001b[0m\u001b[0;32m    137\u001b[0m             \u001b[1;32mexcept\u001b[0m\u001b[1;33m:\u001b[0m\u001b[1;33m\u001b[0m\u001b[1;33m\u001b[0m\u001b[0m\n\u001b[0;32m    138\u001b[0m                 \u001b[1;32mwith\u001b[0m \u001b[0mutil\u001b[0m\u001b[1;33m.\u001b[0m\u001b[0msafe_reraise\u001b[0m\u001b[1;33m(\u001b[0m\u001b[1;33m)\u001b[0m\u001b[1;33m:\u001b[0m\u001b[1;33m\u001b[0m\u001b[1;33m\u001b[0m\u001b[0m\n",
      "\u001b[1;32m~\\anaconda3\\lib\\site-packages\\sqlalchemy\\pool\\base.py\u001b[0m in \u001b[0;36m_create_connection\u001b[1;34m(self)\u001b[0m\n\u001b[0;32m    306\u001b[0m         \u001b[1;34m\"\"\"Called by subclasses to create a new ConnectionRecord.\"\"\"\u001b[0m\u001b[1;33m\u001b[0m\u001b[1;33m\u001b[0m\u001b[0m\n\u001b[0;32m    307\u001b[0m \u001b[1;33m\u001b[0m\u001b[0m\n\u001b[1;32m--> 308\u001b[1;33m         \u001b[1;32mreturn\u001b[0m \u001b[0m_ConnectionRecord\u001b[0m\u001b[1;33m(\u001b[0m\u001b[0mself\u001b[0m\u001b[1;33m)\u001b[0m\u001b[1;33m\u001b[0m\u001b[1;33m\u001b[0m\u001b[0m\n\u001b[0m\u001b[0;32m    309\u001b[0m \u001b[1;33m\u001b[0m\u001b[0m\n\u001b[0;32m    310\u001b[0m     \u001b[1;32mdef\u001b[0m \u001b[0m_invalidate\u001b[0m\u001b[1;33m(\u001b[0m\u001b[0mself\u001b[0m\u001b[1;33m,\u001b[0m \u001b[0mconnection\u001b[0m\u001b[1;33m,\u001b[0m \u001b[0mexception\u001b[0m\u001b[1;33m=\u001b[0m\u001b[1;32mNone\u001b[0m\u001b[1;33m,\u001b[0m \u001b[0m_checkin\u001b[0m\u001b[1;33m=\u001b[0m\u001b[1;32mTrue\u001b[0m\u001b[1;33m)\u001b[0m\u001b[1;33m:\u001b[0m\u001b[1;33m\u001b[0m\u001b[1;33m\u001b[0m\u001b[0m\n",
      "\u001b[1;32m~\\anaconda3\\lib\\site-packages\\sqlalchemy\\pool\\base.py\u001b[0m in \u001b[0;36m__init__\u001b[1;34m(self, pool, connect)\u001b[0m\n\u001b[0;32m    435\u001b[0m         \u001b[0mself\u001b[0m\u001b[1;33m.\u001b[0m\u001b[0m__pool\u001b[0m \u001b[1;33m=\u001b[0m \u001b[0mpool\u001b[0m\u001b[1;33m\u001b[0m\u001b[1;33m\u001b[0m\u001b[0m\n\u001b[0;32m    436\u001b[0m         \u001b[1;32mif\u001b[0m \u001b[0mconnect\u001b[0m\u001b[1;33m:\u001b[0m\u001b[1;33m\u001b[0m\u001b[1;33m\u001b[0m\u001b[0m\n\u001b[1;32m--> 437\u001b[1;33m             \u001b[0mself\u001b[0m\u001b[1;33m.\u001b[0m\u001b[0m__connect\u001b[0m\u001b[1;33m(\u001b[0m\u001b[0mfirst_connect_check\u001b[0m\u001b[1;33m=\u001b[0m\u001b[1;32mTrue\u001b[0m\u001b[1;33m)\u001b[0m\u001b[1;33m\u001b[0m\u001b[1;33m\u001b[0m\u001b[0m\n\u001b[0m\u001b[0;32m    438\u001b[0m         \u001b[0mself\u001b[0m\u001b[1;33m.\u001b[0m\u001b[0mfinalize_callback\u001b[0m \u001b[1;33m=\u001b[0m \u001b[0mdeque\u001b[0m\u001b[1;33m(\u001b[0m\u001b[1;33m)\u001b[0m\u001b[1;33m\u001b[0m\u001b[1;33m\u001b[0m\u001b[0m\n\u001b[0;32m    439\u001b[0m \u001b[1;33m\u001b[0m\u001b[0m\n",
      "\u001b[1;32m~\\anaconda3\\lib\\site-packages\\sqlalchemy\\pool\\base.py\u001b[0m in \u001b[0;36m__connect\u001b[1;34m(self, first_connect_check)\u001b[0m\n\u001b[0;32m    650\u001b[0m         \u001b[1;32mtry\u001b[0m\u001b[1;33m:\u001b[0m\u001b[1;33m\u001b[0m\u001b[1;33m\u001b[0m\u001b[0m\n\u001b[0;32m    651\u001b[0m             \u001b[0mself\u001b[0m\u001b[1;33m.\u001b[0m\u001b[0mstarttime\u001b[0m \u001b[1;33m=\u001b[0m \u001b[0mtime\u001b[0m\u001b[1;33m.\u001b[0m\u001b[0mtime\u001b[0m\u001b[1;33m(\u001b[0m\u001b[1;33m)\u001b[0m\u001b[1;33m\u001b[0m\u001b[1;33m\u001b[0m\u001b[0m\n\u001b[1;32m--> 652\u001b[1;33m             \u001b[0mconnection\u001b[0m \u001b[1;33m=\u001b[0m \u001b[0mpool\u001b[0m\u001b[1;33m.\u001b[0m\u001b[0m_invoke_creator\u001b[0m\u001b[1;33m(\u001b[0m\u001b[0mself\u001b[0m\u001b[1;33m)\u001b[0m\u001b[1;33m\u001b[0m\u001b[1;33m\u001b[0m\u001b[0m\n\u001b[0m\u001b[0;32m    653\u001b[0m             \u001b[0mpool\u001b[0m\u001b[1;33m.\u001b[0m\u001b[0mlogger\u001b[0m\u001b[1;33m.\u001b[0m\u001b[0mdebug\u001b[0m\u001b[1;33m(\u001b[0m\u001b[1;34m\"Created new connection %r\"\u001b[0m\u001b[1;33m,\u001b[0m \u001b[0mconnection\u001b[0m\u001b[1;33m)\u001b[0m\u001b[1;33m\u001b[0m\u001b[1;33m\u001b[0m\u001b[0m\n\u001b[0;32m    654\u001b[0m             \u001b[0mself\u001b[0m\u001b[1;33m.\u001b[0m\u001b[0mconnection\u001b[0m \u001b[1;33m=\u001b[0m \u001b[0mconnection\u001b[0m\u001b[1;33m\u001b[0m\u001b[1;33m\u001b[0m\u001b[0m\n",
      "\u001b[1;32m~\\anaconda3\\lib\\site-packages\\sqlalchemy\\engine\\strategies.py\u001b[0m in \u001b[0;36mconnect\u001b[1;34m(connection_record)\u001b[0m\n\u001b[0;32m    112\u001b[0m                         \u001b[1;32mif\u001b[0m \u001b[0mconnection\u001b[0m \u001b[1;32mis\u001b[0m \u001b[1;32mnot\u001b[0m \u001b[1;32mNone\u001b[0m\u001b[1;33m:\u001b[0m\u001b[1;33m\u001b[0m\u001b[1;33m\u001b[0m\u001b[0m\n\u001b[0;32m    113\u001b[0m                             \u001b[1;32mreturn\u001b[0m \u001b[0mconnection\u001b[0m\u001b[1;33m\u001b[0m\u001b[1;33m\u001b[0m\u001b[0m\n\u001b[1;32m--> 114\u001b[1;33m                 \u001b[1;32mreturn\u001b[0m \u001b[0mdialect\u001b[0m\u001b[1;33m.\u001b[0m\u001b[0mconnect\u001b[0m\u001b[1;33m(\u001b[0m\u001b[1;33m*\u001b[0m\u001b[0mcargs\u001b[0m\u001b[1;33m,\u001b[0m \u001b[1;33m**\u001b[0m\u001b[0mcparams\u001b[0m\u001b[1;33m)\u001b[0m\u001b[1;33m\u001b[0m\u001b[1;33m\u001b[0m\u001b[0m\n\u001b[0m\u001b[0;32m    115\u001b[0m \u001b[1;33m\u001b[0m\u001b[0m\n\u001b[0;32m    116\u001b[0m             \u001b[0mcreator\u001b[0m \u001b[1;33m=\u001b[0m \u001b[0mpop_kwarg\u001b[0m\u001b[1;33m(\u001b[0m\u001b[1;34m\"creator\"\u001b[0m\u001b[1;33m,\u001b[0m \u001b[0mconnect\u001b[0m\u001b[1;33m)\u001b[0m\u001b[1;33m\u001b[0m\u001b[1;33m\u001b[0m\u001b[0m\n",
      "\u001b[1;32m~\\anaconda3\\lib\\site-packages\\sqlalchemy\\engine\\default.py\u001b[0m in \u001b[0;36mconnect\u001b[1;34m(self, *cargs, **cparams)\u001b[0m\n\u001b[0;32m    487\u001b[0m \u001b[1;33m\u001b[0m\u001b[0m\n\u001b[0;32m    488\u001b[0m     \u001b[1;32mdef\u001b[0m \u001b[0mconnect\u001b[0m\u001b[1;33m(\u001b[0m\u001b[0mself\u001b[0m\u001b[1;33m,\u001b[0m \u001b[1;33m*\u001b[0m\u001b[0mcargs\u001b[0m\u001b[1;33m,\u001b[0m \u001b[1;33m**\u001b[0m\u001b[0mcparams\u001b[0m\u001b[1;33m)\u001b[0m\u001b[1;33m:\u001b[0m\u001b[1;33m\u001b[0m\u001b[1;33m\u001b[0m\u001b[0m\n\u001b[1;32m--> 489\u001b[1;33m         \u001b[1;32mreturn\u001b[0m \u001b[0mself\u001b[0m\u001b[1;33m.\u001b[0m\u001b[0mdbapi\u001b[0m\u001b[1;33m.\u001b[0m\u001b[0mconnect\u001b[0m\u001b[1;33m(\u001b[0m\u001b[1;33m*\u001b[0m\u001b[0mcargs\u001b[0m\u001b[1;33m,\u001b[0m \u001b[1;33m**\u001b[0m\u001b[0mcparams\u001b[0m\u001b[1;33m)\u001b[0m\u001b[1;33m\u001b[0m\u001b[1;33m\u001b[0m\u001b[0m\n\u001b[0m\u001b[0;32m    490\u001b[0m \u001b[1;33m\u001b[0m\u001b[0m\n\u001b[0;32m    491\u001b[0m     \u001b[1;32mdef\u001b[0m \u001b[0mcreate_connect_args\u001b[0m\u001b[1;33m(\u001b[0m\u001b[0mself\u001b[0m\u001b[1;33m,\u001b[0m \u001b[0murl\u001b[0m\u001b[1;33m)\u001b[0m\u001b[1;33m:\u001b[0m\u001b[1;33m\u001b[0m\u001b[1;33m\u001b[0m\u001b[0m\n",
      "\u001b[1;32m~\\anaconda3\\lib\\site-packages\\psycopg2\\__init__.py\u001b[0m in \u001b[0;36mconnect\u001b[1;34m(dsn, connection_factory, cursor_factory, **kwargs)\u001b[0m\n\u001b[0;32m    125\u001b[0m \u001b[1;33m\u001b[0m\u001b[0m\n\u001b[0;32m    126\u001b[0m     \u001b[0mdsn\u001b[0m \u001b[1;33m=\u001b[0m \u001b[0m_ext\u001b[0m\u001b[1;33m.\u001b[0m\u001b[0mmake_dsn\u001b[0m\u001b[1;33m(\u001b[0m\u001b[0mdsn\u001b[0m\u001b[1;33m,\u001b[0m \u001b[1;33m**\u001b[0m\u001b[0mkwargs\u001b[0m\u001b[1;33m)\u001b[0m\u001b[1;33m\u001b[0m\u001b[1;33m\u001b[0m\u001b[0m\n\u001b[1;32m--> 127\u001b[1;33m     \u001b[0mconn\u001b[0m \u001b[1;33m=\u001b[0m \u001b[0m_connect\u001b[0m\u001b[1;33m(\u001b[0m\u001b[0mdsn\u001b[0m\u001b[1;33m,\u001b[0m \u001b[0mconnection_factory\u001b[0m\u001b[1;33m=\u001b[0m\u001b[0mconnection_factory\u001b[0m\u001b[1;33m,\u001b[0m \u001b[1;33m**\u001b[0m\u001b[0mkwasync\u001b[0m\u001b[1;33m)\u001b[0m\u001b[1;33m\u001b[0m\u001b[1;33m\u001b[0m\u001b[0m\n\u001b[0m\u001b[0;32m    128\u001b[0m     \u001b[1;32mif\u001b[0m \u001b[0mcursor_factory\u001b[0m \u001b[1;32mis\u001b[0m \u001b[1;32mnot\u001b[0m \u001b[1;32mNone\u001b[0m\u001b[1;33m:\u001b[0m\u001b[1;33m\u001b[0m\u001b[1;33m\u001b[0m\u001b[0m\n\u001b[0;32m    129\u001b[0m         \u001b[0mconn\u001b[0m\u001b[1;33m.\u001b[0m\u001b[0mcursor_factory\u001b[0m \u001b[1;33m=\u001b[0m \u001b[0mcursor_factory\u001b[0m\u001b[1;33m\u001b[0m\u001b[1;33m\u001b[0m\u001b[0m\n",
      "\u001b[1;31mOperationalError\u001b[0m: (psycopg2.OperationalError) FATAL:  password authentication failed for user \"postgres\"\n\n(Background on this error at: http://sqlalche.me/e/e3q8)"
     ]
    }
   ],
   "source": [
    "engine.table_names()"
   ]
  },
  {
   "cell_type": "markdown",
   "metadata": {},
   "source": [
    "### Use pandas to load csv converted DataFrame into database"
   ]
  },
  {
   "cell_type": "code",
   "execution_count": 161,
   "metadata": {},
   "outputs": [],
   "source": [
    "clean_location_df.to_sql(name='clean_location', con=engine, if_exists='append', index=False)"
   ]
  },
  {
   "cell_type": "code",
   "execution_count": 162,
   "metadata": {},
   "outputs": [],
   "source": [
    "clean_book_df.to_sql(name='clean_book', con=engine, if_exists='append', index=False)"
   ]
  },
  {
   "cell_type": "code",
   "execution_count": 163,
   "metadata": {},
   "outputs": [],
   "source": [
    "clean_arrivals_df.to_sql(name='clean_arrivals', con=engine, if_exists='append', index=False)"
   ]
  },
  {
   "cell_type": "code",
   "execution_count": 164,
   "metadata": {},
   "outputs": [],
   "source": [
    "clean_revenues_df.to_sql(name='clean_revenues', con=engine, if_exists='append', index=False)"
   ]
  },
  {
   "cell_type": "markdown",
   "metadata": {},
   "source": [
    "### Confirm data has been added by querying tables"
   ]
  },
  {
   "cell_type": "code",
   "execution_count": 165,
   "metadata": {},
   "outputs": [
    {
     "data": {
      "text/html": [
       "<div>\n",
       "<style scoped>\n",
       "    .dataframe tbody tr th:only-of-type {\n",
       "        vertical-align: middle;\n",
       "    }\n",
       "\n",
       "    .dataframe tbody tr th {\n",
       "        vertical-align: top;\n",
       "    }\n",
       "\n",
       "    .dataframe thead th {\n",
       "        text-align: right;\n",
       "    }\n",
       "</style>\n",
       "<table border=\"1\" class=\"dataframe\">\n",
       "  <thead>\n",
       "    <tr style=\"text-align: right;\">\n",
       "      <th></th>\n",
       "      <th>country</th>\n",
       "      <th>latitude</th>\n",
       "      <th>longitude</th>\n",
       "      <th>country_code</th>\n",
       "      <th>continent_name</th>\n",
       "    </tr>\n",
       "  </thead>\n",
       "  <tbody>\n",
       "    <tr>\n",
       "      <th>0</th>\n",
       "      <td>Aland Islands</td>\n",
       "      <td>60.116667</td>\n",
       "      <td>19.900000</td>\n",
       "      <td>AX</td>\n",
       "      <td>Europe</td>\n",
       "    </tr>\n",
       "    <tr>\n",
       "      <th>1</th>\n",
       "      <td>Albania</td>\n",
       "      <td>41.316667</td>\n",
       "      <td>19.816667</td>\n",
       "      <td>AL</td>\n",
       "      <td>Europe</td>\n",
       "    </tr>\n",
       "    <tr>\n",
       "      <th>2</th>\n",
       "      <td>Andorra</td>\n",
       "      <td>42.500000</td>\n",
       "      <td>1.516667</td>\n",
       "      <td>AD</td>\n",
       "      <td>Europe</td>\n",
       "    </tr>\n",
       "    <tr>\n",
       "      <th>3</th>\n",
       "      <td>Armenia</td>\n",
       "      <td>40.166667</td>\n",
       "      <td>44.500000</td>\n",
       "      <td>AM</td>\n",
       "      <td>Europe</td>\n",
       "    </tr>\n",
       "    <tr>\n",
       "      <th>4</th>\n",
       "      <td>Austria</td>\n",
       "      <td>48.200000</td>\n",
       "      <td>16.366667</td>\n",
       "      <td>AT</td>\n",
       "      <td>Europe</td>\n",
       "    </tr>\n",
       "  </tbody>\n",
       "</table>\n",
       "</div>"
      ],
      "text/plain": [
       "         country   latitude  longitude country_code continent_name\n",
       "0  Aland Islands  60.116667  19.900000           AX         Europe\n",
       "1        Albania  41.316667  19.816667           AL         Europe\n",
       "2        Andorra  42.500000   1.516667           AD         Europe\n",
       "3        Armenia  40.166667  44.500000           AM         Europe\n",
       "4        Austria  48.200000  16.366667           AT         Europe"
      ]
     },
     "execution_count": 165,
     "metadata": {},
     "output_type": "execute_result"
    }
   ],
   "source": [
    "\n",
    "pd.read_sql_query('select * from clean_location', con=engine).head()"
   ]
  },
  {
   "cell_type": "code",
   "execution_count": 166,
   "metadata": {},
   "outputs": [
    {
     "data": {
      "text/html": [
       "<div>\n",
       "<style scoped>\n",
       "    .dataframe tbody tr th:only-of-type {\n",
       "        vertical-align: middle;\n",
       "    }\n",
       "\n",
       "    .dataframe tbody tr th {\n",
       "        vertical-align: top;\n",
       "    }\n",
       "\n",
       "    .dataframe thead th {\n",
       "        text-align: right;\n",
       "    }\n",
       "</style>\n",
       "<table border=\"1\" class=\"dataframe\">\n",
       "  <thead>\n",
       "    <tr style=\"text-align: right;\">\n",
       "      <th></th>\n",
       "      <th>country_code</th>\n",
       "      <th>country_code2</th>\n",
       "    </tr>\n",
       "  </thead>\n",
       "  <tbody>\n",
       "    <tr>\n",
       "      <th>0</th>\n",
       "      <td>AF</td>\n",
       "      <td>AFG</td>\n",
       "    </tr>\n",
       "    <tr>\n",
       "      <th>1</th>\n",
       "      <td>AL</td>\n",
       "      <td>ALB</td>\n",
       "    </tr>\n",
       "    <tr>\n",
       "      <th>2</th>\n",
       "      <td>DZ</td>\n",
       "      <td>DZA</td>\n",
       "    </tr>\n",
       "    <tr>\n",
       "      <th>3</th>\n",
       "      <td>AS</td>\n",
       "      <td>ASM</td>\n",
       "    </tr>\n",
       "    <tr>\n",
       "      <th>4</th>\n",
       "      <td>AD</td>\n",
       "      <td>AND</td>\n",
       "    </tr>\n",
       "  </tbody>\n",
       "</table>\n",
       "</div>"
      ],
      "text/plain": [
       "  country_code country_code2\n",
       "0           AF           AFG\n",
       "1           AL           ALB\n",
       "2           DZ           DZA\n",
       "3           AS           ASM\n",
       "4           AD           AND"
      ]
     },
     "execution_count": 166,
     "metadata": {},
     "output_type": "execute_result"
    }
   ],
   "source": [
    "pd.read_sql_query('select * from clean_book', con=engine).head()"
   ]
  },
  {
   "cell_type": "code",
   "execution_count": 167,
   "metadata": {},
   "outputs": [
    {
     "data": {
      "text/html": [
       "<div>\n",
       "<style scoped>\n",
       "    .dataframe tbody tr th:only-of-type {\n",
       "        vertical-align: middle;\n",
       "    }\n",
       "\n",
       "    .dataframe tbody tr th {\n",
       "        vertical-align: top;\n",
       "    }\n",
       "\n",
       "    .dataframe thead th {\n",
       "        text-align: right;\n",
       "    }\n",
       "</style>\n",
       "<table border=\"1\" class=\"dataframe\">\n",
       "  <thead>\n",
       "    <tr style=\"text-align: right;\">\n",
       "      <th></th>\n",
       "      <th>country_code</th>\n",
       "      <th>total_arrivals_1995</th>\n",
       "      <th>total_arrivals_1996</th>\n",
       "      <th>total_arrivals_1997</th>\n",
       "      <th>total_arrivals_1998</th>\n",
       "      <th>total_arrivals_1999</th>\n",
       "      <th>total_arrivals_2000</th>\n",
       "      <th>total_arrivals_2001</th>\n",
       "      <th>total_arrivals_2002</th>\n",
       "      <th>total_arrivals_2003</th>\n",
       "      <th>...</th>\n",
       "      <th>total_arrivals_2010</th>\n",
       "      <th>total_arrivals_2011</th>\n",
       "      <th>total_arrivals_2012</th>\n",
       "      <th>total_arrivals_2013</th>\n",
       "      <th>total_arrivals_2014</th>\n",
       "      <th>total_arrivals_2015</th>\n",
       "      <th>total_arrivals_2016</th>\n",
       "      <th>total_arrivals_2017</th>\n",
       "      <th>total_arrivals_2018</th>\n",
       "      <th>total_arrivals_2019</th>\n",
       "    </tr>\n",
       "  </thead>\n",
       "  <tbody>\n",
       "    <tr>\n",
       "      <th>0</th>\n",
       "      <td>ABW</td>\n",
       "      <td>912000.00</td>\n",
       "      <td>957000.00</td>\n",
       "      <td>947000.00</td>\n",
       "      <td>906000.00</td>\n",
       "      <td>972000.00</td>\n",
       "      <td>1211000.00</td>\n",
       "      <td>1178000.00</td>\n",
       "      <td>1225000.00</td>\n",
       "      <td>1184000.00</td>\n",
       "      <td>...</td>\n",
       "      <td>1394000.0</td>\n",
       "      <td>1469000.00</td>\n",
       "      <td>1481000.00</td>\n",
       "      <td>1667000.00</td>\n",
       "      <td>1739000.0</td>\n",
       "      <td>1832000.00</td>\n",
       "      <td>1758000.00</td>\n",
       "      <td>1863000.0</td>\n",
       "      <td>1897000.0</td>\n",
       "      <td>1951000.0</td>\n",
       "    </tr>\n",
       "    <tr>\n",
       "      <th>1</th>\n",
       "      <td>AGO</td>\n",
       "      <td>9000.00</td>\n",
       "      <td>21000.00</td>\n",
       "      <td>45000.00</td>\n",
       "      <td>52000.00</td>\n",
       "      <td>45000.00</td>\n",
       "      <td>51000.00</td>\n",
       "      <td>67000.00</td>\n",
       "      <td>91000.00</td>\n",
       "      <td>107000.00</td>\n",
       "      <td>...</td>\n",
       "      <td>425000.0</td>\n",
       "      <td>481000.00</td>\n",
       "      <td>528000.00</td>\n",
       "      <td>650000.00</td>\n",
       "      <td>595000.0</td>\n",
       "      <td>592000.00</td>\n",
       "      <td>397000.00</td>\n",
       "      <td>261000.0</td>\n",
       "      <td>218000.0</td>\n",
       "      <td>218000.0</td>\n",
       "    </tr>\n",
       "    <tr>\n",
       "      <th>2</th>\n",
       "      <td>ALB</td>\n",
       "      <td>304000.00</td>\n",
       "      <td>287000.00</td>\n",
       "      <td>119000.00</td>\n",
       "      <td>184000.00</td>\n",
       "      <td>371000.00</td>\n",
       "      <td>317000.00</td>\n",
       "      <td>354000.00</td>\n",
       "      <td>470000.00</td>\n",
       "      <td>557000.00</td>\n",
       "      <td>...</td>\n",
       "      <td>2417000.0</td>\n",
       "      <td>2932000.00</td>\n",
       "      <td>3514000.00</td>\n",
       "      <td>3256000.00</td>\n",
       "      <td>3673000.0</td>\n",
       "      <td>4131000.00</td>\n",
       "      <td>4736000.00</td>\n",
       "      <td>5118000.0</td>\n",
       "      <td>5927000.0</td>\n",
       "      <td>6406000.0</td>\n",
       "    </tr>\n",
       "    <tr>\n",
       "      <th>3</th>\n",
       "      <td>ARB</td>\n",
       "      <td>30238040.81</td>\n",
       "      <td>30557179.06</td>\n",
       "      <td>31691821.51</td>\n",
       "      <td>33564164.75</td>\n",
       "      <td>37847470.51</td>\n",
       "      <td>41402657.74</td>\n",
       "      <td>42608150.07</td>\n",
       "      <td>48672412.96</td>\n",
       "      <td>51600193.07</td>\n",
       "      <td>...</td>\n",
       "      <td>100534799.2</td>\n",
       "      <td>84657021.52</td>\n",
       "      <td>94573456.57</td>\n",
       "      <td>94519121.56</td>\n",
       "      <td>100719164.9</td>\n",
       "      <td>96757390.61</td>\n",
       "      <td>94989926.05</td>\n",
       "      <td>101336098.2</td>\n",
       "      <td>109134074.9</td>\n",
       "      <td>116080347.5</td>\n",
       "    </tr>\n",
       "    <tr>\n",
       "      <th>4</th>\n",
       "      <td>ARG</td>\n",
       "      <td>2289000.00</td>\n",
       "      <td>2614000.00</td>\n",
       "      <td>2764000.00</td>\n",
       "      <td>3012000.00</td>\n",
       "      <td>2898000.00</td>\n",
       "      <td>2909000.00</td>\n",
       "      <td>2620000.00</td>\n",
       "      <td>2820000.00</td>\n",
       "      <td>2995000.00</td>\n",
       "      <td>...</td>\n",
       "      <td>6800000.0</td>\n",
       "      <td>6703000.00</td>\n",
       "      <td>6497000.00</td>\n",
       "      <td>6510000.00</td>\n",
       "      <td>7165000.0</td>\n",
       "      <td>6816000.00</td>\n",
       "      <td>6668000.00</td>\n",
       "      <td>6711000.0</td>\n",
       "      <td>6942000.0</td>\n",
       "      <td>7399000.0</td>\n",
       "    </tr>\n",
       "  </tbody>\n",
       "</table>\n",
       "<p>5 rows × 26 columns</p>\n",
       "</div>"
      ],
      "text/plain": [
       "  country_code  total_arrivals_1995  total_arrivals_1996  total_arrivals_1997  \\\n",
       "0          ABW            912000.00            957000.00            947000.00   \n",
       "1          AGO              9000.00             21000.00             45000.00   \n",
       "2          ALB            304000.00            287000.00            119000.00   \n",
       "3          ARB          30238040.81          30557179.06          31691821.51   \n",
       "4          ARG           2289000.00           2614000.00           2764000.00   \n",
       "\n",
       "   total_arrivals_1998  total_arrivals_1999  total_arrivals_2000  \\\n",
       "0            906000.00            972000.00           1211000.00   \n",
       "1             52000.00             45000.00             51000.00   \n",
       "2            184000.00            371000.00            317000.00   \n",
       "3          33564164.75          37847470.51          41402657.74   \n",
       "4           3012000.00           2898000.00           2909000.00   \n",
       "\n",
       "   total_arrivals_2001  total_arrivals_2002  total_arrivals_2003  ...  \\\n",
       "0           1178000.00           1225000.00           1184000.00  ...   \n",
       "1             67000.00             91000.00            107000.00  ...   \n",
       "2            354000.00            470000.00            557000.00  ...   \n",
       "3          42608150.07          48672412.96          51600193.07  ...   \n",
       "4           2620000.00           2820000.00           2995000.00  ...   \n",
       "\n",
       "   total_arrivals_2010  total_arrivals_2011  total_arrivals_2012  \\\n",
       "0            1394000.0           1469000.00           1481000.00   \n",
       "1             425000.0            481000.00            528000.00   \n",
       "2            2417000.0           2932000.00           3514000.00   \n",
       "3          100534799.2          84657021.52          94573456.57   \n",
       "4            6800000.0           6703000.00           6497000.00   \n",
       "\n",
       "   total_arrivals_2013  total_arrivals_2014  total_arrivals_2015  \\\n",
       "0           1667000.00            1739000.0           1832000.00   \n",
       "1            650000.00             595000.0            592000.00   \n",
       "2           3256000.00            3673000.0           4131000.00   \n",
       "3          94519121.56          100719164.9          96757390.61   \n",
       "4           6510000.00            7165000.0           6816000.00   \n",
       "\n",
       "   total_arrivals_2016  total_arrivals_2017  total_arrivals_2018  \\\n",
       "0           1758000.00            1863000.0            1897000.0   \n",
       "1            397000.00             261000.0             218000.0   \n",
       "2           4736000.00            5118000.0            5927000.0   \n",
       "3          94989926.05          101336098.2          109134074.9   \n",
       "4           6668000.00            6711000.0            6942000.0   \n",
       "\n",
       "   total_arrivals_2019  \n",
       "0            1951000.0  \n",
       "1             218000.0  \n",
       "2            6406000.0  \n",
       "3          116080347.5  \n",
       "4            7399000.0  \n",
       "\n",
       "[5 rows x 26 columns]"
      ]
     },
     "execution_count": 167,
     "metadata": {},
     "output_type": "execute_result"
    }
   ],
   "source": [
    "pd.read_sql_query('select * from clean_arrivals', con=engine).head()"
   ]
  },
  {
   "cell_type": "code",
   "execution_count": 168,
   "metadata": {},
   "outputs": [
    {
     "data": {
      "text/html": [
       "<div>\n",
       "<style scoped>\n",
       "    .dataframe tbody tr th:only-of-type {\n",
       "        vertical-align: middle;\n",
       "    }\n",
       "\n",
       "    .dataframe tbody tr th {\n",
       "        vertical-align: top;\n",
       "    }\n",
       "\n",
       "    .dataframe thead th {\n",
       "        text-align: right;\n",
       "    }\n",
       "</style>\n",
       "<table border=\"1\" class=\"dataframe\">\n",
       "  <thead>\n",
       "    <tr style=\"text-align: right;\">\n",
       "      <th></th>\n",
       "      <th>country_code</th>\n",
       "      <th>total_revenues_1995</th>\n",
       "      <th>total_revenues_1996</th>\n",
       "      <th>total_revenues_1997</th>\n",
       "      <th>total_revenues_1998</th>\n",
       "      <th>total_revenues_1999</th>\n",
       "      <th>total_revenues_2000</th>\n",
       "      <th>total_revenues_2001</th>\n",
       "      <th>total_revenues_2002</th>\n",
       "      <th>total_revenues_2003</th>\n",
       "      <th>...</th>\n",
       "      <th>total_revenues_2010</th>\n",
       "      <th>total_revenues_2011</th>\n",
       "      <th>total_revenues_2012</th>\n",
       "      <th>total_revenues_2013</th>\n",
       "      <th>total_revenues_2014</th>\n",
       "      <th>total_revenues_2015</th>\n",
       "      <th>total_revenues_2016</th>\n",
       "      <th>total_revenues_2017</th>\n",
       "      <th>total_revenues_2018</th>\n",
       "      <th>total_revenues_2019</th>\n",
       "    </tr>\n",
       "  </thead>\n",
       "  <tbody>\n",
       "    <tr>\n",
       "      <th>0</th>\n",
       "      <td>ABW</td>\n",
       "      <td>5.540000e+08</td>\n",
       "      <td>6.660000e+08</td>\n",
       "      <td>7.260000e+08</td>\n",
       "      <td>7.860000e+08</td>\n",
       "      <td>7.820000e+08</td>\n",
       "      <td>8.500000e+08</td>\n",
       "      <td>8.250000e+08</td>\n",
       "      <td>8.350000e+08</td>\n",
       "      <td>8.581000e+08</td>\n",
       "      <td>...</td>\n",
       "      <td>1.254000e+09</td>\n",
       "      <td>1.358000e+09</td>\n",
       "      <td>1.412000e+09</td>\n",
       "      <td>1.506000e+09</td>\n",
       "      <td>1.625000e+09</td>\n",
       "      <td>1.659000e+09</td>\n",
       "      <td>1.757000e+09</td>\n",
       "      <td>1.855000e+09</td>\n",
       "      <td>2.029000e+09</td>\n",
       "      <td>2.091000e+09</td>\n",
       "    </tr>\n",
       "    <tr>\n",
       "      <th>1</th>\n",
       "      <td>AGO</td>\n",
       "      <td>2.700000e+07</td>\n",
       "      <td>3.800000e+07</td>\n",
       "      <td>2.400000e+07</td>\n",
       "      <td>3.900000e+07</td>\n",
       "      <td>3.100000e+07</td>\n",
       "      <td>3.400000e+07</td>\n",
       "      <td>3.500000e+07</td>\n",
       "      <td>5.100000e+07</td>\n",
       "      <td>6.300000e+07</td>\n",
       "      <td>...</td>\n",
       "      <td>7.260000e+08</td>\n",
       "      <td>6.530000e+08</td>\n",
       "      <td>7.110000e+08</td>\n",
       "      <td>1.241000e+09</td>\n",
       "      <td>1.597000e+09</td>\n",
       "      <td>1.171000e+09</td>\n",
       "      <td>6.280000e+08</td>\n",
       "      <td>8.840000e+08</td>\n",
       "      <td>5.570000e+08</td>\n",
       "      <td>3.950000e+08</td>\n",
       "    </tr>\n",
       "    <tr>\n",
       "      <th>2</th>\n",
       "      <td>ALB</td>\n",
       "      <td>7.000000e+07</td>\n",
       "      <td>9.400000e+07</td>\n",
       "      <td>3.400000e+07</td>\n",
       "      <td>6.000000e+07</td>\n",
       "      <td>2.180000e+08</td>\n",
       "      <td>3.980000e+08</td>\n",
       "      <td>4.510000e+08</td>\n",
       "      <td>4.920000e+08</td>\n",
       "      <td>5.370000e+08</td>\n",
       "      <td>...</td>\n",
       "      <td>1.778000e+09</td>\n",
       "      <td>1.833000e+09</td>\n",
       "      <td>1.623000e+09</td>\n",
       "      <td>1.670000e+09</td>\n",
       "      <td>1.849000e+09</td>\n",
       "      <td>1.613000e+09</td>\n",
       "      <td>1.821000e+09</td>\n",
       "      <td>2.050000e+09</td>\n",
       "      <td>2.306000e+09</td>\n",
       "      <td>2.458000e+09</td>\n",
       "    </tr>\n",
       "    <tr>\n",
       "      <th>3</th>\n",
       "      <td>ARE</td>\n",
       "      <td>6.320000e+08</td>\n",
       "      <td>7.430000e+08</td>\n",
       "      <td>8.140000e+08</td>\n",
       "      <td>8.590000e+08</td>\n",
       "      <td>8.930000e+08</td>\n",
       "      <td>1.063000e+09</td>\n",
       "      <td>1.200000e+09</td>\n",
       "      <td>1.332000e+09</td>\n",
       "      <td>1.438000e+09</td>\n",
       "      <td>...</td>\n",
       "      <td>8.577000e+09</td>\n",
       "      <td>9.204000e+09</td>\n",
       "      <td>1.092400e+10</td>\n",
       "      <td>1.238900e+10</td>\n",
       "      <td>1.522100e+10</td>\n",
       "      <td>1.748100e+10</td>\n",
       "      <td>1.949600e+10</td>\n",
       "      <td>2.104900e+10</td>\n",
       "      <td>2.137200e+10</td>\n",
       "      <td>3.841330e+10</td>\n",
       "    </tr>\n",
       "    <tr>\n",
       "      <th>4</th>\n",
       "      <td>ARG</td>\n",
       "      <td>2.550000e+09</td>\n",
       "      <td>2.975000e+09</td>\n",
       "      <td>3.153000e+09</td>\n",
       "      <td>3.353000e+09</td>\n",
       "      <td>3.175000e+09</td>\n",
       "      <td>3.195000e+09</td>\n",
       "      <td>2.756000e+09</td>\n",
       "      <td>1.716000e+09</td>\n",
       "      <td>2.306000e+09</td>\n",
       "      <td>...</td>\n",
       "      <td>5.605000e+09</td>\n",
       "      <td>6.058000e+09</td>\n",
       "      <td>5.665000e+09</td>\n",
       "      <td>5.199000e+09</td>\n",
       "      <td>5.645000e+09</td>\n",
       "      <td>5.441000e+09</td>\n",
       "      <td>5.466000e+09</td>\n",
       "      <td>5.830000e+09</td>\n",
       "      <td>5.999000e+09</td>\n",
       "      <td>5.654000e+09</td>\n",
       "    </tr>\n",
       "  </tbody>\n",
       "</table>\n",
       "<p>5 rows × 26 columns</p>\n",
       "</div>"
      ],
      "text/plain": [
       "  country_code  total_revenues_1995  total_revenues_1996  total_revenues_1997  \\\n",
       "0          ABW         5.540000e+08         6.660000e+08         7.260000e+08   \n",
       "1          AGO         2.700000e+07         3.800000e+07         2.400000e+07   \n",
       "2          ALB         7.000000e+07         9.400000e+07         3.400000e+07   \n",
       "3          ARE         6.320000e+08         7.430000e+08         8.140000e+08   \n",
       "4          ARG         2.550000e+09         2.975000e+09         3.153000e+09   \n",
       "\n",
       "   total_revenues_1998  total_revenues_1999  total_revenues_2000  \\\n",
       "0         7.860000e+08         7.820000e+08         8.500000e+08   \n",
       "1         3.900000e+07         3.100000e+07         3.400000e+07   \n",
       "2         6.000000e+07         2.180000e+08         3.980000e+08   \n",
       "3         8.590000e+08         8.930000e+08         1.063000e+09   \n",
       "4         3.353000e+09         3.175000e+09         3.195000e+09   \n",
       "\n",
       "   total_revenues_2001  total_revenues_2002  total_revenues_2003  ...  \\\n",
       "0         8.250000e+08         8.350000e+08         8.581000e+08  ...   \n",
       "1         3.500000e+07         5.100000e+07         6.300000e+07  ...   \n",
       "2         4.510000e+08         4.920000e+08         5.370000e+08  ...   \n",
       "3         1.200000e+09         1.332000e+09         1.438000e+09  ...   \n",
       "4         2.756000e+09         1.716000e+09         2.306000e+09  ...   \n",
       "\n",
       "   total_revenues_2010  total_revenues_2011  total_revenues_2012  \\\n",
       "0         1.254000e+09         1.358000e+09         1.412000e+09   \n",
       "1         7.260000e+08         6.530000e+08         7.110000e+08   \n",
       "2         1.778000e+09         1.833000e+09         1.623000e+09   \n",
       "3         8.577000e+09         9.204000e+09         1.092400e+10   \n",
       "4         5.605000e+09         6.058000e+09         5.665000e+09   \n",
       "\n",
       "   total_revenues_2013  total_revenues_2014  total_revenues_2015  \\\n",
       "0         1.506000e+09         1.625000e+09         1.659000e+09   \n",
       "1         1.241000e+09         1.597000e+09         1.171000e+09   \n",
       "2         1.670000e+09         1.849000e+09         1.613000e+09   \n",
       "3         1.238900e+10         1.522100e+10         1.748100e+10   \n",
       "4         5.199000e+09         5.645000e+09         5.441000e+09   \n",
       "\n",
       "   total_revenues_2016  total_revenues_2017  total_revenues_2018  \\\n",
       "0         1.757000e+09         1.855000e+09         2.029000e+09   \n",
       "1         6.280000e+08         8.840000e+08         5.570000e+08   \n",
       "2         1.821000e+09         2.050000e+09         2.306000e+09   \n",
       "3         1.949600e+10         2.104900e+10         2.137200e+10   \n",
       "4         5.466000e+09         5.830000e+09         5.999000e+09   \n",
       "\n",
       "   total_revenues_2019  \n",
       "0         2.091000e+09  \n",
       "1         3.950000e+08  \n",
       "2         2.458000e+09  \n",
       "3         3.841330e+10  \n",
       "4         5.654000e+09  \n",
       "\n",
       "[5 rows x 26 columns]"
      ]
     },
     "execution_count": 168,
     "metadata": {},
     "output_type": "execute_result"
    }
   ],
   "source": [
    "pd.read_sql_query('select * from clean_revenues', con=engine).head()"
   ]
  },
  {
   "cell_type": "code",
   "execution_count": null,
   "metadata": {},
   "outputs": [],
   "source": []
  },
  {
   "cell_type": "code",
   "execution_count": null,
   "metadata": {},
   "outputs": [],
   "source": []
  }
 ],
 "metadata": {
  "kernelspec": {
   "display_name": "pythonData2",
   "language": "python",
   "name": "pythondata2"
  },
  "language_info": {
   "codemirror_mode": {
    "name": "ipython",
    "version": 3
   },
   "file_extension": ".py",
   "mimetype": "text/x-python",
   "name": "python",
   "nbconvert_exporter": "python",
   "pygments_lexer": "ipython3",
   "version": "3.7.6-final"
  }
 },
 "nbformat": 4,
 "nbformat_minor": 2
}