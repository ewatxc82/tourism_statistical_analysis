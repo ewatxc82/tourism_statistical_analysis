{
 "metadata": {
  "language_info": {
   "codemirror_mode": {
    "name": "ipython",
    "version": 3
   },
   "file_extension": ".py",
   "mimetype": "text/x-python",
   "name": "python",
   "nbconvert_exporter": "python",
   "pygments_lexer": "ipython3",
   "version": "3.7.6-final"
  },
  "orig_nbformat": 2,
  "kernelspec": {
   "name": "python3",
   "display_name": "Python 3.7.6 64-bit (conda)",
   "metadata": {
    "interpreter": {
     "hash": "99a237a7b17063c1b1ae23bbf27b3d3bfbaf022698a4da3d51312123ec3b869e"
    }
   }
  }
 },
 "nbformat": 4,
 "nbformat_minor": 2,
 "cells": [
  {
   "cell_type": "code",
   "execution_count": 23,
   "metadata": {},
   "outputs": [],
   "source": [
    "import pandas as pd \n",
    "from sqlalchemy import create_engine\n",
    "# from postgres_password import pass_word"
   ]
  },
  {
   "cell_type": "code",
   "execution_count": 24,
   "metadata": {},
   "outputs": [
    {
     "output_type": "execute_result",
     "data": {
      "text/plain": [
       "                                CountryName        CapitalName  \\\n",
       "0                                Somaliland           Hargeisa   \n",
       "1  South Georgia and South Sandwich Islands  King Edward Point   \n",
       "2       French Southern and Antarctic Lands  Port-aux-Français   \n",
       "3                                 Palestine          Jerusalem   \n",
       "4                             Aland Islands          Mariehamn   \n",
       "\n",
       "  CapitalLatitude  CapitalLongitude CountryCode ContinentName  \n",
       "0            9.55         44.050000         NaN        Africa  \n",
       "1      -54.283333        -36.500000          GS    Antarctica  \n",
       "2          -49.35         70.216667          TF    Antarctica  \n",
       "3     31.76666667         35.233333          PS          Asia  \n",
       "4       60.116667         19.900000          AX        Europe  "
      ],
      "text/html": "<div>\n<style scoped>\n    .dataframe tbody tr th:only-of-type {\n        vertical-align: middle;\n    }\n\n    .dataframe tbody tr th {\n        vertical-align: top;\n    }\n\n    .dataframe thead th {\n        text-align: right;\n    }\n</style>\n<table border=\"1\" class=\"dataframe\">\n  <thead>\n    <tr style=\"text-align: right;\">\n      <th></th>\n      <th>CountryName</th>\n      <th>CapitalName</th>\n      <th>CapitalLatitude</th>\n      <th>CapitalLongitude</th>\n      <th>CountryCode</th>\n      <th>ContinentName</th>\n    </tr>\n  </thead>\n  <tbody>\n    <tr>\n      <th>0</th>\n      <td>Somaliland</td>\n      <td>Hargeisa</td>\n      <td>9.55</td>\n      <td>44.050000</td>\n      <td>NaN</td>\n      <td>Africa</td>\n    </tr>\n    <tr>\n      <th>1</th>\n      <td>South Georgia and South Sandwich Islands</td>\n      <td>King Edward Point</td>\n      <td>-54.283333</td>\n      <td>-36.500000</td>\n      <td>GS</td>\n      <td>Antarctica</td>\n    </tr>\n    <tr>\n      <th>2</th>\n      <td>French Southern and Antarctic Lands</td>\n      <td>Port-aux-Français</td>\n      <td>-49.35</td>\n      <td>70.216667</td>\n      <td>TF</td>\n      <td>Antarctica</td>\n    </tr>\n    <tr>\n      <th>3</th>\n      <td>Palestine</td>\n      <td>Jerusalem</td>\n      <td>31.76666667</td>\n      <td>35.233333</td>\n      <td>PS</td>\n      <td>Asia</td>\n    </tr>\n    <tr>\n      <th>4</th>\n      <td>Aland Islands</td>\n      <td>Mariehamn</td>\n      <td>60.116667</td>\n      <td>19.900000</td>\n      <td>AX</td>\n      <td>Europe</td>\n    </tr>\n  </tbody>\n</table>\n</div>"
     },
     "metadata": {},
     "execution_count": 24
    }
   ],
   "source": [
    "location_csv=pd.read_csv(\"data/country-capitals.csv\")\n",
    "location_csv.head()"
   ]
  },
  {
   "cell_type": "code",
   "execution_count": 25,
   "metadata": {},
   "outputs": [
    {
     "output_type": "execute_result",
     "data": {
      "text/plain": [
       "  Country Name Country Code                             Indicator Name  \\\n",
       "0        Aruba          ABW  International tourism, number of arrivals   \n",
       "1  Afghanistan          AFG  International tourism, number of arrivals   \n",
       "2       Angola          AGO  International tourism, number of arrivals   \n",
       "3      Albania          ALB  International tourism, number of arrivals   \n",
       "4      Andorra          AND  International tourism, number of arrivals   \n",
       "\n",
       "  Indicator Code  1960  1961  1962  1963  1964  1965  ...       2011  \\\n",
       "0    ST.INT.ARVL   NaN   NaN   NaN   NaN   NaN   NaN  ...  1469000.0   \n",
       "1    ST.INT.ARVL   NaN   NaN   NaN   NaN   NaN   NaN  ...        NaN   \n",
       "2    ST.INT.ARVL   NaN   NaN   NaN   NaN   NaN   NaN  ...   481000.0   \n",
       "3    ST.INT.ARVL   NaN   NaN   NaN   NaN   NaN   NaN  ...  2932000.0   \n",
       "4    ST.INT.ARVL   NaN   NaN   NaN   NaN   NaN   NaN  ...  7983000.0   \n",
       "\n",
       "        2012       2013       2014       2015       2016       2017  \\\n",
       "0  1481000.0  1667000.0  1739000.0  1832000.0  1758000.0  1863000.0   \n",
       "1        NaN        NaN        NaN        NaN        NaN        NaN   \n",
       "2   528000.0   650000.0   595000.0   592000.0   397000.0   261000.0   \n",
       "3  3514000.0  3256000.0  3673000.0  4131000.0  4736000.0  5118000.0   \n",
       "4  7900000.0  7676000.0  7797000.0  7850000.0  8025000.0  8152000.0   \n",
       "\n",
       "        2018       2019  2020  \n",
       "0  1897000.0  1951000.0   NaN  \n",
       "1        NaN        NaN   NaN  \n",
       "2   218000.0   218000.0   NaN  \n",
       "3  5927000.0  6406000.0   NaN  \n",
       "4  8328000.0  8235000.0   NaN  \n",
       "\n",
       "[5 rows x 65 columns]"
      ],
      "text/html": "<div>\n<style scoped>\n    .dataframe tbody tr th:only-of-type {\n        vertical-align: middle;\n    }\n\n    .dataframe tbody tr th {\n        vertical-align: top;\n    }\n\n    .dataframe thead th {\n        text-align: right;\n    }\n</style>\n<table border=\"1\" class=\"dataframe\">\n  <thead>\n    <tr style=\"text-align: right;\">\n      <th></th>\n      <th>Country Name</th>\n      <th>Country Code</th>\n      <th>Indicator Name</th>\n      <th>Indicator Code</th>\n      <th>1960</th>\n      <th>1961</th>\n      <th>1962</th>\n      <th>1963</th>\n      <th>1964</th>\n      <th>1965</th>\n      <th>...</th>\n      <th>2011</th>\n      <th>2012</th>\n      <th>2013</th>\n      <th>2014</th>\n      <th>2015</th>\n      <th>2016</th>\n      <th>2017</th>\n      <th>2018</th>\n      <th>2019</th>\n      <th>2020</th>\n    </tr>\n  </thead>\n  <tbody>\n    <tr>\n      <th>0</th>\n      <td>Aruba</td>\n      <td>ABW</td>\n      <td>International tourism, number of arrivals</td>\n      <td>ST.INT.ARVL</td>\n      <td>NaN</td>\n      <td>NaN</td>\n      <td>NaN</td>\n      <td>NaN</td>\n      <td>NaN</td>\n      <td>NaN</td>\n      <td>...</td>\n      <td>1469000.0</td>\n      <td>1481000.0</td>\n      <td>1667000.0</td>\n      <td>1739000.0</td>\n      <td>1832000.0</td>\n      <td>1758000.0</td>\n      <td>1863000.0</td>\n      <td>1897000.0</td>\n      <td>1951000.0</td>\n      <td>NaN</td>\n    </tr>\n    <tr>\n      <th>1</th>\n      <td>Afghanistan</td>\n      <td>AFG</td>\n      <td>International tourism, number of arrivals</td>\n      <td>ST.INT.ARVL</td>\n      <td>NaN</td>\n      <td>NaN</td>\n      <td>NaN</td>\n      <td>NaN</td>\n      <td>NaN</td>\n      <td>NaN</td>\n      <td>...</td>\n      <td>NaN</td>\n      <td>NaN</td>\n      <td>NaN</td>\n      <td>NaN</td>\n      <td>NaN</td>\n      <td>NaN</td>\n      <td>NaN</td>\n      <td>NaN</td>\n      <td>NaN</td>\n      <td>NaN</td>\n    </tr>\n    <tr>\n      <th>2</th>\n      <td>Angola</td>\n      <td>AGO</td>\n      <td>International tourism, number of arrivals</td>\n      <td>ST.INT.ARVL</td>\n      <td>NaN</td>\n      <td>NaN</td>\n      <td>NaN</td>\n      <td>NaN</td>\n      <td>NaN</td>\n      <td>NaN</td>\n      <td>...</td>\n      <td>481000.0</td>\n      <td>528000.0</td>\n      <td>650000.0</td>\n      <td>595000.0</td>\n      <td>592000.0</td>\n      <td>397000.0</td>\n      <td>261000.0</td>\n      <td>218000.0</td>\n      <td>218000.0</td>\n      <td>NaN</td>\n    </tr>\n    <tr>\n      <th>3</th>\n      <td>Albania</td>\n      <td>ALB</td>\n      <td>International tourism, number of arrivals</td>\n      <td>ST.INT.ARVL</td>\n      <td>NaN</td>\n      <td>NaN</td>\n      <td>NaN</td>\n      <td>NaN</td>\n      <td>NaN</td>\n      <td>NaN</td>\n      <td>...</td>\n      <td>2932000.0</td>\n      <td>3514000.0</td>\n      <td>3256000.0</td>\n      <td>3673000.0</td>\n      <td>4131000.0</td>\n      <td>4736000.0</td>\n      <td>5118000.0</td>\n      <td>5927000.0</td>\n      <td>6406000.0</td>\n      <td>NaN</td>\n    </tr>\n    <tr>\n      <th>4</th>\n      <td>Andorra</td>\n      <td>AND</td>\n      <td>International tourism, number of arrivals</td>\n      <td>ST.INT.ARVL</td>\n      <td>NaN</td>\n      <td>NaN</td>\n      <td>NaN</td>\n      <td>NaN</td>\n      <td>NaN</td>\n      <td>NaN</td>\n      <td>...</td>\n      <td>7983000.0</td>\n      <td>7900000.0</td>\n      <td>7676000.0</td>\n      <td>7797000.0</td>\n      <td>7850000.0</td>\n      <td>8025000.0</td>\n      <td>8152000.0</td>\n      <td>8328000.0</td>\n      <td>8235000.0</td>\n      <td>NaN</td>\n    </tr>\n  </tbody>\n</table>\n<p>5 rows × 65 columns</p>\n</div>"
     },
     "metadata": {},
     "execution_count": 25
    }
   ],
   "source": [
    "arrivals_csv=pd.read_csv(\"data/arrivals.csv\")\n",
    "arrivals_csv.head()"
   ]
  },
  {
   "cell_type": "code",
   "execution_count": 34,
   "metadata": {},
   "outputs": [
    {
     "output_type": "execute_result",
     "data": {
      "text/plain": [
       "          Country CountryCode CountryCode2   x\n",
       "0     Afghanistan          AF          AFG   4\n",
       "1         Albania          AL          ALB   8\n",
       "2         Algeria          DZ          DZA  12\n",
       "3  American Samoa          AS          ASM  16\n",
       "4         Andorra          AD          AND  20"
      ],
      "text/html": "<div>\n<style scoped>\n    .dataframe tbody tr th:only-of-type {\n        vertical-align: middle;\n    }\n\n    .dataframe tbody tr th {\n        vertical-align: top;\n    }\n\n    .dataframe thead th {\n        text-align: right;\n    }\n</style>\n<table border=\"1\" class=\"dataframe\">\n  <thead>\n    <tr style=\"text-align: right;\">\n      <th></th>\n      <th>Country</th>\n      <th>CountryCode</th>\n      <th>CountryCode2</th>\n      <th>x</th>\n    </tr>\n  </thead>\n  <tbody>\n    <tr>\n      <th>0</th>\n      <td>Afghanistan</td>\n      <td>AF</td>\n      <td>AFG</td>\n      <td>4</td>\n    </tr>\n    <tr>\n      <th>1</th>\n      <td>Albania</td>\n      <td>AL</td>\n      <td>ALB</td>\n      <td>8</td>\n    </tr>\n    <tr>\n      <th>2</th>\n      <td>Algeria</td>\n      <td>DZ</td>\n      <td>DZA</td>\n      <td>12</td>\n    </tr>\n    <tr>\n      <th>3</th>\n      <td>American Samoa</td>\n      <td>AS</td>\n      <td>ASM</td>\n      <td>16</td>\n    </tr>\n    <tr>\n      <th>4</th>\n      <td>Andorra</td>\n      <td>AD</td>\n      <td>AND</td>\n      <td>20</td>\n    </tr>\n  </tbody>\n</table>\n</div>"
     },
     "metadata": {},
     "execution_count": 34
    }
   ],
   "source": [
    "book_csv=pd.read_csv(\"data/Book1.csv\")\n",
    "book_csv.head()"
   ]
  },
  {
   "cell_type": "code",
   "execution_count": 26,
   "metadata": {},
   "outputs": [
    {
     "output_type": "execute_result",
     "data": {
      "text/plain": [
       "  Country Name Country Code                                 Indicator Name  \\\n",
       "0        Aruba          ABW  International tourism, receipts (current US$)   \n",
       "1  Afghanistan          AFG  International tourism, receipts (current US$)   \n",
       "2       Angola          AGO  International tourism, receipts (current US$)   \n",
       "3      Albania          ALB  International tourism, receipts (current US$)   \n",
       "4      Andorra          AND  International tourism, receipts (current US$)   \n",
       "\n",
       "   Indicator Code  1960  1961  1962  1963  1964  1965  ...          2011  \\\n",
       "0  ST.INT.RCPT.CD   NaN   NaN   NaN   NaN   NaN   NaN  ...  1.358000e+09   \n",
       "1  ST.INT.RCPT.CD   NaN   NaN   NaN   NaN   NaN   NaN  ...  1.650000e+08   \n",
       "2  ST.INT.RCPT.CD   NaN   NaN   NaN   NaN   NaN   NaN  ...  6.530000e+08   \n",
       "3  ST.INT.RCPT.CD   NaN   NaN   NaN   NaN   NaN   NaN  ...  1.833000e+09   \n",
       "4  ST.INT.RCPT.CD   NaN   NaN   NaN   NaN   NaN   NaN  ...           NaN   \n",
       "\n",
       "           2012          2013          2014          2015          2016  \\\n",
       "0  1.412000e+09  1.506000e+09  1.625000e+09  1.659000e+09  1.757000e+09   \n",
       "1  1.670000e+08  1.790000e+08  1.210000e+08  8.600000e+07  6.200000e+07   \n",
       "2  7.110000e+08  1.241000e+09  1.597000e+09  1.171000e+09  6.280000e+08   \n",
       "3  1.623000e+09  1.670000e+09  1.849000e+09  1.613000e+09  1.821000e+09   \n",
       "4           NaN           NaN           NaN           NaN           NaN   \n",
       "\n",
       "           2017          2018          2019  2020  \n",
       "0  1.855000e+09  2.029000e+09  2.091000e+09   NaN  \n",
       "1  1.600000e+07  5.000000e+07  8.500000e+07   NaN  \n",
       "2  8.840000e+08  5.570000e+08  3.950000e+08   NaN  \n",
       "3  2.050000e+09  2.306000e+09  2.458000e+09   NaN  \n",
       "4           NaN           NaN           NaN   NaN  \n",
       "\n",
       "[5 rows x 65 columns]"
      ],
      "text/html": "<div>\n<style scoped>\n    .dataframe tbody tr th:only-of-type {\n        vertical-align: middle;\n    }\n\n    .dataframe tbody tr th {\n        vertical-align: top;\n    }\n\n    .dataframe thead th {\n        text-align: right;\n    }\n</style>\n<table border=\"1\" class=\"dataframe\">\n  <thead>\n    <tr style=\"text-align: right;\">\n      <th></th>\n      <th>Country Name</th>\n      <th>Country Code</th>\n      <th>Indicator Name</th>\n      <th>Indicator Code</th>\n      <th>1960</th>\n      <th>1961</th>\n      <th>1962</th>\n      <th>1963</th>\n      <th>1964</th>\n      <th>1965</th>\n      <th>...</th>\n      <th>2011</th>\n      <th>2012</th>\n      <th>2013</th>\n      <th>2014</th>\n      <th>2015</th>\n      <th>2016</th>\n      <th>2017</th>\n      <th>2018</th>\n      <th>2019</th>\n      <th>2020</th>\n    </tr>\n  </thead>\n  <tbody>\n    <tr>\n      <th>0</th>\n      <td>Aruba</td>\n      <td>ABW</td>\n      <td>International tourism, receipts (current US$)</td>\n      <td>ST.INT.RCPT.CD</td>\n      <td>NaN</td>\n      <td>NaN</td>\n      <td>NaN</td>\n      <td>NaN</td>\n      <td>NaN</td>\n      <td>NaN</td>\n      <td>...</td>\n      <td>1.358000e+09</td>\n      <td>1.412000e+09</td>\n      <td>1.506000e+09</td>\n      <td>1.625000e+09</td>\n      <td>1.659000e+09</td>\n      <td>1.757000e+09</td>\n      <td>1.855000e+09</td>\n      <td>2.029000e+09</td>\n      <td>2.091000e+09</td>\n      <td>NaN</td>\n    </tr>\n    <tr>\n      <th>1</th>\n      <td>Afghanistan</td>\n      <td>AFG</td>\n      <td>International tourism, receipts (current US$)</td>\n      <td>ST.INT.RCPT.CD</td>\n      <td>NaN</td>\n      <td>NaN</td>\n      <td>NaN</td>\n      <td>NaN</td>\n      <td>NaN</td>\n      <td>NaN</td>\n      <td>...</td>\n      <td>1.650000e+08</td>\n      <td>1.670000e+08</td>\n      <td>1.790000e+08</td>\n      <td>1.210000e+08</td>\n      <td>8.600000e+07</td>\n      <td>6.200000e+07</td>\n      <td>1.600000e+07</td>\n      <td>5.000000e+07</td>\n      <td>8.500000e+07</td>\n      <td>NaN</td>\n    </tr>\n    <tr>\n      <th>2</th>\n      <td>Angola</td>\n      <td>AGO</td>\n      <td>International tourism, receipts (current US$)</td>\n      <td>ST.INT.RCPT.CD</td>\n      <td>NaN</td>\n      <td>NaN</td>\n      <td>NaN</td>\n      <td>NaN</td>\n      <td>NaN</td>\n      <td>NaN</td>\n      <td>...</td>\n      <td>6.530000e+08</td>\n      <td>7.110000e+08</td>\n      <td>1.241000e+09</td>\n      <td>1.597000e+09</td>\n      <td>1.171000e+09</td>\n      <td>6.280000e+08</td>\n      <td>8.840000e+08</td>\n      <td>5.570000e+08</td>\n      <td>3.950000e+08</td>\n      <td>NaN</td>\n    </tr>\n    <tr>\n      <th>3</th>\n      <td>Albania</td>\n      <td>ALB</td>\n      <td>International tourism, receipts (current US$)</td>\n      <td>ST.INT.RCPT.CD</td>\n      <td>NaN</td>\n      <td>NaN</td>\n      <td>NaN</td>\n      <td>NaN</td>\n      <td>NaN</td>\n      <td>NaN</td>\n      <td>...</td>\n      <td>1.833000e+09</td>\n      <td>1.623000e+09</td>\n      <td>1.670000e+09</td>\n      <td>1.849000e+09</td>\n      <td>1.613000e+09</td>\n      <td>1.821000e+09</td>\n      <td>2.050000e+09</td>\n      <td>2.306000e+09</td>\n      <td>2.458000e+09</td>\n      <td>NaN</td>\n    </tr>\n    <tr>\n      <th>4</th>\n      <td>Andorra</td>\n      <td>AND</td>\n      <td>International tourism, receipts (current US$)</td>\n      <td>ST.INT.RCPT.CD</td>\n      <td>NaN</td>\n      <td>NaN</td>\n      <td>NaN</td>\n      <td>NaN</td>\n      <td>NaN</td>\n      <td>NaN</td>\n      <td>...</td>\n      <td>NaN</td>\n      <td>NaN</td>\n      <td>NaN</td>\n      <td>NaN</td>\n      <td>NaN</td>\n      <td>NaN</td>\n      <td>NaN</td>\n      <td>NaN</td>\n      <td>NaN</td>\n      <td>NaN</td>\n    </tr>\n  </tbody>\n</table>\n<p>5 rows × 65 columns</p>\n</div>"
     },
     "metadata": {},
     "execution_count": 26
    }
   ],
   "source": [
    "revenues_csv=pd.read_csv(\"data/revenues.csv\")\n",
    "revenues_csv.head()"
   ]
  },
  {
   "source": [
    "Cleaning data "
   ],
   "cell_type": "markdown",
   "metadata": {}
  },
  {
   "cell_type": "code",
   "execution_count": 27,
   "metadata": {},
   "outputs": [
    {
     "output_type": "execute_result",
     "data": {
      "text/plain": [
       "                                CountryName CapitalLatitude  CapitalLongitude  \\\n",
       "1  South Georgia and South Sandwich Islands      -54.283333        -36.500000   \n",
       "2       French Southern and Antarctic Lands          -49.35         70.216667   \n",
       "3                                 Palestine     31.76666667         35.233333   \n",
       "4                             Aland Islands       60.116667         19.900000   \n",
       "5                                     Nauru         -0.5477        166.920867   \n",
       "\n",
       "  CountryCode  \n",
       "1          GS  \n",
       "2          TF  \n",
       "3          PS  \n",
       "4          AX  \n",
       "5          NR  "
      ],
      "text/html": "<div>\n<style scoped>\n    .dataframe tbody tr th:only-of-type {\n        vertical-align: middle;\n    }\n\n    .dataframe tbody tr th {\n        vertical-align: top;\n    }\n\n    .dataframe thead th {\n        text-align: right;\n    }\n</style>\n<table border=\"1\" class=\"dataframe\">\n  <thead>\n    <tr style=\"text-align: right;\">\n      <th></th>\n      <th>CountryName</th>\n      <th>CapitalLatitude</th>\n      <th>CapitalLongitude</th>\n      <th>CountryCode</th>\n    </tr>\n  </thead>\n  <tbody>\n    <tr>\n      <th>1</th>\n      <td>South Georgia and South Sandwich Islands</td>\n      <td>-54.283333</td>\n      <td>-36.500000</td>\n      <td>GS</td>\n    </tr>\n    <tr>\n      <th>2</th>\n      <td>French Southern and Antarctic Lands</td>\n      <td>-49.35</td>\n      <td>70.216667</td>\n      <td>TF</td>\n    </tr>\n    <tr>\n      <th>3</th>\n      <td>Palestine</td>\n      <td>31.76666667</td>\n      <td>35.233333</td>\n      <td>PS</td>\n    </tr>\n    <tr>\n      <th>4</th>\n      <td>Aland Islands</td>\n      <td>60.116667</td>\n      <td>19.900000</td>\n      <td>AX</td>\n    </tr>\n    <tr>\n      <th>5</th>\n      <td>Nauru</td>\n      <td>-0.5477</td>\n      <td>166.920867</td>\n      <td>NR</td>\n    </tr>\n  </tbody>\n</table>\n</div>"
     },
     "metadata": {},
     "execution_count": 27
    }
   ],
   "source": [
    "clean_location_df=location_csv[[\"CountryName\",\"CapitalLatitude\",\"CapitalLongitude\",\"CountryCode\"]].dropna()\n",
    "clean_location_df.head()"
   ]
  },
  {
   "cell_type": "code",
   "execution_count": 28,
   "metadata": {},
   "outputs": [
    {
     "output_type": "execute_result",
     "data": {
      "text/plain": [
       "                                    Country     Latitude   Longitude  \\\n",
       "1  South Georgia and South Sandwich Islands   -54.283333  -36.500000   \n",
       "2       French Southern and Antarctic Lands       -49.35   70.216667   \n",
       "3                                 Palestine  31.76666667   35.233333   \n",
       "4                             Aland Islands    60.116667   19.900000   \n",
       "5                                     Nauru      -0.5477  166.920867   \n",
       "\n",
       "  CountryCode  \n",
       "1          GS  \n",
       "2          TF  \n",
       "3          PS  \n",
       "4          AX  \n",
       "5          NR  "
      ],
      "text/html": "<div>\n<style scoped>\n    .dataframe tbody tr th:only-of-type {\n        vertical-align: middle;\n    }\n\n    .dataframe tbody tr th {\n        vertical-align: top;\n    }\n\n    .dataframe thead th {\n        text-align: right;\n    }\n</style>\n<table border=\"1\" class=\"dataframe\">\n  <thead>\n    <tr style=\"text-align: right;\">\n      <th></th>\n      <th>Country</th>\n      <th>Latitude</th>\n      <th>Longitude</th>\n      <th>CountryCode</th>\n    </tr>\n  </thead>\n  <tbody>\n    <tr>\n      <th>1</th>\n      <td>South Georgia and South Sandwich Islands</td>\n      <td>-54.283333</td>\n      <td>-36.500000</td>\n      <td>GS</td>\n    </tr>\n    <tr>\n      <th>2</th>\n      <td>French Southern and Antarctic Lands</td>\n      <td>-49.35</td>\n      <td>70.216667</td>\n      <td>TF</td>\n    </tr>\n    <tr>\n      <th>3</th>\n      <td>Palestine</td>\n      <td>31.76666667</td>\n      <td>35.233333</td>\n      <td>PS</td>\n    </tr>\n    <tr>\n      <th>4</th>\n      <td>Aland Islands</td>\n      <td>60.116667</td>\n      <td>19.900000</td>\n      <td>AX</td>\n    </tr>\n    <tr>\n      <th>5</th>\n      <td>Nauru</td>\n      <td>-0.5477</td>\n      <td>166.920867</td>\n      <td>NR</td>\n    </tr>\n  </tbody>\n</table>\n</div>"
     },
     "metadata": {},
     "execution_count": 28
    }
   ],
   "source": [
    "clean_location_df=clean_location_df.rename(columns={\"CountryName\":\"Country\",\"CapitalLatitude\":\"Latitude\",\"CapitalLongitude\":\"Longitude\"})\n",
    "clean_location_df.head()"
   ]
  },
  {
   "cell_type": "code",
   "execution_count": 29,
   "metadata": {},
   "outputs": [
    {
     "output_type": "execute_result",
     "data": {
      "text/plain": [
       "    Country Code          1995          1996          1997          1998  \\\n",
       "0            ABW  9.120000e+05  9.570000e+05  9.470000e+05  9.060000e+05   \n",
       "2            AGO  9.000000e+03  2.100000e+04  4.500000e+04  5.200000e+04   \n",
       "3            ALB  3.040000e+05  2.870000e+05  1.190000e+05  1.840000e+05   \n",
       "5            ARB  3.023804e+07  3.055718e+07  3.169182e+07  3.356416e+07   \n",
       "7            ARG  2.289000e+06  2.614000e+06  2.764000e+06  3.012000e+06   \n",
       "..           ...           ...           ...           ...           ...   \n",
       "256          VUT  8.200000e+04  1.030000e+05  8.100000e+04  7.800000e+04   \n",
       "257          WLD  1.024979e+09  1.082486e+09  1.130316e+09  1.145612e+09   \n",
       "261          ZAF  4.684000e+06  5.186000e+06  5.170000e+06  5.898000e+06   \n",
       "262          ZMB  1.630000e+05  2.640000e+05  3.410000e+05  3.620000e+05   \n",
       "263          ZWE  1.416000e+06  1.597000e+06  1.336000e+06  2.090000e+06   \n",
       "\n",
       "             1999          2000          2001          2002          2003  \\\n",
       "0    9.720000e+05  1.211000e+06  1.178000e+06  1.225000e+06  1.184000e+06   \n",
       "2    4.500000e+04  5.100000e+04  6.700000e+04  9.100000e+04  1.070000e+05   \n",
       "3    3.710000e+05  3.170000e+05  3.540000e+05  4.700000e+05  5.570000e+05   \n",
       "5    3.784747e+07  4.140266e+07  4.260815e+07  4.867241e+07  5.160019e+07   \n",
       "7    2.898000e+06  2.909000e+06  2.620000e+06  2.820000e+06  2.995000e+06   \n",
       "..            ...           ...           ...           ...           ...   \n",
       "256  9.600000e+04  1.060000e+05  1.060000e+05  9.900000e+04  1.020000e+05   \n",
       "257  1.188192e+09  1.262413e+09  1.231352e+09  1.252355e+09  1.234392e+09   \n",
       "261  6.026000e+06  6.001000e+06  5.908000e+06  6.550000e+06  6.640000e+06   \n",
       "262  4.040000e+05  4.570000e+05  4.920000e+05  5.650000e+05  4.130000e+05   \n",
       "263  2.250000e+06  1.967000e+06  2.217000e+06  2.041000e+06  2.256000e+06   \n",
       "\n",
       "     ...          2010          2011          2012          2013  \\\n",
       "0    ...  1.394000e+06  1.469000e+06  1.481000e+06  1.667000e+06   \n",
       "2    ...  4.250000e+05  4.810000e+05  5.280000e+05  6.500000e+05   \n",
       "3    ...  2.417000e+06  2.932000e+06  3.514000e+06  3.256000e+06   \n",
       "5    ...  1.005348e+08  8.465702e+07  9.457346e+07  9.451912e+07   \n",
       "7    ...  6.800000e+06  6.703000e+06  6.497000e+06  6.510000e+06   \n",
       "..   ...           ...           ...           ...           ...   \n",
       "256  ...  2.377000e+05  2.489000e+05  3.210000e+05  3.570000e+05   \n",
       "257  ...  1.667619e+09  1.700644e+09  1.784601e+09  1.852337e+09   \n",
       "261  ...  1.130300e+07  1.209700e+07  1.306900e+07  1.431800e+07   \n",
       "262  ...  8.150000e+05  9.200000e+05  8.590000e+05  9.150000e+05   \n",
       "263  ...  2.239000e+06  2.423000e+06  1.794000e+06  1.833000e+06   \n",
       "\n",
       "             2014          2015          2016          2017          2018  \\\n",
       "0    1.739000e+06  1.832000e+06  1.758000e+06  1.863000e+06  1.897000e+06   \n",
       "2    5.950000e+05  5.920000e+05  3.970000e+05  2.610000e+05  2.180000e+05   \n",
       "3    3.673000e+06  4.131000e+06  4.736000e+06  5.118000e+06  5.927000e+06   \n",
       "5    1.007192e+08  9.675739e+07  9.498993e+07  1.013361e+08  1.091341e+08   \n",
       "7    7.165000e+06  6.816000e+06  6.668000e+06  6.711000e+06  6.942000e+06   \n",
       "..            ...           ...           ...           ...           ...   \n",
       "256  3.290000e+05  2.870000e+05  3.510000e+05  3.330000e+05  3.500000e+05   \n",
       "257  1.909107e+09  1.966290e+09  2.031531e+09  2.135215e+09  2.221459e+09   \n",
       "261  1.453000e+07  1.395200e+07  1.512100e+07  1.497500e+07  1.500400e+07   \n",
       "262  9.470000e+05  9.320000e+05  9.560000e+05  1.009000e+06  1.072000e+06   \n",
       "263  1.880000e+06  2.057000e+06  2.168000e+06  2.423000e+06  2.580000e+06   \n",
       "\n",
       "             2019  \n",
       "0    1.951000e+06  \n",
       "2    2.180000e+05  \n",
       "3    6.406000e+06  \n",
       "5    1.160803e+08  \n",
       "7    7.399000e+06  \n",
       "..            ...  \n",
       "256  2.560000e+05  \n",
       "257  2.280131e+09  \n",
       "261  1.479700e+07  \n",
       "262  1.266000e+06  \n",
       "263  2.294000e+06  \n",
       "\n",
       "[167 rows x 26 columns]"
      ],
      "text/html": "<div>\n<style scoped>\n    .dataframe tbody tr th:only-of-type {\n        vertical-align: middle;\n    }\n\n    .dataframe tbody tr th {\n        vertical-align: top;\n    }\n\n    .dataframe thead th {\n        text-align: right;\n    }\n</style>\n<table border=\"1\" class=\"dataframe\">\n  <thead>\n    <tr style=\"text-align: right;\">\n      <th></th>\n      <th>Country Code</th>\n      <th>1995</th>\n      <th>1996</th>\n      <th>1997</th>\n      <th>1998</th>\n      <th>1999</th>\n      <th>2000</th>\n      <th>2001</th>\n      <th>2002</th>\n      <th>2003</th>\n      <th>...</th>\n      <th>2010</th>\n      <th>2011</th>\n      <th>2012</th>\n      <th>2013</th>\n      <th>2014</th>\n      <th>2015</th>\n      <th>2016</th>\n      <th>2017</th>\n      <th>2018</th>\n      <th>2019</th>\n    </tr>\n  </thead>\n  <tbody>\n    <tr>\n      <th>0</th>\n      <td>ABW</td>\n      <td>9.120000e+05</td>\n      <td>9.570000e+05</td>\n      <td>9.470000e+05</td>\n      <td>9.060000e+05</td>\n      <td>9.720000e+05</td>\n      <td>1.211000e+06</td>\n      <td>1.178000e+06</td>\n      <td>1.225000e+06</td>\n      <td>1.184000e+06</td>\n      <td>...</td>\n      <td>1.394000e+06</td>\n      <td>1.469000e+06</td>\n      <td>1.481000e+06</td>\n      <td>1.667000e+06</td>\n      <td>1.739000e+06</td>\n      <td>1.832000e+06</td>\n      <td>1.758000e+06</td>\n      <td>1.863000e+06</td>\n      <td>1.897000e+06</td>\n      <td>1.951000e+06</td>\n    </tr>\n    <tr>\n      <th>2</th>\n      <td>AGO</td>\n      <td>9.000000e+03</td>\n      <td>2.100000e+04</td>\n      <td>4.500000e+04</td>\n      <td>5.200000e+04</td>\n      <td>4.500000e+04</td>\n      <td>5.100000e+04</td>\n      <td>6.700000e+04</td>\n      <td>9.100000e+04</td>\n      <td>1.070000e+05</td>\n      <td>...</td>\n      <td>4.250000e+05</td>\n      <td>4.810000e+05</td>\n      <td>5.280000e+05</td>\n      <td>6.500000e+05</td>\n      <td>5.950000e+05</td>\n      <td>5.920000e+05</td>\n      <td>3.970000e+05</td>\n      <td>2.610000e+05</td>\n      <td>2.180000e+05</td>\n      <td>2.180000e+05</td>\n    </tr>\n    <tr>\n      <th>3</th>\n      <td>ALB</td>\n      <td>3.040000e+05</td>\n      <td>2.870000e+05</td>\n      <td>1.190000e+05</td>\n      <td>1.840000e+05</td>\n      <td>3.710000e+05</td>\n      <td>3.170000e+05</td>\n      <td>3.540000e+05</td>\n      <td>4.700000e+05</td>\n      <td>5.570000e+05</td>\n      <td>...</td>\n      <td>2.417000e+06</td>\n      <td>2.932000e+06</td>\n      <td>3.514000e+06</td>\n      <td>3.256000e+06</td>\n      <td>3.673000e+06</td>\n      <td>4.131000e+06</td>\n      <td>4.736000e+06</td>\n      <td>5.118000e+06</td>\n      <td>5.927000e+06</td>\n      <td>6.406000e+06</td>\n    </tr>\n    <tr>\n      <th>5</th>\n      <td>ARB</td>\n      <td>3.023804e+07</td>\n      <td>3.055718e+07</td>\n      <td>3.169182e+07</td>\n      <td>3.356416e+07</td>\n      <td>3.784747e+07</td>\n      <td>4.140266e+07</td>\n      <td>4.260815e+07</td>\n      <td>4.867241e+07</td>\n      <td>5.160019e+07</td>\n      <td>...</td>\n      <td>1.005348e+08</td>\n      <td>8.465702e+07</td>\n      <td>9.457346e+07</td>\n      <td>9.451912e+07</td>\n      <td>1.007192e+08</td>\n      <td>9.675739e+07</td>\n      <td>9.498993e+07</td>\n      <td>1.013361e+08</td>\n      <td>1.091341e+08</td>\n      <td>1.160803e+08</td>\n    </tr>\n    <tr>\n      <th>7</th>\n      <td>ARG</td>\n      <td>2.289000e+06</td>\n      <td>2.614000e+06</td>\n      <td>2.764000e+06</td>\n      <td>3.012000e+06</td>\n      <td>2.898000e+06</td>\n      <td>2.909000e+06</td>\n      <td>2.620000e+06</td>\n      <td>2.820000e+06</td>\n      <td>2.995000e+06</td>\n      <td>...</td>\n      <td>6.800000e+06</td>\n      <td>6.703000e+06</td>\n      <td>6.497000e+06</td>\n      <td>6.510000e+06</td>\n      <td>7.165000e+06</td>\n      <td>6.816000e+06</td>\n      <td>6.668000e+06</td>\n      <td>6.711000e+06</td>\n      <td>6.942000e+06</td>\n      <td>7.399000e+06</td>\n    </tr>\n    <tr>\n      <th>...</th>\n      <td>...</td>\n      <td>...</td>\n      <td>...</td>\n      <td>...</td>\n      <td>...</td>\n      <td>...</td>\n      <td>...</td>\n      <td>...</td>\n      <td>...</td>\n      <td>...</td>\n      <td>...</td>\n      <td>...</td>\n      <td>...</td>\n      <td>...</td>\n      <td>...</td>\n      <td>...</td>\n      <td>...</td>\n      <td>...</td>\n      <td>...</td>\n      <td>...</td>\n      <td>...</td>\n    </tr>\n    <tr>\n      <th>256</th>\n      <td>VUT</td>\n      <td>8.200000e+04</td>\n      <td>1.030000e+05</td>\n      <td>8.100000e+04</td>\n      <td>7.800000e+04</td>\n      <td>9.600000e+04</td>\n      <td>1.060000e+05</td>\n      <td>1.060000e+05</td>\n      <td>9.900000e+04</td>\n      <td>1.020000e+05</td>\n      <td>...</td>\n      <td>2.377000e+05</td>\n      <td>2.489000e+05</td>\n      <td>3.210000e+05</td>\n      <td>3.570000e+05</td>\n      <td>3.290000e+05</td>\n      <td>2.870000e+05</td>\n      <td>3.510000e+05</td>\n      <td>3.330000e+05</td>\n      <td>3.500000e+05</td>\n      <td>2.560000e+05</td>\n    </tr>\n    <tr>\n      <th>257</th>\n      <td>WLD</td>\n      <td>1.024979e+09</td>\n      <td>1.082486e+09</td>\n      <td>1.130316e+09</td>\n      <td>1.145612e+09</td>\n      <td>1.188192e+09</td>\n      <td>1.262413e+09</td>\n      <td>1.231352e+09</td>\n      <td>1.252355e+09</td>\n      <td>1.234392e+09</td>\n      <td>...</td>\n      <td>1.667619e+09</td>\n      <td>1.700644e+09</td>\n      <td>1.784601e+09</td>\n      <td>1.852337e+09</td>\n      <td>1.909107e+09</td>\n      <td>1.966290e+09</td>\n      <td>2.031531e+09</td>\n      <td>2.135215e+09</td>\n      <td>2.221459e+09</td>\n      <td>2.280131e+09</td>\n    </tr>\n    <tr>\n      <th>261</th>\n      <td>ZAF</td>\n      <td>4.684000e+06</td>\n      <td>5.186000e+06</td>\n      <td>5.170000e+06</td>\n      <td>5.898000e+06</td>\n      <td>6.026000e+06</td>\n      <td>6.001000e+06</td>\n      <td>5.908000e+06</td>\n      <td>6.550000e+06</td>\n      <td>6.640000e+06</td>\n      <td>...</td>\n      <td>1.130300e+07</td>\n      <td>1.209700e+07</td>\n      <td>1.306900e+07</td>\n      <td>1.431800e+07</td>\n      <td>1.453000e+07</td>\n      <td>1.395200e+07</td>\n      <td>1.512100e+07</td>\n      <td>1.497500e+07</td>\n      <td>1.500400e+07</td>\n      <td>1.479700e+07</td>\n    </tr>\n    <tr>\n      <th>262</th>\n      <td>ZMB</td>\n      <td>1.630000e+05</td>\n      <td>2.640000e+05</td>\n      <td>3.410000e+05</td>\n      <td>3.620000e+05</td>\n      <td>4.040000e+05</td>\n      <td>4.570000e+05</td>\n      <td>4.920000e+05</td>\n      <td>5.650000e+05</td>\n      <td>4.130000e+05</td>\n      <td>...</td>\n      <td>8.150000e+05</td>\n      <td>9.200000e+05</td>\n      <td>8.590000e+05</td>\n      <td>9.150000e+05</td>\n      <td>9.470000e+05</td>\n      <td>9.320000e+05</td>\n      <td>9.560000e+05</td>\n      <td>1.009000e+06</td>\n      <td>1.072000e+06</td>\n      <td>1.266000e+06</td>\n    </tr>\n    <tr>\n      <th>263</th>\n      <td>ZWE</td>\n      <td>1.416000e+06</td>\n      <td>1.597000e+06</td>\n      <td>1.336000e+06</td>\n      <td>2.090000e+06</td>\n      <td>2.250000e+06</td>\n      <td>1.967000e+06</td>\n      <td>2.217000e+06</td>\n      <td>2.041000e+06</td>\n      <td>2.256000e+06</td>\n      <td>...</td>\n      <td>2.239000e+06</td>\n      <td>2.423000e+06</td>\n      <td>1.794000e+06</td>\n      <td>1.833000e+06</td>\n      <td>1.880000e+06</td>\n      <td>2.057000e+06</td>\n      <td>2.168000e+06</td>\n      <td>2.423000e+06</td>\n      <td>2.580000e+06</td>\n      <td>2.294000e+06</td>\n    </tr>\n  </tbody>\n</table>\n<p>167 rows × 26 columns</p>\n</div>"
     },
     "metadata": {},
     "execution_count": 29
    }
   ],
   "source": [
    "clean_arrivals_df=arrivals_csv[[\"Country Code\",\"1995\",\"1996\",\"1997\",\"1998\",\"1999\",\"2000\",\"2001\",\"2002\",\"2003\",\"2004\",\"2005\",\"2006\",\"2007\",\"2008\",\"2009\",\"2010\",\"2011\",\"2012\",\"2013\",\"2014\",\"2015\",\"2016\",\"2017\",\"2018\",\"2019\"]].dropna()\n",
    "clean_arrivals_df"
   ]
  },
  {
   "cell_type": "code",
   "execution_count": 30,
   "metadata": {},
   "outputs": [
    {
     "output_type": "execute_result",
     "data": {
      "text/plain": [
       "  Country Code  Total_arrivals_1995  Total_arrivals_1996  Total_arrivals_1997  \\\n",
       "0          ABW            912000.00            957000.00            947000.00   \n",
       "2          AGO              9000.00             21000.00             45000.00   \n",
       "3          ALB            304000.00            287000.00            119000.00   \n",
       "5          ARB          30238040.81          30557179.06          31691821.51   \n",
       "7          ARG           2289000.00           2614000.00           2764000.00   \n",
       "\n",
       "   Total_arrivals_1998  Total_arrivals_1999  Total_arrivals_2000  \\\n",
       "0            906000.00            972000.00           1211000.00   \n",
       "2             52000.00             45000.00             51000.00   \n",
       "3            184000.00            371000.00            317000.00   \n",
       "5          33564164.75          37847470.51          41402657.74   \n",
       "7           3012000.00           2898000.00           2909000.00   \n",
       "\n",
       "   Total_arrivals_2001  Total_arrivals_2002  Total_arrivals_2003  ...  \\\n",
       "0           1178000.00           1225000.00           1184000.00  ...   \n",
       "2             67000.00             91000.00            107000.00  ...   \n",
       "3            354000.00            470000.00            557000.00  ...   \n",
       "5          42608150.07          48672412.96          51600193.07  ...   \n",
       "7           2620000.00           2820000.00           2995000.00  ...   \n",
       "\n",
       "   Total_arrivals_2010  Total_arrivals_2011  Total_arrivals_2012  \\\n",
       "0            1394000.0           1469000.00           1481000.00   \n",
       "2             425000.0            481000.00            528000.00   \n",
       "3            2417000.0           2932000.00           3514000.00   \n",
       "5          100534799.2          84657021.52          94573456.57   \n",
       "7            6800000.0           6703000.00           6497000.00   \n",
       "\n",
       "   Total_arrivals_2013  Total_arrivals_2014  Total_arrivals_2015  \\\n",
       "0           1667000.00            1739000.0           1832000.00   \n",
       "2            650000.00             595000.0            592000.00   \n",
       "3           3256000.00            3673000.0           4131000.00   \n",
       "5          94519121.56          100719164.9          96757390.61   \n",
       "7           6510000.00            7165000.0           6816000.00   \n",
       "\n",
       "   Total_arrivals_2017         2017  Total_arrivals_2018  Total_arrivals_2019  \n",
       "0           1758000.00    1863000.0            1897000.0            1951000.0  \n",
       "2            397000.00     261000.0             218000.0             218000.0  \n",
       "3           4736000.00    5118000.0            5927000.0            6406000.0  \n",
       "5          94989926.05  101336098.2          109134074.9          116080347.5  \n",
       "7           6668000.00    6711000.0            6942000.0            7399000.0  \n",
       "\n",
       "[5 rows x 26 columns]"
      ],
      "text/html": "<div>\n<style scoped>\n    .dataframe tbody tr th:only-of-type {\n        vertical-align: middle;\n    }\n\n    .dataframe tbody tr th {\n        vertical-align: top;\n    }\n\n    .dataframe thead th {\n        text-align: right;\n    }\n</style>\n<table border=\"1\" class=\"dataframe\">\n  <thead>\n    <tr style=\"text-align: right;\">\n      <th></th>\n      <th>Country Code</th>\n      <th>Total_arrivals_1995</th>\n      <th>Total_arrivals_1996</th>\n      <th>Total_arrivals_1997</th>\n      <th>Total_arrivals_1998</th>\n      <th>Total_arrivals_1999</th>\n      <th>Total_arrivals_2000</th>\n      <th>Total_arrivals_2001</th>\n      <th>Total_arrivals_2002</th>\n      <th>Total_arrivals_2003</th>\n      <th>...</th>\n      <th>Total_arrivals_2010</th>\n      <th>Total_arrivals_2011</th>\n      <th>Total_arrivals_2012</th>\n      <th>Total_arrivals_2013</th>\n      <th>Total_arrivals_2014</th>\n      <th>Total_arrivals_2015</th>\n      <th>Total_arrivals_2017</th>\n      <th>2017</th>\n      <th>Total_arrivals_2018</th>\n      <th>Total_arrivals_2019</th>\n    </tr>\n  </thead>\n  <tbody>\n    <tr>\n      <th>0</th>\n      <td>ABW</td>\n      <td>912000.00</td>\n      <td>957000.00</td>\n      <td>947000.00</td>\n      <td>906000.00</td>\n      <td>972000.00</td>\n      <td>1211000.00</td>\n      <td>1178000.00</td>\n      <td>1225000.00</td>\n      <td>1184000.00</td>\n      <td>...</td>\n      <td>1394000.0</td>\n      <td>1469000.00</td>\n      <td>1481000.00</td>\n      <td>1667000.00</td>\n      <td>1739000.0</td>\n      <td>1832000.00</td>\n      <td>1758000.00</td>\n      <td>1863000.0</td>\n      <td>1897000.0</td>\n      <td>1951000.0</td>\n    </tr>\n    <tr>\n      <th>2</th>\n      <td>AGO</td>\n      <td>9000.00</td>\n      <td>21000.00</td>\n      <td>45000.00</td>\n      <td>52000.00</td>\n      <td>45000.00</td>\n      <td>51000.00</td>\n      <td>67000.00</td>\n      <td>91000.00</td>\n      <td>107000.00</td>\n      <td>...</td>\n      <td>425000.0</td>\n      <td>481000.00</td>\n      <td>528000.00</td>\n      <td>650000.00</td>\n      <td>595000.0</td>\n      <td>592000.00</td>\n      <td>397000.00</td>\n      <td>261000.0</td>\n      <td>218000.0</td>\n      <td>218000.0</td>\n    </tr>\n    <tr>\n      <th>3</th>\n      <td>ALB</td>\n      <td>304000.00</td>\n      <td>287000.00</td>\n      <td>119000.00</td>\n      <td>184000.00</td>\n      <td>371000.00</td>\n      <td>317000.00</td>\n      <td>354000.00</td>\n      <td>470000.00</td>\n      <td>557000.00</td>\n      <td>...</td>\n      <td>2417000.0</td>\n      <td>2932000.00</td>\n      <td>3514000.00</td>\n      <td>3256000.00</td>\n      <td>3673000.0</td>\n      <td>4131000.00</td>\n      <td>4736000.00</td>\n      <td>5118000.0</td>\n      <td>5927000.0</td>\n      <td>6406000.0</td>\n    </tr>\n    <tr>\n      <th>5</th>\n      <td>ARB</td>\n      <td>30238040.81</td>\n      <td>30557179.06</td>\n      <td>31691821.51</td>\n      <td>33564164.75</td>\n      <td>37847470.51</td>\n      <td>41402657.74</td>\n      <td>42608150.07</td>\n      <td>48672412.96</td>\n      <td>51600193.07</td>\n      <td>...</td>\n      <td>100534799.2</td>\n      <td>84657021.52</td>\n      <td>94573456.57</td>\n      <td>94519121.56</td>\n      <td>100719164.9</td>\n      <td>96757390.61</td>\n      <td>94989926.05</td>\n      <td>101336098.2</td>\n      <td>109134074.9</td>\n      <td>116080347.5</td>\n    </tr>\n    <tr>\n      <th>7</th>\n      <td>ARG</td>\n      <td>2289000.00</td>\n      <td>2614000.00</td>\n      <td>2764000.00</td>\n      <td>3012000.00</td>\n      <td>2898000.00</td>\n      <td>2909000.00</td>\n      <td>2620000.00</td>\n      <td>2820000.00</td>\n      <td>2995000.00</td>\n      <td>...</td>\n      <td>6800000.0</td>\n      <td>6703000.00</td>\n      <td>6497000.00</td>\n      <td>6510000.00</td>\n      <td>7165000.0</td>\n      <td>6816000.00</td>\n      <td>6668000.00</td>\n      <td>6711000.0</td>\n      <td>6942000.0</td>\n      <td>7399000.0</td>\n    </tr>\n  </tbody>\n</table>\n<p>5 rows × 26 columns</p>\n</div>"
     },
     "metadata": {},
     "execution_count": 30
    }
   ],
   "source": [
    "clean_arrivals_df=clean_arrivals_df.rename(columns={\"1995\":\"Total_arrivals_1995\",\"1996\":\"Total_arrivals_1996\",\"1997\":\"Total_arrivals_1997\",\"1998\":\"Total_arrivals_1998\",\"1999\":\"Total_arrivals_1999\",\"2000\":\"Total_arrivals_2000\",\"2001\":\"Total_arrivals_2001\",\"2002\":\"Total_arrivals_2002\",\"2003\":\"Total_arrivals_2003\",\"2004\":\"Total_arrivals_2004\",\"2005\":\"Total_arrivals_2005\",\"2006\":\"Total_arrivals_2006\",\"2007\":\"Total_arrivals_2007\",\"2008\":\"Total_arrivals_2008\",\"2009\":\"Total_arrivals_2009\",\"2010\":\"Total_arrivals_2010\",\"2011\":\"Total_arrivals_2011\",\"2012\":\"Total_arrivals_2012\",\"2013\":\"Total_arrivals_2013\",\"2014\":\"Total_arrivals_2014\",\"2015\":\"Total_arrivals_2015\",\"2016\":\"Total_arrivals_2017\",\"2018\":\"Total_arrivals_2018\",\"2019\":\"Total_arrivals_2019\"})\n",
    "clean_arrivals_df.head()"
   ]
  },
  {
   "cell_type": "code",
   "execution_count": 31,
   "metadata": {},
   "outputs": [
    {
     "output_type": "execute_result",
     "data": {
      "text/plain": [
       "  Country Code          1995          1996          1997          1998  \\\n",
       "0          ABW  5.540000e+08  6.660000e+08  7.260000e+08  7.860000e+08   \n",
       "2          AGO  2.700000e+07  3.800000e+07  2.400000e+07  3.900000e+07   \n",
       "3          ALB  7.000000e+07  9.400000e+07  3.400000e+07  6.000000e+07   \n",
       "6          ARE  6.320000e+08  7.430000e+08  8.140000e+08  8.590000e+08   \n",
       "7          ARG  2.550000e+09  2.975000e+09  3.153000e+09  3.353000e+09   \n",
       "\n",
       "           1999          2000          2001          2002          2003  ...  \\\n",
       "0  7.820000e+08  8.500000e+08  8.250000e+08  8.350000e+08  8.581000e+08  ...   \n",
       "2  3.100000e+07  3.400000e+07  3.500000e+07  5.100000e+07  6.300000e+07  ...   \n",
       "3  2.180000e+08  3.980000e+08  4.510000e+08  4.920000e+08  5.370000e+08  ...   \n",
       "6  8.930000e+08  1.063000e+09  1.200000e+09  1.332000e+09  1.438000e+09  ...   \n",
       "7  3.175000e+09  3.195000e+09  2.756000e+09  1.716000e+09  2.306000e+09  ...   \n",
       "\n",
       "           2010          2011          2012          2013          2014  \\\n",
       "0  1.254000e+09  1.358000e+09  1.412000e+09  1.506000e+09  1.625000e+09   \n",
       "2  7.260000e+08  6.530000e+08  7.110000e+08  1.241000e+09  1.597000e+09   \n",
       "3  1.778000e+09  1.833000e+09  1.623000e+09  1.670000e+09  1.849000e+09   \n",
       "6  8.577000e+09  9.204000e+09  1.092400e+10  1.238900e+10  1.522100e+10   \n",
       "7  5.605000e+09  6.058000e+09  5.665000e+09  5.199000e+09  5.645000e+09   \n",
       "\n",
       "           2015          2016          2017          2018          2019  \n",
       "0  1.659000e+09  1.757000e+09  1.855000e+09  2.029000e+09  2.091000e+09  \n",
       "2  1.171000e+09  6.280000e+08  8.840000e+08  5.570000e+08  3.950000e+08  \n",
       "3  1.613000e+09  1.821000e+09  2.050000e+09  2.306000e+09  2.458000e+09  \n",
       "6  1.748100e+10  1.949600e+10  2.104900e+10  2.137200e+10  3.841330e+10  \n",
       "7  5.441000e+09  5.466000e+09  5.830000e+09  5.999000e+09  5.654000e+09  \n",
       "\n",
       "[5 rows x 26 columns]"
      ],
      "text/html": "<div>\n<style scoped>\n    .dataframe tbody tr th:only-of-type {\n        vertical-align: middle;\n    }\n\n    .dataframe tbody tr th {\n        vertical-align: top;\n    }\n\n    .dataframe thead th {\n        text-align: right;\n    }\n</style>\n<table border=\"1\" class=\"dataframe\">\n  <thead>\n    <tr style=\"text-align: right;\">\n      <th></th>\n      <th>Country Code</th>\n      <th>1995</th>\n      <th>1996</th>\n      <th>1997</th>\n      <th>1998</th>\n      <th>1999</th>\n      <th>2000</th>\n      <th>2001</th>\n      <th>2002</th>\n      <th>2003</th>\n      <th>...</th>\n      <th>2010</th>\n      <th>2011</th>\n      <th>2012</th>\n      <th>2013</th>\n      <th>2014</th>\n      <th>2015</th>\n      <th>2016</th>\n      <th>2017</th>\n      <th>2018</th>\n      <th>2019</th>\n    </tr>\n  </thead>\n  <tbody>\n    <tr>\n      <th>0</th>\n      <td>ABW</td>\n      <td>5.540000e+08</td>\n      <td>6.660000e+08</td>\n      <td>7.260000e+08</td>\n      <td>7.860000e+08</td>\n      <td>7.820000e+08</td>\n      <td>8.500000e+08</td>\n      <td>8.250000e+08</td>\n      <td>8.350000e+08</td>\n      <td>8.581000e+08</td>\n      <td>...</td>\n      <td>1.254000e+09</td>\n      <td>1.358000e+09</td>\n      <td>1.412000e+09</td>\n      <td>1.506000e+09</td>\n      <td>1.625000e+09</td>\n      <td>1.659000e+09</td>\n      <td>1.757000e+09</td>\n      <td>1.855000e+09</td>\n      <td>2.029000e+09</td>\n      <td>2.091000e+09</td>\n    </tr>\n    <tr>\n      <th>2</th>\n      <td>AGO</td>\n      <td>2.700000e+07</td>\n      <td>3.800000e+07</td>\n      <td>2.400000e+07</td>\n      <td>3.900000e+07</td>\n      <td>3.100000e+07</td>\n      <td>3.400000e+07</td>\n      <td>3.500000e+07</td>\n      <td>5.100000e+07</td>\n      <td>6.300000e+07</td>\n      <td>...</td>\n      <td>7.260000e+08</td>\n      <td>6.530000e+08</td>\n      <td>7.110000e+08</td>\n      <td>1.241000e+09</td>\n      <td>1.597000e+09</td>\n      <td>1.171000e+09</td>\n      <td>6.280000e+08</td>\n      <td>8.840000e+08</td>\n      <td>5.570000e+08</td>\n      <td>3.950000e+08</td>\n    </tr>\n    <tr>\n      <th>3</th>\n      <td>ALB</td>\n      <td>7.000000e+07</td>\n      <td>9.400000e+07</td>\n      <td>3.400000e+07</td>\n      <td>6.000000e+07</td>\n      <td>2.180000e+08</td>\n      <td>3.980000e+08</td>\n      <td>4.510000e+08</td>\n      <td>4.920000e+08</td>\n      <td>5.370000e+08</td>\n      <td>...</td>\n      <td>1.778000e+09</td>\n      <td>1.833000e+09</td>\n      <td>1.623000e+09</td>\n      <td>1.670000e+09</td>\n      <td>1.849000e+09</td>\n      <td>1.613000e+09</td>\n      <td>1.821000e+09</td>\n      <td>2.050000e+09</td>\n      <td>2.306000e+09</td>\n      <td>2.458000e+09</td>\n    </tr>\n    <tr>\n      <th>6</th>\n      <td>ARE</td>\n      <td>6.320000e+08</td>\n      <td>7.430000e+08</td>\n      <td>8.140000e+08</td>\n      <td>8.590000e+08</td>\n      <td>8.930000e+08</td>\n      <td>1.063000e+09</td>\n      <td>1.200000e+09</td>\n      <td>1.332000e+09</td>\n      <td>1.438000e+09</td>\n      <td>...</td>\n      <td>8.577000e+09</td>\n      <td>9.204000e+09</td>\n      <td>1.092400e+10</td>\n      <td>1.238900e+10</td>\n      <td>1.522100e+10</td>\n      <td>1.748100e+10</td>\n      <td>1.949600e+10</td>\n      <td>2.104900e+10</td>\n      <td>2.137200e+10</td>\n      <td>3.841330e+10</td>\n    </tr>\n    <tr>\n      <th>7</th>\n      <td>ARG</td>\n      <td>2.550000e+09</td>\n      <td>2.975000e+09</td>\n      <td>3.153000e+09</td>\n      <td>3.353000e+09</td>\n      <td>3.175000e+09</td>\n      <td>3.195000e+09</td>\n      <td>2.756000e+09</td>\n      <td>1.716000e+09</td>\n      <td>2.306000e+09</td>\n      <td>...</td>\n      <td>5.605000e+09</td>\n      <td>6.058000e+09</td>\n      <td>5.665000e+09</td>\n      <td>5.199000e+09</td>\n      <td>5.645000e+09</td>\n      <td>5.441000e+09</td>\n      <td>5.466000e+09</td>\n      <td>5.830000e+09</td>\n      <td>5.999000e+09</td>\n      <td>5.654000e+09</td>\n    </tr>\n  </tbody>\n</table>\n<p>5 rows × 26 columns</p>\n</div>"
     },
     "metadata": {},
     "execution_count": 31
    }
   ],
   "source": [
    "clean_revenues_df=revenues_csv[[\"Country Code\",\"1995\",\"1996\",\"1997\",\"1998\",\"1999\",\"2000\",\"2001\",\"2002\",\"2003\",\"2004\",\"2005\",\"2006\",\"2007\",\"2008\",\"2009\",\"2010\",\"2011\",\"2012\",\"2013\",\"2014\",\"2015\",\"2016\",\"2017\",\"2018\",\"2019\"]].dropna()\n",
    "clean_revenues_df.head()"
   ]
  },
  {
   "cell_type": "code",
   "execution_count": 32,
   "metadata": {},
   "outputs": [
    {
     "output_type": "execute_result",
     "data": {
      "text/plain": [
       "  Country Code  Total_revenues_1995  Total_revenues_1996  Total_revenues_1997  \\\n",
       "0          ABW         5.540000e+08         6.660000e+08         7.260000e+08   \n",
       "2          AGO         2.700000e+07         3.800000e+07         2.400000e+07   \n",
       "3          ALB         7.000000e+07         9.400000e+07         3.400000e+07   \n",
       "6          ARE         6.320000e+08         7.430000e+08         8.140000e+08   \n",
       "7          ARG         2.550000e+09         2.975000e+09         3.153000e+09   \n",
       "\n",
       "   Total_revenues_1998  Total_revenues_1999  Total_revenues_2000  \\\n",
       "0         7.860000e+08         7.820000e+08         8.500000e+08   \n",
       "2         3.900000e+07         3.100000e+07         3.400000e+07   \n",
       "3         6.000000e+07         2.180000e+08         3.980000e+08   \n",
       "6         8.590000e+08         8.930000e+08         1.063000e+09   \n",
       "7         3.353000e+09         3.175000e+09         3.195000e+09   \n",
       "\n",
       "   Total_revenues_2001  Total_revenues_2002  Total_revenues_2003  ...  \\\n",
       "0         8.250000e+08         8.350000e+08         8.581000e+08  ...   \n",
       "2         3.500000e+07         5.100000e+07         6.300000e+07  ...   \n",
       "3         4.510000e+08         4.920000e+08         5.370000e+08  ...   \n",
       "6         1.200000e+09         1.332000e+09         1.438000e+09  ...   \n",
       "7         2.756000e+09         1.716000e+09         2.306000e+09  ...   \n",
       "\n",
       "   Total_revenues_2010  Total_revenues_2011  Total_revenues_2012  \\\n",
       "0         1.254000e+09         1.358000e+09         1.412000e+09   \n",
       "2         7.260000e+08         6.530000e+08         7.110000e+08   \n",
       "3         1.778000e+09         1.833000e+09         1.623000e+09   \n",
       "6         8.577000e+09         9.204000e+09         1.092400e+10   \n",
       "7         5.605000e+09         6.058000e+09         5.665000e+09   \n",
       "\n",
       "   Total_revenues_2013  Total_revenues_2014  Total_revenues_2015  \\\n",
       "0         1.506000e+09         1.625000e+09         1.659000e+09   \n",
       "2         1.241000e+09         1.597000e+09         1.171000e+09   \n",
       "3         1.670000e+09         1.849000e+09         1.613000e+09   \n",
       "6         1.238900e+10         1.522100e+10         1.748100e+10   \n",
       "7         5.199000e+09         5.645000e+09         5.441000e+09   \n",
       "\n",
       "   Total_revenues_2017          2017  Total_revenues_2018  Total_revenues_2019  \n",
       "0         1.757000e+09  1.855000e+09         2.029000e+09         2.091000e+09  \n",
       "2         6.280000e+08  8.840000e+08         5.570000e+08         3.950000e+08  \n",
       "3         1.821000e+09  2.050000e+09         2.306000e+09         2.458000e+09  \n",
       "6         1.949600e+10  2.104900e+10         2.137200e+10         3.841330e+10  \n",
       "7         5.466000e+09  5.830000e+09         5.999000e+09         5.654000e+09  \n",
       "\n",
       "[5 rows x 26 columns]"
      ],
      "text/html": "<div>\n<style scoped>\n    .dataframe tbody tr th:only-of-type {\n        vertical-align: middle;\n    }\n\n    .dataframe tbody tr th {\n        vertical-align: top;\n    }\n\n    .dataframe thead th {\n        text-align: right;\n    }\n</style>\n<table border=\"1\" class=\"dataframe\">\n  <thead>\n    <tr style=\"text-align: right;\">\n      <th></th>\n      <th>Country Code</th>\n      <th>Total_revenues_1995</th>\n      <th>Total_revenues_1996</th>\n      <th>Total_revenues_1997</th>\n      <th>Total_revenues_1998</th>\n      <th>Total_revenues_1999</th>\n      <th>Total_revenues_2000</th>\n      <th>Total_revenues_2001</th>\n      <th>Total_revenues_2002</th>\n      <th>Total_revenues_2003</th>\n      <th>...</th>\n      <th>Total_revenues_2010</th>\n      <th>Total_revenues_2011</th>\n      <th>Total_revenues_2012</th>\n      <th>Total_revenues_2013</th>\n      <th>Total_revenues_2014</th>\n      <th>Total_revenues_2015</th>\n      <th>Total_revenues_2017</th>\n      <th>2017</th>\n      <th>Total_revenues_2018</th>\n      <th>Total_revenues_2019</th>\n    </tr>\n  </thead>\n  <tbody>\n    <tr>\n      <th>0</th>\n      <td>ABW</td>\n      <td>5.540000e+08</td>\n      <td>6.660000e+08</td>\n      <td>7.260000e+08</td>\n      <td>7.860000e+08</td>\n      <td>7.820000e+08</td>\n      <td>8.500000e+08</td>\n      <td>8.250000e+08</td>\n      <td>8.350000e+08</td>\n      <td>8.581000e+08</td>\n      <td>...</td>\n      <td>1.254000e+09</td>\n      <td>1.358000e+09</td>\n      <td>1.412000e+09</td>\n      <td>1.506000e+09</td>\n      <td>1.625000e+09</td>\n      <td>1.659000e+09</td>\n      <td>1.757000e+09</td>\n      <td>1.855000e+09</td>\n      <td>2.029000e+09</td>\n      <td>2.091000e+09</td>\n    </tr>\n    <tr>\n      <th>2</th>\n      <td>AGO</td>\n      <td>2.700000e+07</td>\n      <td>3.800000e+07</td>\n      <td>2.400000e+07</td>\n      <td>3.900000e+07</td>\n      <td>3.100000e+07</td>\n      <td>3.400000e+07</td>\n      <td>3.500000e+07</td>\n      <td>5.100000e+07</td>\n      <td>6.300000e+07</td>\n      <td>...</td>\n      <td>7.260000e+08</td>\n      <td>6.530000e+08</td>\n      <td>7.110000e+08</td>\n      <td>1.241000e+09</td>\n      <td>1.597000e+09</td>\n      <td>1.171000e+09</td>\n      <td>6.280000e+08</td>\n      <td>8.840000e+08</td>\n      <td>5.570000e+08</td>\n      <td>3.950000e+08</td>\n    </tr>\n    <tr>\n      <th>3</th>\n      <td>ALB</td>\n      <td>7.000000e+07</td>\n      <td>9.400000e+07</td>\n      <td>3.400000e+07</td>\n      <td>6.000000e+07</td>\n      <td>2.180000e+08</td>\n      <td>3.980000e+08</td>\n      <td>4.510000e+08</td>\n      <td>4.920000e+08</td>\n      <td>5.370000e+08</td>\n      <td>...</td>\n      <td>1.778000e+09</td>\n      <td>1.833000e+09</td>\n      <td>1.623000e+09</td>\n      <td>1.670000e+09</td>\n      <td>1.849000e+09</td>\n      <td>1.613000e+09</td>\n      <td>1.821000e+09</td>\n      <td>2.050000e+09</td>\n      <td>2.306000e+09</td>\n      <td>2.458000e+09</td>\n    </tr>\n    <tr>\n      <th>6</th>\n      <td>ARE</td>\n      <td>6.320000e+08</td>\n      <td>7.430000e+08</td>\n      <td>8.140000e+08</td>\n      <td>8.590000e+08</td>\n      <td>8.930000e+08</td>\n      <td>1.063000e+09</td>\n      <td>1.200000e+09</td>\n      <td>1.332000e+09</td>\n      <td>1.438000e+09</td>\n      <td>...</td>\n      <td>8.577000e+09</td>\n      <td>9.204000e+09</td>\n      <td>1.092400e+10</td>\n      <td>1.238900e+10</td>\n      <td>1.522100e+10</td>\n      <td>1.748100e+10</td>\n      <td>1.949600e+10</td>\n      <td>2.104900e+10</td>\n      <td>2.137200e+10</td>\n      <td>3.841330e+10</td>\n    </tr>\n    <tr>\n      <th>7</th>\n      <td>ARG</td>\n      <td>2.550000e+09</td>\n      <td>2.975000e+09</td>\n      <td>3.153000e+09</td>\n      <td>3.353000e+09</td>\n      <td>3.175000e+09</td>\n      <td>3.195000e+09</td>\n      <td>2.756000e+09</td>\n      <td>1.716000e+09</td>\n      <td>2.306000e+09</td>\n      <td>...</td>\n      <td>5.605000e+09</td>\n      <td>6.058000e+09</td>\n      <td>5.665000e+09</td>\n      <td>5.199000e+09</td>\n      <td>5.645000e+09</td>\n      <td>5.441000e+09</td>\n      <td>5.466000e+09</td>\n      <td>5.830000e+09</td>\n      <td>5.999000e+09</td>\n      <td>5.654000e+09</td>\n    </tr>\n  </tbody>\n</table>\n<p>5 rows × 26 columns</p>\n</div>"
     },
     "metadata": {},
     "execution_count": 32
    }
   ],
   "source": [
    "clean_revenues_df=clean_revenues_df.rename(columns={\"1995\":\"Total_revenues_1995\",\"1996\":\"Total_revenues_1996\",\"1997\":\"Total_revenues_1997\",\"1998\":\"Total_revenues_1998\",\"1999\":\"Total_revenues_1999\",\"2000\":\"Total_revenues_2000\",\"2001\":\"Total_revenues_2001\",\"2002\":\"Total_revenues_2002\",\"2003\":\"Total_revenues_2003\",\"2004\":\"Total_revenues_2004\",\"2005\":\"Total_revenues_2005\",\"2006\":\"Total_revenues_2006\",\"2007\":\"Total_revenues_2007\",\"2008\":\"Total_revenues_2008\",\"2009\":\"Total_revenues_2009\",\"2010\":\"Total_revenues_2010\",\"2011\":\"Total_revenues_2011\",\"2012\":\"Total_revenues_2012\",\"2013\":\"Total_revenues_2013\",\"2014\":\"Total_revenues_2014\",\"2015\":\"Total_revenues_2015\",\"2016\":\"Total_revenues_2017\",\"2018\":\"Total_revenues_2018\",\"2019\":\"Total_revenues_2019\"})\n",
    "clean_revenues_df.head()"
   ]
  },
  {
   "cell_type": "code",
   "execution_count": 38,
   "metadata": {},
   "outputs": [
    {
     "output_type": "execute_result",
     "data": {
      "text/plain": [
       "  CountryCode CountryCode2\n",
       "0          AF          AFG\n",
       "1          AL          ALB\n",
       "2          DZ          DZA\n",
       "3          AS          ASM\n",
       "4          AD          AND"
      ],
      "text/html": "<div>\n<style scoped>\n    .dataframe tbody tr th:only-of-type {\n        vertical-align: middle;\n    }\n\n    .dataframe tbody tr th {\n        vertical-align: top;\n    }\n\n    .dataframe thead th {\n        text-align: right;\n    }\n</style>\n<table border=\"1\" class=\"dataframe\">\n  <thead>\n    <tr style=\"text-align: right;\">\n      <th></th>\n      <th>CountryCode</th>\n      <th>CountryCode2</th>\n    </tr>\n  </thead>\n  <tbody>\n    <tr>\n      <th>0</th>\n      <td>AF</td>\n      <td>AFG</td>\n    </tr>\n    <tr>\n      <th>1</th>\n      <td>AL</td>\n      <td>ALB</td>\n    </tr>\n    <tr>\n      <th>2</th>\n      <td>DZ</td>\n      <td>DZA</td>\n    </tr>\n    <tr>\n      <th>3</th>\n      <td>AS</td>\n      <td>ASM</td>\n    </tr>\n    <tr>\n      <th>4</th>\n      <td>AD</td>\n      <td>AND</td>\n    </tr>\n  </tbody>\n</table>\n</div>"
     },
     "metadata": {},
     "execution_count": 38
    }
   ],
   "source": [
    "clean_book_df=book_csv[[\"CountryCode\",\"CountryCode2\"]]\n",
    "clean_book_df.head()"
   ]
  },
  {
   "cell_type": "code",
   "execution_count": 46,
   "metadata": {},
   "outputs": [
    {
     "output_type": "execute_result",
     "data": {
      "text/plain": [
       "                                    Country     Latitude   Longitude  \\\n",
       "0  South Georgia and South Sandwich Islands   -54.283333  -36.500000   \n",
       "1       French Southern and Antarctic Lands       -49.35   70.216667   \n",
       "2                                 Palestine  31.76666667   35.233333   \n",
       "3                             Aland Islands    60.116667   19.900000   \n",
       "4                                     Nauru      -0.5477  166.920867   \n",
       "\n",
       "  CountryCode  \n",
       "0         SGS  \n",
       "1         ATF  \n",
       "2         PSE  \n",
       "3         ALA  \n",
       "4         NRU  "
      ],
      "text/html": "<div>\n<style scoped>\n    .dataframe tbody tr th:only-of-type {\n        vertical-align: middle;\n    }\n\n    .dataframe tbody tr th {\n        vertical-align: top;\n    }\n\n    .dataframe thead th {\n        text-align: right;\n    }\n</style>\n<table border=\"1\" class=\"dataframe\">\n  <thead>\n    <tr style=\"text-align: right;\">\n      <th></th>\n      <th>Country</th>\n      <th>Latitude</th>\n      <th>Longitude</th>\n      <th>CountryCode</th>\n    </tr>\n  </thead>\n  <tbody>\n    <tr>\n      <th>0</th>\n      <td>South Georgia and South Sandwich Islands</td>\n      <td>-54.283333</td>\n      <td>-36.500000</td>\n      <td>SGS</td>\n    </tr>\n    <tr>\n      <th>1</th>\n      <td>French Southern and Antarctic Lands</td>\n      <td>-49.35</td>\n      <td>70.216667</td>\n      <td>ATF</td>\n    </tr>\n    <tr>\n      <th>2</th>\n      <td>Palestine</td>\n      <td>31.76666667</td>\n      <td>35.233333</td>\n      <td>PSE</td>\n    </tr>\n    <tr>\n      <th>3</th>\n      <td>Aland Islands</td>\n      <td>60.116667</td>\n      <td>19.900000</td>\n      <td>ALA</td>\n    </tr>\n    <tr>\n      <th>4</th>\n      <td>Nauru</td>\n      <td>-0.5477</td>\n      <td>166.920867</td>\n      <td>NRU</td>\n    </tr>\n  </tbody>\n</table>\n</div>"
     },
     "metadata": {},
     "execution_count": 46
    }
   ],
   "source": [
    "merge_loc_book_df= pd.merge(clean_location_df,clean_book_df,on=\"CountryCode\")\n",
    "loc_book_df=merge_loc_book_df.drop([\"CountryCode\"],axis=1).rename(columns={\"CountryCode2\":\"CountryCode\"})\n",
    "loc_book_df.head()"
   ]
  },
  {
   "cell_type": "code",
   "execution_count": 48,
   "metadata": {},
   "outputs": [],
   "source": [
    "location=loc_book_df.to_csv(\"output/location.csv\",index=False)\n",
    "location\n"
   ]
  },
  {
   "cell_type": "code",
   "execution_count": null,
   "metadata": {},
   "outputs": [],
   "source": []
  }
 ]
}